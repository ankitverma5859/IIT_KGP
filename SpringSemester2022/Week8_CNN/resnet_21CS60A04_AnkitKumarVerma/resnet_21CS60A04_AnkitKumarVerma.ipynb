{
 "cells": [
  {
   "cell_type": "markdown",
   "id": "305f47aa",
   "metadata": {
    "id": "9XtzHJ4gRt8p",
    "papermill": {
     "duration": 0.079945,
     "end_time": "2022-03-30T13:12:46.952998",
     "exception": false,
     "start_time": "2022-03-30T13:12:46.873053",
     "status": "completed"
    },
    "tags": []
   },
   "source": [
    "# Task 2: Resnet18 on EuroSAT dataset for Image Classification"
   ]
  },
  {
   "cell_type": "markdown",
   "id": "a98da3fa",
   "metadata": {
    "id": "MgP_htCZR21y",
    "papermill": {
     "duration": 0.076725,
     "end_time": "2022-03-30T13:12:47.112705",
     "exception": false,
     "start_time": "2022-03-30T13:12:47.035980",
     "status": "completed"
    },
    "tags": []
   },
   "source": [
    "#### Name: Ankit Kumar Verma\n",
    "#### R.No: 21CS60A04"
   ]
  },
  {
   "cell_type": "markdown",
   "id": "469351f8",
   "metadata": {
    "id": "0I7yucD9e9E4",
    "papermill": {
     "duration": 0.077566,
     "end_time": "2022-03-30T13:12:47.266597",
     "exception": false,
     "start_time": "2022-03-30T13:12:47.189031",
     "status": "completed"
    },
    "tags": []
   },
   "source": [
    "#### Setting filepaths"
   ]
  },
  {
   "cell_type": "code",
   "execution_count": 10,
   "id": "7baeb937",
   "metadata": {
    "execution": {
     "iopub.execute_input": "2022-03-30T13:12:47.424401Z",
     "iopub.status.busy": "2022-03-30T13:12:47.421111Z",
     "iopub.status.idle": "2022-03-30T13:12:47.428895Z",
     "shell.execute_reply": "2022-03-30T13:12:47.428312Z",
     "shell.execute_reply.started": "2022-03-30T13:00:56.399587Z"
    },
    "id": "Lrm6YJcXfCFG",
    "papermill": {
     "duration": 0.087877,
     "end_time": "2022-03-30T13:12:47.429044",
     "exception": false,
     "start_time": "2022-03-30T13:12:47.341167",
     "status": "completed"
    },
    "tags": []
   },
   "outputs": [],
   "source": [
    "dataset_path = '../Dataset/euroSAT_train_val_test.pkl'\n",
    "logs_path = 'logs_resnet/'\n",
    "is_wandb = False\n",
    "is_drive_mount = False\n",
    "training_loss = []\n",
    "training_acc = []\n",
    "validation_loss = []\n",
    "validation_acc = []"
   ]
  },
  {
   "cell_type": "markdown",
   "id": "3d006a3c",
   "metadata": {
    "id": "95JAvM1nhzlV",
    "papermill": {
     "duration": 0.141735,
     "end_time": "2022-03-30T13:12:47.695387",
     "exception": false,
     "start_time": "2022-03-30T13:12:47.553652",
     "status": "completed"
    },
    "tags": []
   },
   "source": [
    "#### Setting Model Parameters"
   ]
  },
  {
   "cell_type": "code",
   "execution_count": 33,
   "id": "3e6090d8",
   "metadata": {
    "execution": {
     "iopub.execute_input": "2022-03-30T13:12:47.951249Z",
     "iopub.status.busy": "2022-03-30T13:12:47.950246Z",
     "iopub.status.idle": "2022-03-30T13:12:47.953035Z",
     "shell.execute_reply": "2022-03-30T13:12:47.953779Z",
     "shell.execute_reply.started": "2022-03-30T13:00:56.443128Z"
    },
    "id": "zBltRLFMhyBa",
    "papermill": {
     "duration": 0.133277,
     "end_time": "2022-03-30T13:12:47.954025",
     "exception": false,
     "start_time": "2022-03-30T13:12:47.820748",
     "status": "completed"
    },
    "tags": []
   },
   "outputs": [],
   "source": [
    "best_acc = 0  \n",
    "num_epochs = 200\n",
    "learning_rate = 0.001\n",
    "batch_size = 128"
   ]
  },
  {
   "cell_type": "markdown",
   "id": "43ad4084",
   "metadata": {
    "id": "3UgaUtSWegkW",
    "papermill": {
     "duration": 0.085167,
     "end_time": "2022-03-30T13:12:48.164682",
     "exception": false,
     "start_time": "2022-03-30T13:12:48.079515",
     "status": "completed"
    },
    "tags": []
   },
   "source": [
    "##### Installing wandb for logging the weights and biases"
   ]
  },
  {
   "cell_type": "code",
   "execution_count": 3,
   "id": "c12100eb",
   "metadata": {
    "execution": {
     "iopub.execute_input": "2022-03-30T13:12:48.316824Z",
     "iopub.status.busy": "2022-03-30T13:12:48.315924Z",
     "iopub.status.idle": "2022-03-30T13:12:58.460483Z",
     "shell.execute_reply": "2022-03-30T13:12:58.459916Z",
     "shell.execute_reply.started": "2022-03-30T13:00:56.461516Z"
    },
    "id": "u2i7sBko2oLL",
    "outputId": "91d021ad-e414-4ac3-f95f-131eedb2ebed",
    "papermill": {
     "duration": 10.224528,
     "end_time": "2022-03-30T13:12:58.460709",
     "exception": false,
     "start_time": "2022-03-30T13:12:48.236181",
     "status": "completed"
    },
    "tags": []
   },
   "outputs": [
    {
     "name": "stdout",
     "output_type": "stream",
     "text": [
      "Requirement already satisfied: wandb in /opt/conda/lib/python3.7/site-packages (0.12.11)\r\n",
      "Requirement already satisfied: docker-pycreds>=0.4.0 in /opt/conda/lib/python3.7/site-packages (from wandb) (0.4.0)\r\n",
      "Requirement already satisfied: Click!=8.0.0,>=7.0 in /opt/conda/lib/python3.7/site-packages (from wandb) (8.0.3)\r\n",
      "Requirement already satisfied: psutil>=5.0.0 in /opt/conda/lib/python3.7/site-packages (from wandb) (5.9.0)\r\n",
      "Requirement already satisfied: sentry-sdk>=1.0.0 in /opt/conda/lib/python3.7/site-packages (from wandb) (1.5.7)\r\n",
      "Requirement already satisfied: six>=1.13.0 in /opt/conda/lib/python3.7/site-packages (from wandb) (1.16.0)\r\n",
      "Requirement already satisfied: pathtools in /opt/conda/lib/python3.7/site-packages (from wandb) (0.1.2)\r\n",
      "Requirement already satisfied: yaspin>=1.0.0 in /opt/conda/lib/python3.7/site-packages (from wandb) (2.1.0)\r\n",
      "Requirement already satisfied: protobuf>=3.12.0 in /opt/conda/lib/python3.7/site-packages (from wandb) (3.19.4)\r\n",
      "Requirement already satisfied: shortuuid>=0.5.0 in /opt/conda/lib/python3.7/site-packages (from wandb) (1.0.8)\r\n",
      "Requirement already satisfied: PyYAML in /opt/conda/lib/python3.7/site-packages (from wandb) (6.0)\r\n",
      "Requirement already satisfied: python-dateutil>=2.6.1 in /opt/conda/lib/python3.7/site-packages (from wandb) (2.8.2)\r\n",
      "Requirement already satisfied: requests<3,>=2.0.0 in /opt/conda/lib/python3.7/site-packages (from wandb) (2.26.0)\r\n",
      "Requirement already satisfied: promise<3,>=2.0 in /opt/conda/lib/python3.7/site-packages (from wandb) (2.3)\r\n",
      "Requirement already satisfied: GitPython>=1.0.0 in /opt/conda/lib/python3.7/site-packages (from wandb) (3.1.24)\r\n",
      "Requirement already satisfied: setproctitle in /opt/conda/lib/python3.7/site-packages (from wandb) (1.2.2)\r\n",
      "Requirement already satisfied: importlib-metadata in /opt/conda/lib/python3.7/site-packages (from Click!=8.0.0,>=7.0->wandb) (4.11.3)\r\n",
      "Requirement already satisfied: typing-extensions>=3.7.4.3 in /opt/conda/lib/python3.7/site-packages (from GitPython>=1.0.0->wandb) (4.1.1)\r\n",
      "Requirement already satisfied: gitdb<5,>=4.0.1 in /opt/conda/lib/python3.7/site-packages (from GitPython>=1.0.0->wandb) (4.0.9)\r\n",
      "Requirement already satisfied: charset-normalizer~=2.0.0 in /opt/conda/lib/python3.7/site-packages (from requests<3,>=2.0.0->wandb) (2.0.9)\r\n",
      "Requirement already satisfied: certifi>=2017.4.17 in /opt/conda/lib/python3.7/site-packages (from requests<3,>=2.0.0->wandb) (2021.10.8)\r\n",
      "Requirement already satisfied: urllib3<1.27,>=1.21.1 in /opt/conda/lib/python3.7/site-packages (from requests<3,>=2.0.0->wandb) (1.26.7)\r\n",
      "Requirement already satisfied: idna<4,>=2.5 in /opt/conda/lib/python3.7/site-packages (from requests<3,>=2.0.0->wandb) (3.1)\r\n",
      "Requirement already satisfied: termcolor<2.0.0,>=1.1.0 in /opt/conda/lib/python3.7/site-packages (from yaspin>=1.0.0->wandb) (1.1.0)\r\n",
      "Requirement already satisfied: smmap<6,>=3.0.1 in /opt/conda/lib/python3.7/site-packages (from gitdb<5,>=4.0.1->GitPython>=1.0.0->wandb) (3.0.5)\r\n",
      "Requirement already satisfied: zipp>=0.5 in /opt/conda/lib/python3.7/site-packages (from importlib-metadata->Click!=8.0.0,>=7.0->wandb) (3.6.0)\r\n",
      "\u001b[33mWARNING: Running pip as the 'root' user can result in broken permissions and conflicting behaviour with the system package manager. It is recommended to use a virtual environment instead: https://pip.pypa.io/warnings/venv\u001b[0m\r\n"
     ]
    }
   ],
   "source": [
    "!pip install wandb"
   ]
  },
  {
   "cell_type": "markdown",
   "id": "f2c7be21",
   "metadata": {
    "id": "WMvk9vVCR5UH",
    "papermill": {
     "duration": 0.145268,
     "end_time": "2022-03-30T13:12:58.764191",
     "exception": false,
     "start_time": "2022-03-30T13:12:58.618923",
     "status": "completed"
    },
    "tags": []
   },
   "source": [
    "#### Importing required libraries"
   ]
  },
  {
   "cell_type": "code",
   "execution_count": 2,
   "id": "7c539322",
   "metadata": {},
   "outputs": [
    {
     "name": "stdout",
     "output_type": "stream",
     "text": [
      "Requirement already satisfied: gdown in /opt/homebrew/Caskroom/miniforge/base/envs/pytorch_p396/lib/python3.9/site-packages (4.4.0)\r\n",
      "Requirement already satisfied: six in /opt/homebrew/Caskroom/miniforge/base/envs/pytorch_p396/lib/python3.9/site-packages (from gdown) (1.16.0)\r\n",
      "Requirement already satisfied: filelock in /opt/homebrew/Caskroom/miniforge/base/envs/pytorch_p396/lib/python3.9/site-packages (from gdown) (3.6.0)\r\n",
      "Requirement already satisfied: beautifulsoup4 in /opt/homebrew/Caskroom/miniforge/base/envs/pytorch_p396/lib/python3.9/site-packages (from gdown) (4.10.0)\r\n",
      "Requirement already satisfied: tqdm in /opt/homebrew/Caskroom/miniforge/base/envs/pytorch_p396/lib/python3.9/site-packages (from gdown) (4.63.1)\r\n",
      "Requirement already satisfied: requests[socks] in /opt/homebrew/Caskroom/miniforge/base/envs/pytorch_p396/lib/python3.9/site-packages (from gdown) (2.27.1)\r\n",
      "Requirement already satisfied: soupsieve>1.2 in /opt/homebrew/Caskroom/miniforge/base/envs/pytorch_p396/lib/python3.9/site-packages (from beautifulsoup4->gdown) (2.3.1)\r\n",
      "Requirement already satisfied: idna<4,>=2.5 in /opt/homebrew/Caskroom/miniforge/base/envs/pytorch_p396/lib/python3.9/site-packages (from requests[socks]->gdown) (3.3)\r\n",
      "Requirement already satisfied: charset-normalizer~=2.0.0 in /opt/homebrew/Caskroom/miniforge/base/envs/pytorch_p396/lib/python3.9/site-packages (from requests[socks]->gdown) (2.0.12)\r\n",
      "Requirement already satisfied: urllib3<1.27,>=1.21.1 in /opt/homebrew/Caskroom/miniforge/base/envs/pytorch_p396/lib/python3.9/site-packages (from requests[socks]->gdown) (1.26.9)\r\n",
      "Requirement already satisfied: certifi>=2017.4.17 in /opt/homebrew/Caskroom/miniforge/base/envs/pytorch_p396/lib/python3.9/site-packages (from requests[socks]->gdown) (2021.5.30)\r\n",
      "Requirement already satisfied: PySocks!=1.5.7,>=1.5.6 in /opt/homebrew/Caskroom/miniforge/base/envs/pytorch_p396/lib/python3.9/site-packages (from requests[socks]->gdown) (1.7.1)\r\n"
     ]
    }
   ],
   "source": [
    "!pip install gdown"
   ]
  },
  {
   "cell_type": "code",
   "execution_count": 3,
   "id": "f663a0e9",
   "metadata": {
    "execution": {
     "iopub.execute_input": "2022-03-30T13:12:59.032635Z",
     "iopub.status.busy": "2022-03-30T13:12:59.031610Z",
     "iopub.status.idle": "2022-03-30T13:13:02.622445Z",
     "shell.execute_reply": "2022-03-30T13:13:02.621846Z",
     "shell.execute_reply.started": "2022-03-30T13:01:06.449928Z"
    },
    "id": "PdeboL1mNff1",
    "papermill": {
     "duration": 3.729117,
     "end_time": "2022-03-30T13:13:02.622640",
     "exception": false,
     "start_time": "2022-03-30T13:12:58.893523",
     "status": "completed"
    },
    "tags": []
   },
   "outputs": [],
   "source": [
    "import pickle\n",
    "import os\n",
    "import torch\n",
    "import torch.nn as nn\n",
    "import torch.nn.functional as F\n",
    "import torchvision\n",
    "import numpy as np\n",
    "import itertools\n",
    "import torchvision.transforms as tt\n",
    "from torch.utils.data.dataloader import DataLoader\n",
    "from torchvision.transforms import ToTensor\n",
    "from torchvision.utils import make_grid\n",
    "import matplotlib.pyplot as plt\n",
    "from sklearn.metrics import confusion_matrix, ConfusionMatrixDisplay, recall_score\n",
    "import wandb\n",
    "import torchvision.models as models\n",
    "import torch.optim as optim\n",
    "import gdown\n",
    "from pathlib import Path"
   ]
  },
  {
   "cell_type": "markdown",
   "id": "e4bb1cf1",
   "metadata": {
    "id": "RDBXBBLHfWoe",
    "papermill": {
     "duration": 0.08141,
     "end_time": "2022-03-30T13:13:02.785035",
     "exception": false,
     "start_time": "2022-03-30T13:13:02.703625",
     "status": "completed"
    },
    "tags": []
   },
   "source": [
    "#### Mounting Drive for dataset and login to wandb"
   ]
  },
  {
   "cell_type": "code",
   "execution_count": 5,
   "id": "fd656b6e",
   "metadata": {
    "execution": {
     "iopub.execute_input": "2022-03-30T13:13:02.948061Z",
     "iopub.status.busy": "2022-03-30T13:13:02.947214Z",
     "iopub.status.idle": "2022-03-30T13:13:02.951424Z",
     "shell.execute_reply": "2022-03-30T13:13:02.950858Z",
     "shell.execute_reply.started": "2022-03-30T13:01:06.462619Z"
    },
    "id": "_U5Vx7j_2xSx",
    "papermill": {
     "duration": 0.086541,
     "end_time": "2022-03-30T13:13:02.951550",
     "exception": false,
     "start_time": "2022-03-30T13:13:02.865009",
     "status": "completed"
    },
    "tags": []
   },
   "outputs": [],
   "source": [
    "if is_wandb:\n",
    "  wandb.login()"
   ]
  },
  {
   "cell_type": "markdown",
   "id": "497be0d0",
   "metadata": {
    "id": "Z3ubphPBSAWf",
    "papermill": {
     "duration": 0.076598,
     "end_time": "2022-03-30T13:13:03.103840",
     "exception": false,
     "start_time": "2022-03-30T13:13:03.027242",
     "status": "completed"
    },
    "tags": []
   },
   "source": [
    "#### Setting the random_seed to 04 (Roll Number: 21CS60A04)"
   ]
  },
  {
   "cell_type": "code",
   "execution_count": 6,
   "id": "91c092aa",
   "metadata": {
    "execution": {
     "iopub.execute_input": "2022-03-30T13:13:03.262546Z",
     "iopub.status.busy": "2022-03-30T13:13:03.261897Z",
     "iopub.status.idle": "2022-03-30T13:13:03.272676Z",
     "shell.execute_reply": "2022-03-30T13:13:03.273241Z",
     "shell.execute_reply.started": "2022-03-30T13:01:06.476746Z"
    },
    "id": "Gg18Vw83P1Uq",
    "outputId": "287c532c-ecbd-4973-c3bf-f827829f121d",
    "papermill": {
     "duration": 0.093755,
     "end_time": "2022-03-30T13:13:03.273390",
     "exception": false,
     "start_time": "2022-03-30T13:13:03.179635",
     "status": "completed"
    },
    "tags": []
   },
   "outputs": [
    {
     "data": {
      "text/plain": [
       "<torch._C.Generator at 0x7f68802c95d0>"
      ]
     },
     "execution_count": 6,
     "metadata": {},
     "output_type": "execute_result"
    }
   ],
   "source": [
    "# random seed initialized the random number generator of pytorch. \n",
    "# It ensures that same random number is generated for all the runs/executions\n",
    "random_seed = int(4)\n",
    "torch.manual_seed(random_seed)"
   ]
  },
  {
   "cell_type": "markdown",
   "id": "8e5412f9",
   "metadata": {
    "id": "fVibxdUBSHXo",
    "papermill": {
     "duration": 0.076751,
     "end_time": "2022-03-30T13:13:03.429307",
     "exception": false,
     "start_time": "2022-03-30T13:13:03.352556",
     "status": "completed"
    },
    "tags": []
   },
   "source": [
    "#### Loading the Dataset"
   ]
  },
  {
   "cell_type": "code",
   "execution_count": 14,
   "id": "22bd0070",
   "metadata": {
    "execution": {
     "iopub.execute_input": "2022-03-30T13:13:03.595013Z",
     "iopub.status.busy": "2022-03-30T13:13:03.594170Z",
     "iopub.status.idle": "2022-03-30T13:13:03.597555Z",
     "shell.execute_reply": "2022-03-30T13:13:03.598048Z",
     "shell.execute_reply.started": "2022-03-30T13:01:06.489895Z"
    },
    "id": "6XLxJMwWQI1K",
    "outputId": "ad4aee7d-b342-4abc-bba8-12cec67ef582",
    "papermill": {
     "duration": 0.087269,
     "end_time": "2022-03-30T13:13:03.598215",
     "exception": false,
     "start_time": "2022-03-30T13:13:03.510946",
     "status": "completed"
    },
    "tags": []
   },
   "outputs": [
    {
     "data": {
      "text/plain": [
       "10"
      ]
     },
     "execution_count": 14,
     "metadata": {},
     "output_type": "execute_result"
    }
   ],
   "source": [
    "dataset_classes = ['AnnualCrop', 'Forest', 'HerbaceousVeg', 'Highway', 'Industrial', 'Pasture', 'PermanentCrop', 'Residential', 'River', 'SeaLake']\n",
    "len_dataset_classes = len(dataset_classes)\n",
    "len_dataset_classes"
   ]
  },
  {
   "cell_type": "code",
   "execution_count": 11,
   "id": "4c237277",
   "metadata": {
    "execution": {
     "iopub.execute_input": "2022-03-30T13:13:03.755750Z",
     "iopub.status.busy": "2022-03-30T13:13:03.754540Z",
     "iopub.status.idle": "2022-03-30T13:13:13.987450Z",
     "shell.execute_reply": "2022-03-30T13:13:13.988270Z",
     "shell.execute_reply.started": "2022-03-30T13:01:06.508100Z"
    },
    "id": "q8sdQGvBQzEE",
    "papermill": {
     "duration": 10.314231,
     "end_time": "2022-03-30T13:13:13.988482",
     "exception": false,
     "start_time": "2022-03-30T13:13:03.674251",
     "status": "completed"
    },
    "tags": []
   },
   "outputs": [],
   "source": [
    "with open(dataset_path, 'rb') as f:\n",
    "    train_set, val_set, test_set = pickle.load(f)"
   ]
  },
  {
   "cell_type": "code",
   "execution_count": 12,
   "id": "a18b0864",
   "metadata": {
    "execution": {
     "iopub.execute_input": "2022-03-30T13:13:14.262077Z",
     "iopub.status.busy": "2022-03-30T13:13:14.261065Z",
     "iopub.status.idle": "2022-03-30T13:13:14.268705Z",
     "shell.execute_reply": "2022-03-30T13:13:14.269204Z",
     "shell.execute_reply.started": "2022-03-30T13:01:07.895726Z"
    },
    "id": "SpxeHm6pRWFQ",
    "outputId": "263756d0-e67b-4fbb-ab53-16e859c6222b",
    "papermill": {
     "duration": 0.144398,
     "end_time": "2022-03-30T13:13:14.269351",
     "exception": false,
     "start_time": "2022-03-30T13:13:14.124953",
     "status": "completed"
    },
    "tags": []
   },
   "outputs": [
    {
     "name": "stdout",
     "output_type": "stream",
     "text": [
      "Length of Training Set: 18792\n",
      "Length of Validation Set: 2808\n",
      "Length of Test Set: 5400\n"
     ]
    }
   ],
   "source": [
    "len_trainset = len(train_set)\n",
    "len_valset = len(val_set)\n",
    "len_testset = len(test_set)\n",
    "print(f'Length of Training Set: {len_trainset}\\nLength of Validation Set: {len_valset}\\nLength of Test Set: {len_testset}')"
   ]
  },
  {
   "cell_type": "markdown",
   "id": "e5f0217a",
   "metadata": {
    "id": "C9Rm5xsOSLXe",
    "papermill": {
     "duration": 0.14219,
     "end_time": "2022-03-30T13:13:14.545718",
     "exception": false,
     "start_time": "2022-03-30T13:13:14.403528",
     "status": "completed"
    },
    "tags": []
   },
   "source": [
    "#### Extracting an instance from the dataset"
   ]
  },
  {
   "cell_type": "code",
   "execution_count": 27,
   "id": "aeba347c",
   "metadata": {
    "execution": {
     "iopub.execute_input": "2022-03-30T13:13:14.820231Z",
     "iopub.status.busy": "2022-03-30T13:13:14.818472Z",
     "iopub.status.idle": "2022-03-30T13:13:14.824713Z",
     "shell.execute_reply": "2022-03-30T13:13:14.819376Z",
     "shell.execute_reply.started": "2022-03-30T13:01:07.906047Z"
    },
    "id": "f3GMPPkyRkof",
    "outputId": "678fcf5d-f08b-4123-a90e-38a65b625976",
    "papermill": {
     "duration": 0.150122,
     "end_time": "2022-03-30T13:13:14.825162",
     "exception": false,
     "start_time": "2022-03-30T13:13:14.675040",
     "status": "completed"
    },
    "tags": []
   },
   "outputs": [
    {
     "name": "stdout",
     "output_type": "stream",
     "text": [
      "Image: <class 'numpy.ndarray'>\n",
      "[[[0.41960785 0.4745098  0.42745098 ... 0.54509807 0.5372549  0.49411765]\n",
      "  [0.43529412 0.4627451  0.40784314 ... 0.5568628  0.5372549  0.46666667]\n",
      "  [0.44313726 0.44313726 0.38039216 ... 0.4627451  0.41568628 0.38039216]\n",
      "  ...\n",
      "  [0.5176471  0.5176471  0.49803922 ... 0.44705883 0.4509804  0.48235294]\n",
      "  [0.5058824  0.5137255  0.53333336 ... 0.4862745  0.42352942 0.46666667]\n",
      "  [0.48235294 0.4745098  0.4745098  ... 0.41568628 0.3764706  0.45882353]]\n",
      "\n",
      " [[0.47843137 0.45490196 0.38039216 ... 0.5294118  0.5176471  0.47058824]\n",
      "  [0.47058824 0.45882353 0.38039216 ... 0.52156866 0.5137255  0.4745098 ]\n",
      "  [0.4627451  0.45882353 0.3882353  ... 0.41568628 0.4        0.40784314]\n",
      "  ...\n",
      "  [0.50980395 0.5137255  0.5058824  ... 0.41568628 0.4117647  0.43137255]\n",
      "  [0.49803922 0.5019608  0.5294118  ... 0.46666667 0.4        0.44313726]\n",
      "  [0.45882353 0.4627451  0.47058824 ... 0.4117647  0.37254903 0.47058824]]\n",
      "\n",
      " [[0.49019608 0.47058824 0.39607844 ... 0.5254902  0.53333336 0.50980395]\n",
      "  [0.49019608 0.48235294 0.4117647  ... 0.5411765  0.5529412  0.53333336]\n",
      "  [0.4862745  0.49411765 0.43529412 ... 0.4627451  0.45882353 0.48235294]\n",
      "  ...\n",
      "  [0.5647059  0.5686275  0.5568628  ... 0.45882353 0.45490196 0.47058824]\n",
      "  [0.54901963 0.54509807 0.56078434 ... 0.49411765 0.4392157  0.48235294]\n",
      "  [0.5058824  0.49803922 0.49411765 ... 0.43137255 0.39607844 0.5058824 ]]]\n",
      "Label: <class 'int'>\n",
      "7 : Residential\n"
     ]
    }
   ],
   "source": [
    "img, label = train_set[0]\n",
    "print(f'Image: {type(img)}')\n",
    "print(img)\n",
    "print(f'Label: {type(label)}')\n",
    "print(f'{label} : {dataset_classes[label]}')"
   ]
  },
  {
   "cell_type": "markdown",
   "id": "0e8216c9",
   "metadata": {
    "id": "ob7BHPH5SQdQ",
    "papermill": {
     "duration": 0.125364,
     "end_time": "2022-03-30T13:13:15.078148",
     "exception": false,
     "start_time": "2022-03-30T13:13:14.952784",
     "status": "completed"
    },
    "tags": []
   },
   "source": [
    "#### Converting train_dataset to Tensors"
   ]
  },
  {
   "cell_type": "code",
   "execution_count": 28,
   "id": "31da8d30",
   "metadata": {
    "execution": {
     "iopub.execute_input": "2022-03-30T13:13:15.320930Z",
     "iopub.status.busy": "2022-03-30T13:13:15.320209Z",
     "iopub.status.idle": "2022-03-30T13:13:16.199071Z",
     "shell.execute_reply": "2022-03-30T13:13:16.198225Z",
     "shell.execute_reply.started": "2022-03-30T13:01:07.923987Z"
    },
    "id": "C59w-coFRmK7",
    "papermill": {
     "duration": 0.9955,
     "end_time": "2022-03-30T13:13:16.199215",
     "exception": false,
     "start_time": "2022-03-30T13:13:15.203715",
     "status": "completed"
    },
    "tags": []
   },
   "outputs": [],
   "source": [
    "train_dataset = []\n",
    "for itr in range(len_trainset):\n",
    "    data = []\n",
    "    img = torch.tensor(train_set[itr][0])\n",
    "    lbl = train_set[itr][1]\n",
    "    data.append(img)\n",
    "    data.append(lbl)\n",
    "    train_dataset.append(data)"
   ]
  },
  {
   "cell_type": "markdown",
   "id": "634004a3",
   "metadata": {
    "id": "CosL2-ulST4n",
    "papermill": {
     "duration": 0.079255,
     "end_time": "2022-03-30T13:13:16.359063",
     "exception": false,
     "start_time": "2022-03-30T13:13:16.279808",
     "status": "completed"
    },
    "tags": []
   },
   "source": [
    "##### Extracting an instance from train_dataset(Tensors)"
   ]
  },
  {
   "cell_type": "code",
   "execution_count": 29,
   "id": "a81ba96a",
   "metadata": {
    "execution": {
     "iopub.execute_input": "2022-03-30T13:13:16.524256Z",
     "iopub.status.busy": "2022-03-30T13:13:16.522033Z",
     "iopub.status.idle": "2022-03-30T13:13:16.527343Z",
     "shell.execute_reply": "2022-03-30T13:13:16.526790Z",
     "shell.execute_reply.started": "2022-03-30T13:01:08.857496Z"
    },
    "id": "8LOE6xY3SWU4",
    "outputId": "2dc30fdb-b049-4847-88ed-cd8da27254a6",
    "papermill": {
     "duration": 0.090282,
     "end_time": "2022-03-30T13:13:16.527478",
     "exception": false,
     "start_time": "2022-03-30T13:13:16.437196",
     "status": "completed"
    },
    "tags": []
   },
   "outputs": [
    {
     "name": "stdout",
     "output_type": "stream",
     "text": [
      "Image1 Shape:\ttorch.Size([3, 64, 64])\n",
      "Image1 label:\tResidential\n",
      "Image2 Shape:\ttorch.Size([3, 64, 64])\n",
      "Image2 label:\tIndustrial\n"
     ]
    }
   ],
   "source": [
    "img1, label1 = train_dataset[0]\n",
    "img2, label2 = train_dataset[1]\n",
    "print(f'Image1 Shape:\\t{img1.shape}\\nImage1 label:\\t{dataset_classes[label1]}')\n",
    "print(f'Image2 Shape:\\t{img2.shape}\\nImage2 label:\\t{dataset_classes[label2]}')"
   ]
  },
  {
   "cell_type": "markdown",
   "id": "cb46928e",
   "metadata": {
    "id": "6sRNgs3VRsWR",
    "papermill": {
     "duration": 0.082781,
     "end_time": "2022-03-30T13:13:16.689031",
     "exception": false,
     "start_time": "2022-03-30T13:13:16.606250",
     "status": "completed"
    },
    "tags": []
   },
   "source": [
    "#### Converting val_set to Tensors"
   ]
  },
  {
   "cell_type": "code",
   "execution_count": 30,
   "id": "74b29c16",
   "metadata": {
    "execution": {
     "iopub.execute_input": "2022-03-30T13:13:16.860428Z",
     "iopub.status.busy": "2022-03-30T13:13:16.859281Z",
     "iopub.status.idle": "2022-03-30T13:13:16.994993Z",
     "shell.execute_reply": "2022-03-30T13:13:16.995509Z",
     "shell.execute_reply.started": "2022-03-30T13:01:08.866722Z"
    },
    "id": "5MHQvY84SbmT",
    "papermill": {
     "duration": 0.224374,
     "end_time": "2022-03-30T13:13:16.995732",
     "exception": false,
     "start_time": "2022-03-30T13:13:16.771358",
     "status": "completed"
    },
    "tags": []
   },
   "outputs": [],
   "source": [
    "val_dataset = []\n",
    "val_actual_labels = []\n",
    "for itr in range(len_valset):\n",
    "    data = []\n",
    "    img = torch.tensor(val_set[itr][0])\n",
    "    lbl = val_set[itr][1]\n",
    "    data.append(img)\n",
    "    data.append(lbl)\n",
    "    val_actual_labels.append(lbl)\n",
    "    val_dataset.append(data)"
   ]
  },
  {
   "cell_type": "markdown",
   "id": "c4a3add7",
   "metadata": {
    "id": "5xFmxY1uSj5G",
    "papermill": {
     "duration": 0.077416,
     "end_time": "2022-03-30T13:13:17.155038",
     "exception": false,
     "start_time": "2022-03-30T13:13:17.077622",
     "status": "completed"
    },
    "tags": []
   },
   "source": [
    "#### Converting test_set to Tensors"
   ]
  },
  {
   "cell_type": "code",
   "execution_count": 31,
   "id": "ba90aed4",
   "metadata": {
    "execution": {
     "iopub.execute_input": "2022-03-30T13:13:17.319910Z",
     "iopub.status.busy": "2022-03-30T13:13:17.318681Z",
     "iopub.status.idle": "2022-03-30T13:13:17.561982Z",
     "shell.execute_reply": "2022-03-30T13:13:17.561299Z",
     "shell.execute_reply.started": "2022-03-30T13:01:08.979836Z"
    },
    "id": "UdYMwE3SSeBb",
    "papermill": {
     "duration": 0.328543,
     "end_time": "2022-03-30T13:13:17.562138",
     "exception": false,
     "start_time": "2022-03-30T13:13:17.233595",
     "status": "completed"
    },
    "tags": []
   },
   "outputs": [],
   "source": [
    "test_dataset = []\n",
    "test_actual_labels = []\n",
    "for itr in range(len_testset):\n",
    "    data = []\n",
    "    img = torch.tensor(test_set[itr][0])\n",
    "    lbl = test_set[itr][1]\n",
    "    data.append(img)\n",
    "    data.append(lbl)\n",
    "    test_actual_labels.append(lbl)\n",
    "    test_dataset.append(data)"
   ]
  },
  {
   "cell_type": "markdown",
   "id": "ed1291f5",
   "metadata": {
    "id": "c4xveuT1c3PB",
    "papermill": {
     "duration": 0.081063,
     "end_time": "2022-03-30T13:13:17.725408",
     "exception": false,
     "start_time": "2022-03-30T13:13:17.644345",
     "status": "completed"
    },
    "tags": []
   },
   "source": [
    "#### Creating the training, validation, test dataloaders"
   ]
  },
  {
   "cell_type": "code",
   "execution_count": 34,
   "id": "34d2624b",
   "metadata": {
    "execution": {
     "iopub.execute_input": "2022-03-30T13:13:17.884061Z",
     "iopub.status.busy": "2022-03-30T13:13:17.883199Z",
     "iopub.status.idle": "2022-03-30T13:13:17.887529Z",
     "shell.execute_reply": "2022-03-30T13:13:17.887047Z",
     "shell.execute_reply.started": "2022-03-30T13:01:09.231920Z"
    },
    "id": "P7Bp_sHqdDEf",
    "papermill": {
     "duration": 0.086099,
     "end_time": "2022-03-30T13:13:17.887691",
     "exception": false,
     "start_time": "2022-03-30T13:13:17.801592",
     "status": "completed"
    },
    "tags": []
   },
   "outputs": [],
   "source": [
    "train_dl = DataLoader(train_dataset, \n",
    "                      batch_size,\n",
    "                      shuffle=True,\n",
    "                      num_workers=2,\n",
    "                      pin_memory=True)\n",
    "val_dl = DataLoader(val_dataset, \n",
    "                  batch_size*2,\n",
    "                  num_workers=2,\n",
    "                  pin_memory=True)\n",
    "test_dl = DataLoader(test_dataset, \n",
    "                  batch_size*2,\n",
    "                  num_workers=2,\n",
    "                  pin_memory=True)  "
   ]
  },
  {
   "cell_type": "markdown",
   "id": "bedfe4f3",
   "metadata": {
    "id": "T6jRIgKCicRY",
    "papermill": {
     "duration": 0.074637,
     "end_time": "2022-03-30T13:13:18.039502",
     "exception": false,
     "start_time": "2022-03-30T13:13:17.964865",
     "status": "completed"
    },
    "tags": []
   },
   "source": [
    "#### Helper methods to select device for processing and loading data to selected device"
   ]
  },
  {
   "cell_type": "code",
   "execution_count": 17,
   "id": "70f0f79f",
   "metadata": {
    "execution": {
     "iopub.execute_input": "2022-03-30T13:13:18.209415Z",
     "iopub.status.busy": "2022-03-30T13:13:18.207290Z",
     "iopub.status.idle": "2022-03-30T13:13:18.210227Z",
     "shell.execute_reply": "2022-03-30T13:13:18.210800Z",
     "shell.execute_reply.started": "2022-03-30T13:01:09.303811Z"
    },
    "id": "uiCcz6SNejCp",
    "papermill": {
     "duration": 0.091913,
     "end_time": "2022-03-30T13:13:18.210971",
     "exception": false,
     "start_time": "2022-03-30T13:13:18.119058",
     "status": "completed"
    },
    "tags": []
   },
   "outputs": [],
   "source": [
    "# Helper method to select the device for processing\n",
    "# Selects GPU if availble\n",
    "def get_default_device():\n",
    "    if torch.cuda.is_available():\n",
    "        return torch.device('cuda')\n",
    "    else:\n",
    "        return torch.device('cpu')\n",
    "    \n",
    "# Helper mehtod to move tensor to selected device    \n",
    "def to_device(data, device):\n",
    "    if isinstance(data, (list,tuple)):\n",
    "        return [to_device(x, device) for x in data]\n",
    "    return data.to(device, non_blocking=True)\n",
    "\n",
    "# Helper class to move data to selected device\n",
    "class DeviceDataLoader():\n",
    "    def __init__(self, dl, device):\n",
    "        self.dl = dl\n",
    "        self.device = device\n",
    "        \n",
    "    def __iter__(self):\n",
    "        for b in self.dl: \n",
    "            yield to_device(b, self.device)\n",
    "\n",
    "    def __len__(self):\n",
    "        \"\"\"Number of batches\"\"\"\n",
    "        return len(self.dl)"
   ]
  },
  {
   "cell_type": "code",
   "execution_count": 18,
   "id": "d9649132",
   "metadata": {
    "execution": {
     "iopub.execute_input": "2022-03-30T13:13:18.420246Z",
     "iopub.status.busy": "2022-03-30T13:13:18.418256Z",
     "iopub.status.idle": "2022-03-30T13:13:18.424166Z",
     "shell.execute_reply": "2022-03-30T13:13:18.424764Z",
     "shell.execute_reply.started": "2022-03-30T13:01:09.317732Z"
    },
    "id": "8u7bbTpYewSe",
    "outputId": "7d140695-beb4-4aa0-8295-ef7a768cad7e",
    "papermill": {
     "duration": 0.134044,
     "end_time": "2022-03-30T13:13:18.424948",
     "exception": false,
     "start_time": "2022-03-30T13:13:18.290904",
     "status": "completed"
    },
    "tags": []
   },
   "outputs": [
    {
     "data": {
      "text/plain": [
       "device(type='cpu')"
      ]
     },
     "execution_count": 18,
     "metadata": {},
     "output_type": "execute_result"
    }
   ],
   "source": [
    "device = get_default_device()\n",
    "device"
   ]
  },
  {
   "cell_type": "markdown",
   "id": "cee82391",
   "metadata": {
    "id": "Vf3xgdG5ilfv",
    "papermill": {
     "duration": 0.081459,
     "end_time": "2022-03-30T13:13:18.587366",
     "exception": false,
     "start_time": "2022-03-30T13:13:18.505907",
     "status": "completed"
    },
    "tags": []
   },
   "source": [
    "#### Loading data to selected device"
   ]
  },
  {
   "cell_type": "code",
   "execution_count": 18,
   "id": "75aacba0",
   "metadata": {
    "execution": {
     "iopub.execute_input": "2022-03-30T13:13:18.757494Z",
     "iopub.status.busy": "2022-03-30T13:13:18.755221Z",
     "iopub.status.idle": "2022-03-30T13:13:18.758288Z",
     "shell.execute_reply": "2022-03-30T13:13:18.758836Z",
     "shell.execute_reply.started": "2022-03-30T13:01:09.332059Z"
    },
    "id": "w8MyV9GofI7V",
    "papermill": {
     "duration": 0.090339,
     "end_time": "2022-03-30T13:13:18.759000",
     "exception": false,
     "start_time": "2022-03-30T13:13:18.668661",
     "status": "completed"
    },
    "tags": []
   },
   "outputs": [],
   "source": [
    "train_dl = DeviceDataLoader(train_dl, device)\n",
    "val_dl = DeviceDataLoader(val_dl, device)\n",
    "test_dl = DeviceDataLoader(test_dl, device)"
   ]
  },
  {
   "cell_type": "markdown",
   "id": "6c57161a",
   "metadata": {
    "id": "N2IgpOWwi3ls",
    "papermill": {
     "duration": 0.091709,
     "end_time": "2022-03-30T13:13:18.934050",
     "exception": false,
     "start_time": "2022-03-30T13:13:18.842341",
     "status": "completed"
    },
    "tags": []
   },
   "source": [
    "#### Creating Resnet18 model"
   ]
  },
  {
   "cell_type": "code",
   "execution_count": 19,
   "id": "fc58f981",
   "metadata": {
    "execution": {
     "iopub.execute_input": "2022-03-30T13:13:19.104046Z",
     "iopub.status.busy": "2022-03-30T13:13:19.102962Z",
     "iopub.status.idle": "2022-03-30T13:13:25.184952Z",
     "shell.execute_reply": "2022-03-30T13:13:25.183757Z",
     "shell.execute_reply.started": "2022-03-30T13:01:09.343320Z"
    },
    "id": "s9KxldHLKC8U",
    "papermill": {
     "duration": 6.168201,
     "end_time": "2022-03-30T13:13:25.185124",
     "exception": false,
     "start_time": "2022-03-30T13:13:19.016923",
     "status": "completed"
    },
    "tags": []
   },
   "outputs": [
    {
     "name": "stderr",
     "output_type": "stream",
     "text": [
      "Downloading: \"https://download.pytorch.org/models/resnet18-f37072fd.pth\" to /root/.cache/torch/hub/checkpoints/resnet18-f37072fd.pth\n"
     ]
    },
    {
     "data": {
      "application/vnd.jupyter.widget-view+json": {
       "model_id": "31e4433717254f93bdb6a76811d3e85d",
       "version_major": 2,
       "version_minor": 0
      },
      "text/plain": [
       "  0%|          | 0.00/44.7M [00:00<?, ?B/s]"
      ]
     },
     "metadata": {},
     "output_type": "display_data"
    }
   ],
   "source": [
    "net = models.resnet18(pretrained=True)\n",
    "# Adding dense layer of 10 nodes to resnet18\n",
    "n_features = net.fc.in_features\n",
    "net.fc = nn.Linear(n_features, len_dataset_classes)\n",
    "#print(net)\n",
    "net = net.to(device)"
   ]
  },
  {
   "cell_type": "code",
   "execution_count": 20,
   "id": "1dba0a36",
   "metadata": {
    "execution": {
     "iopub.execute_input": "2022-03-30T13:13:25.358805Z",
     "iopub.status.busy": "2022-03-30T13:13:25.357829Z",
     "iopub.status.idle": "2022-03-30T13:13:25.360969Z",
     "shell.execute_reply": "2022-03-30T13:13:25.360428Z",
     "shell.execute_reply.started": "2022-03-30T13:01:09.641108Z"
    },
    "id": "PJX5sQiQKZoP",
    "papermill": {
     "duration": 0.091259,
     "end_time": "2022-03-30T13:13:25.361104",
     "exception": false,
     "start_time": "2022-03-30T13:13:25.269845",
     "status": "completed"
    },
    "tags": []
   },
   "outputs": [],
   "source": [
    "criterion = nn.CrossEntropyLoss()\n",
    "optimizer = optim.Adam(net.parameters(), lr=learning_rate)"
   ]
  },
  {
   "cell_type": "markdown",
   "id": "a8876025",
   "metadata": {
    "id": "dUU051D_i89i",
    "papermill": {
     "duration": 0.09568,
     "end_time": "2022-03-30T13:13:25.539999",
     "exception": false,
     "start_time": "2022-03-30T13:13:25.444319",
     "status": "completed"
    },
    "tags": []
   },
   "source": [
    "#### Methods for training and evaluation"
   ]
  },
  {
   "cell_type": "code",
   "execution_count": 21,
   "id": "b7f50313",
   "metadata": {
    "execution": {
     "iopub.execute_input": "2022-03-30T13:13:25.713760Z",
     "iopub.status.busy": "2022-03-30T13:13:25.712885Z",
     "iopub.status.idle": "2022-03-30T13:13:25.715844Z",
     "shell.execute_reply": "2022-03-30T13:13:25.716318Z",
     "shell.execute_reply.started": "2022-03-30T13:01:09.651998Z"
    },
    "id": "kcu3ToTmLGAV",
    "papermill": {
     "duration": 0.094578,
     "end_time": "2022-03-30T13:13:25.716510",
     "exception": false,
     "start_time": "2022-03-30T13:13:25.621932",
     "status": "completed"
    },
    "tags": []
   },
   "outputs": [],
   "source": [
    "def train(epoch):\n",
    "    global training_loss\n",
    "    global training_acc\n",
    "    print(f'\\nEpoch: {epoch} ')\n",
    "    net.train()\n",
    "    train_loss = 0\n",
    "    correct = 0\n",
    "    total = 0\n",
    "\n",
    "    for batch_idx, (inputs, targets) in enumerate(train_dl):\n",
    "        inputs, targets = inputs.to(device), targets.to(device)\n",
    "        optimizer.zero_grad()\n",
    "        outputs = net(inputs)\n",
    "        loss = criterion(outputs, targets)\n",
    "        loss.backward()\n",
    "        optimizer.step()\n",
    "\n",
    "        train_loss += loss.item()\n",
    "        _, pred = outputs.max(1)\n",
    "        total += targets.size(0)\n",
    "        correct += pred.eq(targets).sum().item()\n",
    "        #print(f\"Correct: {correct} Total:{total}\")\n",
    "    #print(f\"   Training Accuracy: {correct/total} Training Loss: {train_loss}\")\n",
    "    acc = correct/total\n",
    "    print(f\"Training Accuracy:\\t{acc}\\nTraining Loss:\\t\\t{train_loss}\")\n",
    "    if is_wandb:\n",
    "      wandb.log({\n",
    "          \"Training Loss\": train_loss,\n",
    "          \"Training Accuracy\": acc\n",
    "      })\n",
    "    training_loss.append(train_loss)\n",
    "    training_acc.append(acc)"
   ]
  },
  {
   "cell_type": "code",
   "execution_count": 4,
   "id": "dfb78b8d",
   "metadata": {
    "execution": {
     "iopub.execute_input": "2022-03-30T13:13:25.885461Z",
     "iopub.status.busy": "2022-03-30T13:13:25.884383Z",
     "iopub.status.idle": "2022-03-30T13:13:25.887036Z",
     "shell.execute_reply": "2022-03-30T13:13:25.887521Z",
     "shell.execute_reply.started": "2022-03-30T13:01:09.666398Z"
    },
    "id": "b-WwX6VPLaBR",
    "papermill": {
     "duration": 0.094526,
     "end_time": "2022-03-30T13:13:25.887671",
     "exception": false,
     "start_time": "2022-03-30T13:13:25.793145",
     "status": "completed"
    },
    "tags": []
   },
   "outputs": [],
   "source": [
    "def evaluate(epoch):\n",
    "    global validation_loss\n",
    "    global validation_acc\n",
    "    global best_acc\n",
    "    net.eval()\n",
    "    test_loss = 0\n",
    "    correct = 0\n",
    "    total = 0\n",
    "\n",
    "    sample_images = []\n",
    "    with torch.no_grad():\n",
    "        #for batch_idx, (inputs, targets) in enumerate(test_dl):\n",
    "        for batch_idx, (inputs, targets) in enumerate(val_dl):\n",
    "            inputs, targets = inputs.to(device), targets.to(device)\n",
    "            outputs = net(inputs)\n",
    "            loss = criterion(outputs, targets)\n",
    "\n",
    "            test_loss += loss.item()\n",
    "            _, pred = outputs.max(1)\n",
    "            total += targets.size(0)\n",
    "            correct += pred.eq(targets).sum().item()\n",
    "            p = pred[0].item()\n",
    "            t = targets[0]\n",
    "            #print(f\"p: {p} t: {t}\")\n",
    "        val_acc = correct/total\n",
    "        print(f\"Validation Accuracy:\\t{val_acc}\\nValidation Loss:\\t{test_loss} \")\n",
    "        if is_wandb:\n",
    "          wandb.log({\n",
    "            \"Validation Loss\": test_loss,\n",
    "            \"Validation Accuracy\": val_acc\n",
    "          })\n",
    "    validation_loss.append(test_loss)\n",
    "    validation_acc.append(val_acc)\n",
    "\n",
    "    # Save checkpoint for the model which yields best accuracy\n",
    "    acc = 100. * (correct/total)\n",
    "    print(f'Accuracy: {acc}')\n",
    "    if acc > best_acc:\n",
    "        print('Saving current best model..')\n",
    "        state = {\n",
    "            'net': net.state_dict(),\n",
    "            'acc': acc,\n",
    "            'epoch': epoch\n",
    "        }\n",
    "        if not os.path.isdir(logs_path):\n",
    "            os.mkdir(logs_path)\n",
    "        torch.save(state, logs_path+'best_eurosat_model.pth')\n",
    "        best_acc = acc\n",
    "        print(f'Current Best: {best_acc}')\n",
    "        if is_wandb:\n",
    "          wandb.log({\n",
    "            \"Best Accuracy\": best_acc\n",
    "          })\n",
    "    "
   ]
  },
  {
   "cell_type": "markdown",
   "id": "241d3b11",
   "metadata": {
    "id": "Vf0MIYupjKo5",
    "papermill": {
     "duration": 0.077544,
     "end_time": "2022-03-30T13:13:26.042638",
     "exception": false,
     "start_time": "2022-03-30T13:13:25.965094",
     "status": "completed"
    },
    "tags": []
   },
   "source": [
    "#### Helper method to find the predictions for test data"
   ]
  },
  {
   "cell_type": "code",
   "execution_count": 21,
   "id": "9109e445",
   "metadata": {
    "execution": {
     "iopub.execute_input": "2022-03-30T13:13:26.208631Z",
     "iopub.status.busy": "2022-03-30T13:13:26.207631Z",
     "iopub.status.idle": "2022-03-30T13:13:26.209980Z",
     "shell.execute_reply": "2022-03-30T13:13:26.210593Z",
     "shell.execute_reply.started": "2022-03-30T13:01:09.687317Z"
    },
    "id": "5C7Cz4KOMWAm",
    "papermill": {
     "duration": 0.089635,
     "end_time": "2022-03-30T13:13:26.210737",
     "exception": false,
     "start_time": "2022-03-30T13:13:26.121102",
     "status": "completed"
    },
    "tags": []
   },
   "outputs": [],
   "source": [
    "@torch.no_grad()\n",
    "def get_all_preds(model, loader):\n",
    "    all_preds = torch.tensor([])\n",
    "    all_preds = to_device(all_preds, device)\n",
    "    for batch in loader:\n",
    "        images, labels = batch\n",
    "        preds = model(images)\n",
    "        preds = to_device(preds, device)\n",
    "        #print(f'AllPreds:{all_preds.get_device()} Preds: {preds.get_device()}')\n",
    "        all_preds = torch.cat((all_preds, preds) ,dim=0)\n",
    "\n",
    "    return all_preds"
   ]
  },
  {
   "cell_type": "markdown",
   "id": "b3c6e823",
   "metadata": {
    "id": "hxrbrHuijrXV",
    "papermill": {
     "duration": 0.081419,
     "end_time": "2022-03-30T13:13:26.371310",
     "exception": false,
     "start_time": "2022-03-30T13:13:26.289891",
     "status": "completed"
    },
    "tags": []
   },
   "source": [
    "#### Helper method to plot the confusion matrix"
   ]
  },
  {
   "cell_type": "code",
   "execution_count": 24,
   "id": "9b8137f6",
   "metadata": {
    "execution": {
     "iopub.execute_input": "2022-03-30T13:13:26.537150Z",
     "iopub.status.busy": "2022-03-30T13:13:26.536157Z",
     "iopub.status.idle": "2022-03-30T13:13:26.538654Z",
     "shell.execute_reply": "2022-03-30T13:13:26.539177Z",
     "shell.execute_reply.started": "2022-03-30T13:01:09.700362Z"
    },
    "id": "ENSbOyhrMXux",
    "papermill": {
     "duration": 0.091106,
     "end_time": "2022-03-30T13:13:26.539313",
     "exception": false,
     "start_time": "2022-03-30T13:13:26.448207",
     "status": "completed"
    },
    "tags": []
   },
   "outputs": [],
   "source": [
    "def plot_confusion_matrix(cm, classes,\n",
    "                          normalize=False,\n",
    "                          title='Confusion Matrix(Resnet18): EuroSAT Dataset',\n",
    "                          cmap=plt.cm.Blues):\n",
    "\n",
    "    #print(cm)\n",
    "\n",
    "    plt.imshow(cm, interpolation='nearest', cmap=cmap)\n",
    "    plt.title(title)\n",
    "    plt.colorbar()\n",
    "    tick_marks = np.arange(len(classes))\n",
    "    plt.xticks(tick_marks, classes, rotation=45)\n",
    "    plt.yticks(tick_marks, classes)\n",
    "\n",
    "    fmt = '.2f' if normalize else 'd'\n",
    "    thresh = cm.max() / 2.\n",
    "    for i, j in itertools.product(range(cm.shape[0]), range(cm.shape[1])):\n",
    "        plt.text(j, i, format(cm[i, j], fmt),\n",
    "                 horizontalalignment=\"center\",\n",
    "                 color=\"white\" if cm[i, j] > thresh else \"black\")\n",
    "\n",
    "    plt.tight_layout()\n",
    "    plt.ylabel('True label')\n",
    "    plt.xlabel('Predicted label')\n",
    "    plt.show()"
   ]
  },
  {
   "cell_type": "markdown",
   "id": "7c56e9c7",
   "metadata": {
    "id": "5x7G4HickMMg",
    "papermill": {
     "duration": 0.078096,
     "end_time": "2022-03-30T13:13:26.694170",
     "exception": false,
     "start_time": "2022-03-30T13:13:26.616074",
     "status": "completed"
    },
    "tags": []
   },
   "source": [
    "#### Initiating WandB"
   ]
  },
  {
   "cell_type": "code",
   "execution_count": 5,
   "id": "69d171b2",
   "metadata": {
    "execution": {
     "iopub.execute_input": "2022-03-30T13:13:26.853133Z",
     "iopub.status.busy": "2022-03-30T13:13:26.851531Z",
     "iopub.status.idle": "2022-03-30T13:13:26.856056Z",
     "shell.execute_reply": "2022-03-30T13:13:26.855460Z",
     "shell.execute_reply.started": "2022-03-30T13:01:09.716113Z"
    },
    "id": "8bcwya933Ih6",
    "papermill": {
     "duration": 0.085153,
     "end_time": "2022-03-30T13:13:26.856179",
     "exception": false,
     "start_time": "2022-03-30T13:13:26.771026",
     "status": "completed"
    },
    "tags": []
   },
   "outputs": [],
   "source": [
    "if is_wandb:\n",
    "  # WandB Configurations\n",
    "  wandb.init(project=\"Resnet18(EuroSAT) Run 2\")\n",
    "  config = wandb.config\n",
    "  config.batch_size = 128\n",
    "  config.test_batch_size = 256\n",
    "  config.epochs = 15\n",
    "  config.lr = 0.001\n",
    "  config.log_interval = 2"
   ]
  },
  {
   "cell_type": "markdown",
   "id": "885c912e",
   "metadata": {
    "id": "CeRPCs86kQ_C",
    "papermill": {
     "duration": 0.076942,
     "end_time": "2022-03-30T13:13:27.010704",
     "exception": false,
     "start_time": "2022-03-30T13:13:26.933762",
     "status": "completed"
    },
    "tags": []
   },
   "source": [
    "#### Running the Model"
   ]
  },
  {
   "cell_type": "code",
   "execution_count": 6,
   "id": "de8c6689",
   "metadata": {
    "execution": {
     "iopub.execute_input": "2022-03-30T13:13:27.177470Z",
     "iopub.status.busy": "2022-03-30T13:13:27.176497Z",
     "iopub.status.idle": "2022-03-30T13:13:27.179556Z",
     "shell.execute_reply": "2022-03-30T13:13:27.180069Z",
     "shell.execute_reply.started": "2022-03-30T13:01:09.727016Z"
    },
    "id": "dmnT3o4DNImh",
    "papermill": {
     "duration": 0.091106,
     "end_time": "2022-03-30T13:13:27.180224",
     "exception": false,
     "start_time": "2022-03-30T13:13:27.089118",
     "status": "completed"
    },
    "tags": []
   },
   "outputs": [],
   "source": [
    "def run_model():\n",
    "    if is_wandb:\n",
    "      wandb.watch(net, log=\"all\")\n",
    "\n",
    "    for epoch in range(0, num_epochs):\n",
    "        #print(\"Training\")\n",
    "        train(epoch)\n",
    "        #print(\"Validation\")\n",
    "        evaluate(epoch)\n",
    "\n",
    "    if not os.path.isdir(logs_path):\n",
    "            os.mkdir(logs_path)\n",
    "    PATH = logs_path+'eurasat_resnet18.pth'\n",
    "    torch.save(net.state_dict(), PATH)\n",
    "    if is_wandb:\n",
    "      wandb.save('PATH')"
   ]
  },
  {
   "cell_type": "markdown",
   "id": "92722ae2",
   "metadata": {
    "id": "U5cc0iK71_tI",
    "papermill": {
     "duration": 0.08402,
     "end_time": "2022-03-30T13:13:27.349623",
     "exception": false,
     "start_time": "2022-03-30T13:13:27.265603",
     "status": "completed"
    },
    "tags": []
   },
   "source": [
    "#### Helper method to calculate the accuracy"
   ]
  },
  {
   "cell_type": "code",
   "execution_count": 36,
   "id": "f2f7f552",
   "metadata": {
    "execution": {
     "iopub.execute_input": "2022-03-30T13:13:27.528612Z",
     "iopub.status.busy": "2022-03-30T13:13:27.527605Z",
     "iopub.status.idle": "2022-03-30T13:13:27.530529Z",
     "shell.execute_reply": "2022-03-30T13:13:27.531030Z",
     "shell.execute_reply.started": "2022-03-30T13:01:09.740625Z"
    },
    "id": "covlt2Wb0-m3",
    "papermill": {
     "duration": 0.095441,
     "end_time": "2022-03-30T13:13:27.531215",
     "exception": false,
     "start_time": "2022-03-30T13:13:27.435774",
     "status": "completed"
    },
    "tags": []
   },
   "outputs": [],
   "source": [
    "def calculate_accuracy(preds, len_preds, test=True):\n",
    "  preds_lbl = []\n",
    "  for itr in range(len_preds):\n",
    "    p = torch.argmax(preds[itr])\n",
    "    preds_lbl.append(p.item())\n",
    "\n",
    "  # Calculating total correct predictions\n",
    "  total_correct_preds = 0\n",
    "  for itr in range(len_preds):\n",
    "    if test:\n",
    "      if preds_lbl[itr] == test_actual_labels[itr]:\n",
    "        total_correct_preds += 1\n",
    "    else:\n",
    "      if preds_lbl[itr] == val_actual_labels[itr]:\n",
    "        total_correct_preds += 1\n",
    "\n",
    "\n",
    "  #print(f'Total Correct: {total_correct_preds} Len: {len_testset}')\n",
    "  #print('\\nModel Accuracy:', total_correct_preds / len_testset)\n",
    "  accuracy = total_correct_preds / len_preds\n",
    "  return accuracy"
   ]
  },
  {
   "cell_type": "markdown",
   "id": "2d02df0a",
   "metadata": {
    "id": "TciiTdJGklX8",
    "papermill": {
     "duration": 0.083384,
     "end_time": "2022-03-30T13:13:27.696504",
     "exception": false,
     "start_time": "2022-03-30T13:13:27.613120",
     "status": "completed"
    },
    "tags": []
   },
   "source": [
    "#### Method to predict and prepare report "
   ]
  },
  {
   "cell_type": "code",
   "execution_count": 28,
   "id": "d02999a8",
   "metadata": {
    "execution": {
     "iopub.execute_input": "2022-03-30T13:13:27.861214Z",
     "iopub.status.busy": "2022-03-30T13:13:27.860186Z",
     "iopub.status.idle": "2022-03-30T13:13:27.863476Z",
     "shell.execute_reply": "2022-03-30T13:13:27.862910Z",
     "shell.execute_reply.started": "2022-03-30T13:01:09.755213Z"
    },
    "id": "f5XrsVYHcsap",
    "papermill": {
     "duration": 0.088434,
     "end_time": "2022-03-30T13:13:27.863606",
     "exception": false,
     "start_time": "2022-03-30T13:13:27.775172",
     "status": "completed"
    },
    "tags": []
   },
   "outputs": [],
   "source": [
    "def predict_and_prepare_report_on_testdata():\n",
    "  \n",
    "  test_preds = get_all_preds(model, test_dl)\n",
    "  test_preds_lbl = []\n",
    "  for itr in range(len_testset):\n",
    "    p = torch.argmax(test_preds[itr])\n",
    "    test_preds_lbl.append(p.item())\n",
    "\n",
    "  print('\\nModel Accuracy:', calculate_accuracy(test_preds, len_testset))\n",
    "  cm = confusion_matrix(test_actual_labels, test_preds_lbl)\n",
    "  plt.figure(figsize=(10, 10))\n",
    "  plot_confusion_matrix(cm, dataset_classes)"
   ]
  },
  {
   "cell_type": "markdown",
   "id": "caeaf0e5",
   "metadata": {
    "id": "WcGII_iOkwpP",
    "papermill": {
     "duration": 0.077549,
     "end_time": "2022-03-30T13:13:28.021936",
     "exception": false,
     "start_time": "2022-03-30T13:13:27.944387",
     "status": "completed"
    },
    "tags": []
   },
   "source": [
    "#### Model Execution"
   ]
  },
  {
   "cell_type": "code",
   "execution_count": 29,
   "id": "5eb38afd",
   "metadata": {
    "execution": {
     "iopub.execute_input": "2022-03-30T13:13:28.187158Z",
     "iopub.status.busy": "2022-03-30T13:13:28.186379Z",
     "iopub.status.idle": "2022-03-30T13:36:57.839368Z",
     "shell.execute_reply": "2022-03-30T13:36:57.840292Z",
     "shell.execute_reply.started": "2022-03-30T13:01:09.769369Z"
    },
    "id": "F-rQVMIONq2A",
    "outputId": "d64731af-00e8-426b-8930-91eee319837e",
    "papermill": {
     "duration": 1409.738476,
     "end_time": "2022-03-30T13:36:57.840599",
     "exception": false,
     "start_time": "2022-03-30T13:13:28.102123",
     "status": "completed"
    },
    "tags": []
   },
   "outputs": [
    {
     "name": "stdout",
     "output_type": "stream",
     "text": [
      "\n",
      "Epoch: 0 \n",
      "Training Accuracy:\t0.8940506598552576\n",
      "Training Loss:\t\t50.16971028596163\n",
      "Validation Accuracy:\t0.7546296296296297\n",
      "Validation Loss:\t10.087433338165283 \n",
      "Accuracy: 75.46296296296296\n",
      "Saving current best model..\n",
      "Current Best: 75.46296296296296\n",
      "\n",
      "Epoch: 1 \n",
      "Training Accuracy:\t0.9456151553852703\n",
      "Training Loss:\t\t24.88059613481164\n",
      "Validation Accuracy:\t0.9355413105413105\n",
      "Validation Loss:\t2.128101497888565 \n",
      "Accuracy: 93.55413105413105\n",
      "Saving current best model..\n",
      "Current Best: 93.55413105413105\n",
      "\n",
      "Epoch: 2 \n",
      "Training Accuracy:\t0.9620583226905066\n",
      "Training Loss:\t\t17.26743401400745\n",
      "Validation Accuracy:\t0.8917378917378918\n",
      "Validation Loss:\t3.958810657262802 \n",
      "Accuracy: 89.17378917378917\n",
      "\n",
      "Epoch: 3 \n",
      "Training Accuracy:\t0.9697211579395487\n",
      "Training Loss:\t\t14.371250847354531\n",
      "Validation Accuracy:\t0.8839031339031339\n",
      "Validation Loss:\t4.567640066146851 \n",
      "Accuracy: 88.3903133903134\n",
      "\n",
      "Epoch: 4 \n",
      "Training Accuracy:\t0.9745104299702001\n",
      "Training Loss:\t\t11.802374316379428\n",
      "Validation Accuracy:\t0.8874643874643875\n",
      "Validation Loss:\t5.121882945299149 \n",
      "Accuracy: 88.74643874643876\n",
      "\n",
      "Epoch: 5 \n",
      "Training Accuracy:\t0.9783950617283951\n",
      "Training Loss:\t\t9.57332044094801\n",
      "Validation Accuracy:\t0.9230769230769231\n",
      "Validation Loss:\t2.747186601161957 \n",
      "Accuracy: 92.3076923076923\n",
      "\n",
      "Epoch: 6 \n",
      "Training Accuracy:\t0.9788207747977863\n",
      "Training Loss:\t\t9.912466723006219\n",
      "Validation Accuracy:\t0.9198717948717948\n",
      "Validation Loss:\t2.9522863775491714 \n",
      "Accuracy: 91.98717948717949\n",
      "\n",
      "Epoch: 7 \n",
      "Training Accuracy:\t0.9801511281396339\n",
      "Training Loss:\t\t9.524341739248484\n",
      "Validation Accuracy:\t0.9344729344729344\n",
      "Validation Loss:\t2.7901227921247482 \n",
      "Accuracy: 93.44729344729345\n",
      "\n",
      "Epoch: 8 \n",
      "Training Accuracy:\t0.9837164750957854\n",
      "Training Loss:\t\t7.514649836579338\n",
      "Validation Accuracy:\t0.9341168091168092\n",
      "Validation Loss:\t2.8136709928512573 \n",
      "Accuracy: 93.41168091168092\n",
      "\n",
      "Epoch: 9 \n",
      "Training Accuracy:\t0.9862707535121328\n",
      "Training Loss:\t\t6.436181812547147\n",
      "Validation Accuracy:\t0.9259259259259259\n",
      "Validation Loss:\t3.3488343954086304 \n",
      "Accuracy: 92.5925925925926\n",
      "\n",
      "Epoch: 10 \n",
      "Training Accuracy:\t0.9853128991060025\n",
      "Training Loss:\t\t6.521692386246286\n",
      "Validation Accuracy:\t0.8892450142450142\n",
      "Validation Loss:\t5.737208515405655 \n",
      "Accuracy: 88.92450142450143\n",
      "\n",
      "Epoch: 11 \n",
      "Training Accuracy:\t0.988931460195828\n",
      "Training Loss:\t\t4.974873681436293\n",
      "Validation Accuracy:\t0.9309116809116809\n",
      "Validation Loss:\t2.9248150885105133 \n",
      "Accuracy: 93.09116809116809\n",
      "\n",
      "Epoch: 12 \n",
      "Training Accuracy:\t0.9876543209876543\n",
      "Training Loss:\t\t5.69427405600436\n",
      "Validation Accuracy:\t0.9212962962962963\n",
      "Validation Loss:\t3.0866070687770844 \n",
      "Accuracy: 92.12962962962963\n",
      "\n",
      "Epoch: 13 \n",
      "Training Accuracy:\t0.9915389527458492\n",
      "Training Loss:\t\t3.923184860032052\n",
      "Validation Accuracy:\t0.9440883190883191\n",
      "Validation Loss:\t2.5516396164894104 \n",
      "Accuracy: 94.40883190883191\n",
      "Saving current best model..\n",
      "Current Best: 94.40883190883191\n",
      "\n",
      "Epoch: 14 \n",
      "Training Accuracy:\t0.9885057471264368\n",
      "Training Loss:\t\t5.396876970422454\n",
      "Validation Accuracy:\t0.8646723646723646\n",
      "Validation Loss:\t6.416714429855347 \n",
      "Accuracy: 86.46723646723646\n",
      "\n",
      "Epoch: 15 \n",
      "Training Accuracy:\t0.9896764580672627\n",
      "Training Loss:\t\t5.292115255724639\n",
      "Validation Accuracy:\t0.9330484330484331\n",
      "Validation Loss:\t3.602918326854706 \n",
      "Accuracy: 93.30484330484332\n",
      "\n",
      "Epoch: 16 \n",
      "Training Accuracy:\t0.9908471690080886\n",
      "Training Loss:\t\t4.565388685499784\n",
      "Validation Accuracy:\t0.9255698005698005\n",
      "Validation Loss:\t3.4552828073501587 \n",
      "Accuracy: 92.55698005698005\n",
      "\n",
      "Epoch: 17 \n",
      "Training Accuracy:\t0.9897828863346104\n",
      "Training Loss:\t\t5.047793750447454\n",
      "Validation Accuracy:\t0.9437321937321937\n",
      "Validation Loss:\t2.4812162816524506 \n",
      "Accuracy: 94.37321937321937\n",
      "\n",
      "Epoch: 18 \n",
      "Training Accuracy:\t0.9918582375478927\n",
      "Training Loss:\t\t3.475943803379778\n",
      "Validation Accuracy:\t0.8404558404558404\n",
      "Validation Loss:\t9.672390401363373 \n",
      "Accuracy: 84.04558404558404\n",
      "\n",
      "Epoch: 19 \n",
      "Training Accuracy:\t0.9910600255427842\n",
      "Training Loss:\t\t4.285410542273894\n",
      "Validation Accuracy:\t0.9373219373219374\n",
      "Validation Loss:\t3.0807360857725143 \n",
      "Accuracy: 93.73219373219374\n",
      "\n",
      "Epoch: 20 \n",
      "Training Accuracy:\t0.99004895700298\n",
      "Training Loss:\t\t4.59493458623183\n",
      "Validation Accuracy:\t0.9099002849002849\n",
      "Validation Loss:\t4.422127723693848 \n",
      "Accuracy: 90.99002849002848\n",
      "\n",
      "Epoch: 21 \n",
      "Training Accuracy:\t0.9919646658152406\n",
      "Training Loss:\t\t3.4860035966557916\n",
      "Validation Accuracy:\t0.9351851851851852\n",
      "Validation Loss:\t2.796859458088875 \n",
      "Accuracy: 93.51851851851852\n",
      "\n",
      "Epoch: 22 \n",
      "Training Accuracy:\t0.9937207322264794\n",
      "Training Loss:\t\t3.482362254522741\n",
      "Validation Accuracy:\t0.9095441595441596\n",
      "Validation Loss:\t4.7983522564172745 \n",
      "Accuracy: 90.95441595441596\n",
      "\n",
      "Epoch: 23 \n",
      "Training Accuracy:\t0.993348233290762\n",
      "Training Loss:\t\t3.05881521536503\n",
      "Validation Accuracy:\t0.9487179487179487\n",
      "Validation Loss:\t2.377358317375183 \n",
      "Accuracy: 94.87179487179486\n",
      "Saving current best model..\n",
      "Current Best: 94.87179487179486\n",
      "\n",
      "Epoch: 24 \n",
      "Training Accuracy:\t0.9945189442315879\n",
      "Training Loss:\t\t2.4420011875627097\n",
      "Validation Accuracy:\t0.9497863247863247\n",
      "Validation Loss:\t2.4924984872341156 \n",
      "Accuracy: 94.97863247863248\n",
      "Saving current best model..\n",
      "Current Best: 94.97863247863248\n",
      "\n",
      "Epoch: 25 \n",
      "Training Accuracy:\t0.9916453810131971\n",
      "Training Loss:\t\t4.140135725552682\n",
      "Validation Accuracy:\t0.9284188034188035\n",
      "Validation Loss:\t3.2154268622398376 \n",
      "Accuracy: 92.84188034188034\n",
      "\n",
      "Epoch: 26 \n",
      "Training Accuracy:\t0.9934546615581098\n",
      "Training Loss:\t\t2.9503357184585184\n",
      "Validation Accuracy:\t0.9426638176638177\n",
      "Validation Loss:\t2.683683641254902 \n",
      "Accuracy: 94.26638176638177\n",
      "\n",
      "Epoch: 27 \n",
      "Training Accuracy:\t0.9935610898254577\n",
      "Training Loss:\t\t2.9557240693538915\n",
      "Validation Accuracy:\t0.8896011396011396\n",
      "Validation Loss:\t5.974147796630859 \n",
      "Accuracy: 88.96011396011396\n",
      "\n",
      "Epoch: 28 \n",
      "Training Accuracy:\t0.9905810983397191\n",
      "Training Loss:\t\t4.183549930981826\n",
      "Validation Accuracy:\t0.9561965811965812\n",
      "Validation Loss:\t2.0184494704008102 \n",
      "Accuracy: 95.61965811965813\n",
      "Saving current best model..\n",
      "Current Best: 95.61965811965813\n",
      "\n",
      "Epoch: 29 \n",
      "Training Accuracy:\t0.997232865048957\n",
      "Training Loss:\t\t1.4609883005323354\n",
      "Validation Accuracy:\t0.9323361823361823\n",
      "Validation Loss:\t3.441378578543663 \n",
      "Accuracy: 93.23361823361823\n",
      "\n",
      "Epoch: 30 \n",
      "Training Accuracy:\t0.9924968071519795\n",
      "Training Loss:\t\t3.230714940727921\n",
      "Validation Accuracy:\t0.9017094017094017\n",
      "Validation Loss:\t5.872503638267517 \n",
      "Accuracy: 90.17094017094017\n",
      "\n",
      "Epoch: 31 \n",
      "Training Accuracy:\t0.9942528735632183\n",
      "Training Loss:\t\t2.861587807245087\n",
      "Validation Accuracy:\t0.9220085470085471\n",
      "Validation Loss:\t3.890844851732254 \n",
      "Accuracy: 92.2008547008547\n",
      "\n",
      "Epoch: 32 \n",
      "Training Accuracy:\t0.9932418050234142\n",
      "Training Loss:\t\t3.5284230360121\n",
      "Validation Accuracy:\t0.8636039886039886\n",
      "Validation Loss:\t6.994167000055313 \n",
      "Accuracy: 86.36039886039886\n",
      "\n",
      "Epoch: 33 \n",
      "Training Accuracy:\t0.9960621541081311\n",
      "Training Loss:\t\t1.7876678989559878\n",
      "Validation Accuracy:\t0.9334045584045584\n",
      "Validation Loss:\t4.028558254241943 \n",
      "Accuracy: 93.34045584045583\n",
      "\n",
      "Epoch: 34 \n",
      "Training Accuracy:\t0.9948914431673053\n",
      "Training Loss:\t\t2.3144516628963174\n",
      "Validation Accuracy:\t0.9284188034188035\n",
      "Validation Loss:\t3.663626417517662 \n",
      "Accuracy: 92.84188034188034\n",
      "\n",
      "Epoch: 35 \n",
      "Training Accuracy:\t0.9940400170285227\n",
      "Training Loss:\t\t2.7199302214576164\n",
      "Validation Accuracy:\t0.8522079772079773\n",
      "Validation Loss:\t9.055035650730133 \n",
      "Accuracy: 85.22079772079772\n",
      "\n",
      "Epoch: 36 \n",
      "Training Accuracy:\t0.9932950191570882\n",
      "Training Loss:\t\t2.829499271028908\n",
      "Validation Accuracy:\t0.926994301994302\n",
      "Validation Loss:\t3.5212292075157166 \n",
      "Accuracy: 92.6994301994302\n",
      "\n",
      "Epoch: 37 \n",
      "Training Accuracy:\t0.9949446573009791\n",
      "Training Loss:\t\t2.3246264015469933\n",
      "Validation Accuracy:\t0.9458689458689459\n",
      "Validation Loss:\t3.0340778455138206 \n",
      "Accuracy: 94.58689458689459\n",
      "\n",
      "Epoch: 38 \n",
      "Training Accuracy:\t0.9945721583652618\n",
      "Training Loss:\t\t2.600897064548917\n",
      "Validation Accuracy:\t0.9348290598290598\n",
      "Validation Loss:\t3.5366003662347794 \n",
      "Accuracy: 93.48290598290599\n",
      "\n",
      "Epoch: 39 \n",
      "Training Accuracy:\t0.996115368241805\n",
      "Training Loss:\t\t1.9393988806987181\n",
      "Validation Accuracy:\t0.9451566951566952\n",
      "Validation Loss:\t2.804202616214752 \n",
      "Accuracy: 94.51566951566952\n",
      "\n",
      "Epoch: 40 \n",
      "Training Accuracy:\t0.9965942954448701\n",
      "Training Loss:\t\t1.674153079467942\n",
      "Validation Accuracy:\t0.9387464387464387\n",
      "Validation Loss:\t3.2753244936466217 \n",
      "Accuracy: 93.87464387464387\n",
      "\n",
      "Epoch: 41 \n",
      "Training Accuracy:\t0.9947850148999574\n",
      "Training Loss:\t\t2.8594374896783847\n",
      "Validation Accuracy:\t0.9116809116809117\n",
      "Validation Loss:\t4.019932687282562 \n",
      "Accuracy: 91.16809116809117\n",
      "\n",
      "Epoch: 42 \n",
      "Training Accuracy:\t0.9954767986377182\n",
      "Training Loss:\t\t2.225670930420165\n",
      "Validation Accuracy:\t0.9472934472934473\n",
      "Validation Loss:\t2.6447840481996536 \n",
      "Accuracy: 94.72934472934473\n",
      "\n",
      "Epoch: 43 \n",
      "Training Accuracy:\t0.9967539378458918\n",
      "Training Loss:\t\t1.454467856878182\n",
      "Validation Accuracy:\t0.9455128205128205\n",
      "Validation Loss:\t2.7867197915911674 \n",
      "Accuracy: 94.55128205128204\n",
      "\n",
      "Epoch: 44 \n",
      "Training Accuracy:\t0.9956896551724138\n",
      "Training Loss:\t\t1.900453331458266\n",
      "Validation Accuracy:\t0.9472934472934473\n",
      "Validation Loss:\t2.825507678091526 \n",
      "Accuracy: 94.72934472934473\n",
      "\n",
      "Epoch: 45 \n",
      "Training Accuracy:\t0.9954235845040442\n",
      "Training Loss:\t\t2.4985966060921783\n",
      "Validation Accuracy:\t0.782051282051282\n",
      "Validation Loss:\t15.855258345603943 \n",
      "Accuracy: 78.2051282051282\n",
      "\n",
      "Epoch: 46 \n",
      "Training Accuracy:\t0.9919114516815666\n",
      "Training Loss:\t\t3.696964184724493\n",
      "Validation Accuracy:\t0.915954415954416\n",
      "Validation Loss:\t4.793386936187744 \n",
      "Accuracy: 91.5954415954416\n",
      "\n",
      "Epoch: 47 \n",
      "Training Accuracy:\t0.993348233290762\n",
      "Training Loss:\t\t3.206640220771078\n",
      "Validation Accuracy:\t0.926994301994302\n",
      "Validation Loss:\t3.834698013961315 \n",
      "Accuracy: 92.6994301994302\n",
      "\n",
      "Epoch: 48 \n",
      "Training Accuracy:\t0.995583226905066\n",
      "Training Loss:\t\t2.097032046338427\n",
      "Validation Accuracy:\t0.9458689458689459\n",
      "Validation Loss:\t2.724670186638832 \n",
      "Accuracy: 94.58689458689459\n",
      "\n",
      "Epoch: 49 \n",
      "Training Accuracy:\t0.9969135802469136\n",
      "Training Loss:\t\t1.4829728485565283\n",
      "Validation Accuracy:\t0.9376780626780626\n",
      "Validation Loss:\t3.5404911637306213 \n",
      "Accuracy: 93.76780626780626\n",
      "\n",
      "Epoch: 50 \n",
      "Training Accuracy:\t0.9988292890591741\n",
      "Training Loss:\t\t0.5923535426700255\n",
      "Validation Accuracy:\t0.9569088319088319\n",
      "Validation Loss:\t2.6805450320243835 \n",
      "Accuracy: 95.6908831908832\n",
      "Saving current best model..\n",
      "Current Best: 95.6908831908832\n",
      "\n",
      "Epoch: 51 \n",
      "Training Accuracy:\t0.9976053639846744\n",
      "Training Loss:\t\t1.0755304052472638\n",
      "Validation Accuracy:\t0.9387464387464387\n",
      "Validation Loss:\t3.5222169905900955 \n",
      "Accuracy: 93.87464387464387\n",
      "\n",
      "Epoch: 52 \n",
      "Training Accuracy:\t0.9954235845040442\n",
      "Training Loss:\t\t2.208582848717924\n",
      "Validation Accuracy:\t0.9501424501424501\n",
      "Validation Loss:\t2.7371896058321 \n",
      "Accuracy: 95.01424501424502\n",
      "\n",
      "Epoch: 53 \n",
      "Training Accuracy:\t0.9979246487867177\n",
      "Training Loss:\t\t0.9832478649914265\n",
      "Validation Accuracy:\t0.926994301994302\n",
      "Validation Loss:\t4.575511872768402 \n",
      "Accuracy: 92.6994301994302\n",
      "\n",
      "Epoch: 54 \n",
      "Training Accuracy:\t0.9940932311621967\n",
      "Training Loss:\t\t3.1623508742050035\n",
      "Validation Accuracy:\t0.9116809116809117\n",
      "Validation Loss:\t4.4556142538785934 \n",
      "Accuracy: 91.16809116809117\n",
      "\n",
      "Epoch: 55 \n",
      "Training Accuracy:\t0.9956364410387399\n",
      "Training Loss:\t\t1.901460258901352\n",
      "Validation Accuracy:\t0.948005698005698\n",
      "Validation Loss:\t2.7797893285751343 \n",
      "Accuracy: 94.8005698005698\n",
      "\n",
      "Epoch: 56 \n",
      "Training Accuracy:\t0.9960089399744572\n",
      "Training Loss:\t\t1.7219037790346192\n",
      "Validation Accuracy:\t0.9423076923076923\n",
      "Validation Loss:\t2.9901228100061417 \n",
      "Accuracy: 94.23076923076923\n",
      "\n",
      "Epoch: 57 \n",
      "Training Accuracy:\t0.9953703703703703\n",
      "Training Loss:\t\t2.1472792357380968\n",
      "Validation Accuracy:\t0.9348290598290598\n",
      "Validation Loss:\t3.5373657792806625 \n",
      "Accuracy: 93.48290598290599\n",
      "\n",
      "Epoch: 58 \n",
      "Training Accuracy:\t0.9961685823754789\n",
      "Training Loss:\t\t1.9001679565990344\n",
      "Validation Accuracy:\t0.9426638176638177\n",
      "Validation Loss:\t2.916834607720375 \n",
      "Accuracy: 94.26638176638177\n",
      "\n",
      "Epoch: 59 \n",
      "Training Accuracy:\t0.9987228607918263\n",
      "Training Loss:\t\t0.6520051434854395\n",
      "Validation Accuracy:\t0.9565527065527065\n",
      "Validation Loss:\t2.4612973779439926 \n",
      "Accuracy: 95.65527065527066\n",
      "\n",
      "Epoch: 60 \n",
      "Training Accuracy:\t0.9982439335887612\n",
      "Training Loss:\t\t0.7916167309122102\n",
      "Validation Accuracy:\t0.9451566951566952\n",
      "Validation Loss:\t3.414609208703041 \n",
      "Accuracy: 94.51566951566952\n",
      "\n",
      "Epoch: 61 \n",
      "Training Accuracy:\t0.9969667943805874\n",
      "Training Loss:\t\t1.5456504444082384\n",
      "Validation Accuracy:\t0.9423076923076923\n",
      "Validation Loss:\t3.204266682267189 \n",
      "Accuracy: 94.23076923076923\n",
      "\n",
      "Epoch: 62 \n",
      "Training Accuracy:\t0.9964346530438485\n",
      "Training Loss:\t\t1.6271680436111637\n",
      "Validation Accuracy:\t0.9248575498575499\n",
      "Validation Loss:\t4.531987622380257 \n",
      "Accuracy: 92.48575498575498\n",
      "\n",
      "Epoch: 63 \n",
      "Training Accuracy:\t0.9966475095785441\n",
      "Training Loss:\t\t1.5167678667057771\n",
      "Validation Accuracy:\t0.9291310541310541\n",
      "Validation Loss:\t3.918154537677765 \n",
      "Accuracy: 92.91310541310541\n",
      "\n",
      "Epoch: 64 \n",
      "Training Accuracy:\t0.9952639421030226\n",
      "Training Loss:\t\t2.121687323815422\n",
      "Validation Accuracy:\t0.9519230769230769\n",
      "Validation Loss:\t2.8910917192697525 \n",
      "Accuracy: 95.1923076923077\n",
      "\n",
      "Epoch: 65 \n",
      "Training Accuracy:\t0.9979246487867177\n",
      "Training Loss:\t\t1.173616923046211\n",
      "Validation Accuracy:\t0.9408831908831908\n",
      "Validation Loss:\t3.5733598172664642 \n",
      "Accuracy: 94.08831908831908\n",
      "\n",
      "Epoch: 66 \n",
      "Training Accuracy:\t0.9956364410387399\n",
      "Training Loss:\t\t1.9798645753326127\n",
      "Validation Accuracy:\t0.9462250712250713\n",
      "Validation Loss:\t2.927659898996353 \n",
      "Accuracy: 94.62250712250713\n",
      "\n",
      "Epoch: 67 \n",
      "Training Accuracy:\t0.9985100042571307\n",
      "Training Loss:\t\t0.7063887968033669\n",
      "Validation Accuracy:\t0.9501424501424501\n",
      "Validation Loss:\t2.8694378957152367 \n",
      "Accuracy: 95.01424501424502\n",
      "\n",
      "Epoch: 68 \n",
      "Training Accuracy:\t0.9987760749255002\n",
      "Training Loss:\t\t0.6458350062293903\n",
      "Validation Accuracy:\t0.9444444444444444\n",
      "Validation Loss:\t3.087425172328949 \n",
      "Accuracy: 94.44444444444444\n",
      "\n",
      "Epoch: 69 \n",
      "Training Accuracy:\t0.9963282247765006\n",
      "Training Loss:\t\t2.101269782491727\n",
      "Validation Accuracy:\t0.9042022792022792\n",
      "Validation Loss:\t4.581424713134766 \n",
      "Accuracy: 90.42022792022793\n",
      "\n",
      "Epoch: 70 \n",
      "Training Accuracy:\t0.9957428693060877\n",
      "Training Loss:\t\t1.9363614546891768\n",
      "Validation Accuracy:\t0.9433760683760684\n",
      "Validation Loss:\t3.176994577050209 \n",
      "Accuracy: 94.33760683760684\n",
      "\n",
      "Epoch: 71 \n",
      "Training Accuracy:\t0.9972860791826309\n",
      "Training Loss:\t\t1.5336305301898392\n",
      "Validation Accuracy:\t0.9419515669515669\n",
      "Validation Loss:\t3.46802119910717 \n",
      "Accuracy: 94.19515669515668\n",
      "\n",
      "Epoch: 72 \n",
      "Training Accuracy:\t0.9984567901234568\n",
      "Training Loss:\t\t0.7309070070477901\n",
      "Validation Accuracy:\t0.959045584045584\n",
      "Validation Loss:\t2.53292702883482 \n",
      "Accuracy: 95.9045584045584\n",
      "Saving current best model..\n",
      "Current Best: 95.9045584045584\n",
      "\n",
      "Epoch: 73 \n",
      "Training Accuracy:\t0.9987228607918263\n",
      "Training Loss:\t\t0.6752230137817605\n",
      "Validation Accuracy:\t0.9430199430199431\n",
      "Validation Loss:\t3.7487702816724777 \n",
      "Accuracy: 94.30199430199431\n",
      "\n",
      "Epoch: 74 \n",
      "Training Accuracy:\t0.9968071519795658\n",
      "Training Loss:\t\t1.5945356222364353\n",
      "Validation Accuracy:\t0.9444444444444444\n",
      "Validation Loss:\t2.920561693608761 \n",
      "Accuracy: 94.44444444444444\n",
      "\n",
      "Epoch: 75 \n",
      "Training Accuracy:\t0.9970200085142614\n",
      "Training Loss:\t\t1.5360137049137847\n",
      "Validation Accuracy:\t0.9376780626780626\n",
      "Validation Loss:\t3.6411176174879074 \n",
      "Accuracy: 93.76780626780626\n",
      "\n",
      "Epoch: 76 \n",
      "Training Accuracy:\t0.9973925074499788\n",
      "Training Loss:\t\t1.3186201786120364\n",
      "Validation Accuracy:\t0.9355413105413105\n",
      "Validation Loss:\t3.3261344134807587 \n",
      "Accuracy: 93.55413105413105\n",
      "\n",
      "Epoch: 77 \n",
      "Training Accuracy:\t0.9986164325244785\n",
      "Training Loss:\t\t0.6765186758475465\n",
      "Validation Accuracy:\t0.9551282051282052\n",
      "Validation Loss:\t2.310673348605633 \n",
      "Accuracy: 95.51282051282051\n",
      "\n",
      "Epoch: 78 \n",
      "Training Accuracy:\t0.9990421455938697\n",
      "Training Loss:\t\t0.5126364182069665\n",
      "Validation Accuracy:\t0.9230769230769231\n",
      "Validation Loss:\t4.533890962600708 \n",
      "Accuracy: 92.3076923076923\n",
      "\n",
      "Epoch: 79 \n",
      "Training Accuracy:\t0.9992550021285653\n",
      "Training Loss:\t\t0.3006068295044315\n",
      "Validation Accuracy:\t0.9376780626780626\n",
      "Validation Loss:\t4.29731522500515 \n",
      "Accuracy: 93.76780626780626\n",
      "\n",
      "Epoch: 80 \n",
      "Training Accuracy:\t0.9984035759897829\n",
      "Training Loss:\t\t0.8088040108250425\n",
      "Validation Accuracy:\t0.9483618233618234\n",
      "Validation Loss:\t3.0181066542863846 \n",
      "Accuracy: 94.83618233618233\n",
      "\n",
      "Epoch: 81 \n",
      "Training Accuracy:\t0.996700723712218\n",
      "Training Loss:\t\t1.6859734697645763\n",
      "Validation Accuracy:\t0.9451566951566952\n",
      "Validation Loss:\t3.0071731358766556 \n",
      "Accuracy: 94.51566951566952\n",
      "\n",
      "Epoch: 82 \n",
      "Training Accuracy:\t0.9974989357173265\n",
      "Training Loss:\t\t1.1232334903688752\n",
      "Validation Accuracy:\t0.9476495726495726\n",
      "Validation Loss:\t3.1122498512268066 \n",
      "Accuracy: 94.76495726495726\n",
      "\n",
      "Epoch: 83 \n",
      "Training Accuracy:\t0.9979246487867177\n",
      "Training Loss:\t\t0.966767528139826\n",
      "Validation Accuracy:\t0.8842592592592593\n",
      "Validation Loss:\t7.985673278570175 \n",
      "Accuracy: 88.42592592592592\n",
      "\n",
      "Epoch: 84 \n",
      "Training Accuracy:\t0.9949446573009791\n",
      "Training Loss:\t\t2.7846758609084645\n",
      "Validation Accuracy:\t0.9280626780626781\n",
      "Validation Loss:\t3.54708731174469 \n",
      "Accuracy: 92.80626780626781\n",
      "\n",
      "Epoch: 85 \n",
      "Training Accuracy:\t0.9945189442315879\n",
      "Training Loss:\t\t2.398140273435274\n",
      "Validation Accuracy:\t0.9462250712250713\n",
      "Validation Loss:\t2.592822052538395 \n",
      "Accuracy: 94.62250712250713\n",
      "\n",
      "Epoch: 86 \n",
      "Training Accuracy:\t0.9989889314601959\n",
      "Training Loss:\t\t0.46791537156605045\n",
      "Validation Accuracy:\t0.9529914529914529\n",
      "Validation Loss:\t2.6844394132494926 \n",
      "Accuracy: 95.2991452991453\n",
      "\n",
      "Epoch: 87 \n",
      "Training Accuracy:\t0.9987228607918263\n",
      "Training Loss:\t\t0.5917109848887776\n",
      "Validation Accuracy:\t0.9212962962962963\n",
      "Validation Loss:\t4.869711399078369 \n",
      "Accuracy: 92.12962962962963\n",
      "\n",
      "Epoch: 88 \n",
      "Training Accuracy:\t0.9977117922520221\n",
      "Training Loss:\t\t1.1411974152324547\n",
      "Validation Accuracy:\t0.9376780626780626\n",
      "Validation Loss:\t3.1437123268842697 \n",
      "Accuracy: 93.76780626780626\n",
      "\n",
      "Epoch: 89 \n",
      "Training Accuracy:\t0.9986164325244785\n",
      "Training Loss:\t\t0.5450735880122011\n",
      "Validation Accuracy:\t0.9458689458689459\n",
      "Validation Loss:\t2.9254509806632996 \n",
      "Accuracy: 94.58689458689459\n",
      "\n",
      "Epoch: 90 \n",
      "Training Accuracy:\t0.9985100042571307\n",
      "Training Loss:\t\t0.6060723769069227\n",
      "Validation Accuracy:\t0.9287749287749287\n",
      "Validation Loss:\t3.590945392847061 \n",
      "Accuracy: 92.87749287749287\n",
      "\n",
      "Epoch: 91 \n",
      "Training Accuracy:\t0.9967539378458918\n",
      "Training Loss:\t\t1.701622693119134\n",
      "Validation Accuracy:\t0.9451566951566952\n",
      "Validation Loss:\t3.002526067197323 \n",
      "Accuracy: 94.51566951566952\n",
      "\n",
      "Epoch: 92 \n",
      "Training Accuracy:\t0.9980842911877394\n",
      "Training Loss:\t\t1.0098988895297225\n",
      "Validation Accuracy:\t0.9533475783475783\n",
      "Validation Loss:\t2.5952689722180367 \n",
      "Accuracy: 95.33475783475784\n",
      "\n",
      "Epoch: 93 \n",
      "Training Accuracy:\t0.9973925074499788\n",
      "Training Loss:\t\t1.2911524312876281\n",
      "Validation Accuracy:\t0.9351851851851852\n",
      "Validation Loss:\t3.896992415189743 \n",
      "Accuracy: 93.51851851851852\n",
      "\n",
      "Epoch: 94 \n",
      "Training Accuracy:\t0.9976053639846744\n",
      "Training Loss:\t\t1.2072918583653518\n",
      "Validation Accuracy:\t0.9544159544159544\n",
      "Validation Loss:\t2.4290736094117165 \n",
      "Accuracy: 95.44159544159544\n",
      "\n",
      "Epoch: 95 \n",
      "Training Accuracy:\t0.9993082162622392\n",
      "Training Loss:\t\t0.26686606880412\n",
      "Validation Accuracy:\t0.9305555555555556\n",
      "Validation Loss:\t3.8503798693418503 \n",
      "Accuracy: 93.05555555555556\n",
      "\n",
      "Epoch: 96 \n",
      "Training Accuracy:\t0.9979246487867177\n",
      "Training Loss:\t\t1.012425617092049\n",
      "Validation Accuracy:\t0.9020655270655271\n",
      "Validation Loss:\t5.218359112739563 \n",
      "Accuracy: 90.20655270655271\n",
      "\n",
      "Epoch: 97 \n",
      "Training Accuracy:\t0.9957960834397616\n",
      "Training Loss:\t\t2.359675815256196\n",
      "Validation Accuracy:\t0.8454415954415955\n",
      "Validation Loss:\t9.038249462842941 \n",
      "Accuracy: 84.54415954415954\n",
      "\n",
      "Epoch: 98 \n",
      "Training Accuracy:\t0.9973925074499788\n",
      "Training Loss:\t\t0.9577941589523107\n",
      "Validation Accuracy:\t0.9483618233618234\n",
      "Validation Loss:\t2.55116368830204 \n",
      "Accuracy: 94.83618233618233\n",
      "\n",
      "Epoch: 99 \n",
      "Training Accuracy:\t0.9985632183908046\n",
      "Training Loss:\t\t0.7879649086717109\n",
      "Validation Accuracy:\t0.9440883190883191\n",
      "Validation Loss:\t3.2021364867687225 \n",
      "Accuracy: 94.40883190883191\n",
      "\n",
      "Epoch: 100 \n",
      "Training Accuracy:\t0.998297147722435\n",
      "Training Loss:\t\t0.8091888692524662\n",
      "Validation Accuracy:\t0.957977207977208\n",
      "Validation Loss:\t2.584931433200836 \n",
      "Accuracy: 95.7977207977208\n",
      "\n",
      "Epoch: 101 \n",
      "Training Accuracy:\t0.9981907194550873\n",
      "Training Loss:\t\t0.8645174779358058\n",
      "Validation Accuracy:\t0.9216524216524217\n",
      "Validation Loss:\t4.433027192950249 \n",
      "Accuracy: 92.16524216524216\n",
      "\n",
      "Epoch: 102 \n",
      "Training Accuracy:\t0.9980842911877394\n",
      "Training Loss:\t\t0.863377960256912\n",
      "Validation Accuracy:\t0.9451566951566952\n",
      "Validation Loss:\t3.4353528544306755 \n",
      "Accuracy: 94.51566951566952\n",
      "\n",
      "Epoch: 103 \n",
      "Training Accuracy:\t0.9987228607918263\n",
      "Training Loss:\t\t0.6578089971244481\n",
      "Validation Accuracy:\t0.9504985754985755\n",
      "Validation Loss:\t2.952824965119362 \n",
      "Accuracy: 95.04985754985755\n",
      "\n",
      "Epoch: 104 \n",
      "Training Accuracy:\t0.9985100042571307\n",
      "Training Loss:\t\t0.8291597337192798\n",
      "Validation Accuracy:\t0.9412393162393162\n",
      "Validation Loss:\t3.4470106661319733 \n",
      "Accuracy: 94.12393162393163\n",
      "\n",
      "Epoch: 105 \n",
      "Training Accuracy:\t0.9973925074499788\n",
      "Training Loss:\t\t1.1090196090081008\n",
      "Validation Accuracy:\t0.9437321937321937\n",
      "Validation Loss:\t3.402915395796299 \n",
      "Accuracy: 94.37321937321937\n",
      "\n",
      "Epoch: 106 \n",
      "Training Accuracy:\t0.9967539378458918\n",
      "Training Loss:\t\t1.5162762151267088\n",
      "Validation Accuracy:\t0.9497863247863247\n",
      "Validation Loss:\t2.764735125005245 \n",
      "Accuracy: 94.97863247863248\n",
      "\n",
      "Epoch: 107 \n",
      "Training Accuracy:\t0.9991485738612176\n",
      "Training Loss:\t\t0.4831930517066212\n",
      "Validation Accuracy:\t0.9487179487179487\n",
      "Validation Loss:\t3.0673836320638657 \n",
      "Accuracy: 94.87179487179486\n",
      "\n",
      "Epoch: 108 \n",
      "Training Accuracy:\t0.9980842911877394\n",
      "Training Loss:\t\t0.6993932352288539\n",
      "Validation Accuracy:\t0.9259259259259259\n",
      "Validation Loss:\t4.630275472998619 \n",
      "Accuracy: 92.5925925925926\n",
      "\n",
      "Epoch: 109 \n",
      "Training Accuracy:\t0.9973392933163048\n",
      "Training Loss:\t\t1.5072300429455936\n",
      "Validation Accuracy:\t0.9476495726495726\n",
      "Validation Loss:\t2.958922818303108 \n",
      "Accuracy: 94.76495726495726\n",
      "\n",
      "Epoch: 110 \n",
      "Training Accuracy:\t0.9992017879948915\n",
      "Training Loss:\t\t0.3962165804368851\n",
      "Validation Accuracy:\t0.9576210826210826\n",
      "Validation Loss:\t2.5440700575709343 \n",
      "Accuracy: 95.76210826210826\n",
      "\n",
      "Epoch: 111 \n",
      "Training Accuracy:\t0.9991485738612176\n",
      "Training Loss:\t\t0.41443371854711586\n",
      "Validation Accuracy:\t0.9209401709401709\n",
      "Validation Loss:\t4.539208143949509 \n",
      "Accuracy: 92.09401709401709\n",
      "\n",
      "Epoch: 112 \n",
      "Training Accuracy:\t0.9986696466581524\n",
      "Training Loss:\t\t0.5389779629003897\n",
      "Validation Accuracy:\t0.936965811965812\n",
      "Validation Loss:\t3.8492021411657333 \n",
      "Accuracy: 93.69658119658119\n",
      "\n",
      "Epoch: 113 \n",
      "Training Accuracy:\t0.998297147722435\n",
      "Training Loss:\t\t0.8731615499145846\n",
      "Validation Accuracy:\t0.9280626780626781\n",
      "Validation Loss:\t4.631463974714279 \n",
      "Accuracy: 92.80626780626781\n",
      "\n",
      "Epoch: 114 \n",
      "Training Accuracy:\t0.9984567901234568\n",
      "Training Loss:\t\t0.8920901378878625\n",
      "Validation Accuracy:\t0.9476495726495726\n",
      "Validation Loss:\t3.850367844104767 \n",
      "Accuracy: 94.76495726495726\n",
      "\n",
      "Epoch: 115 \n",
      "Training Accuracy:\t0.998882503192848\n",
      "Training Loss:\t\t0.6120105168893133\n",
      "Validation Accuracy:\t0.9565527065527065\n",
      "Validation Loss:\t3.0576054602861404 \n",
      "Accuracy: 95.65527065527066\n",
      "\n",
      "Epoch: 116 \n",
      "Training Accuracy:\t0.9964878671775224\n",
      "Training Loss:\t\t2.0214307015467057\n",
      "Validation Accuracy:\t0.8425925925925926\n",
      "Validation Loss:\t8.805382311344147 \n",
      "Accuracy: 84.25925925925925\n",
      "\n",
      "Epoch: 117 \n",
      "Training Accuracy:\t0.9976053639846744\n",
      "Training Loss:\t\t1.0077176375125418\n",
      "Validation Accuracy:\t0.9490740740740741\n",
      "Validation Loss:\t2.950688049197197 \n",
      "Accuracy: 94.9074074074074\n",
      "\n",
      "Epoch: 118 \n",
      "Training Accuracy:\t0.9985632183908046\n",
      "Training Loss:\t\t0.6260564794320089\n",
      "Validation Accuracy:\t0.9497863247863247\n",
      "Validation Loss:\t2.7504031360149384 \n",
      "Accuracy: 94.97863247863248\n",
      "\n",
      "Epoch: 119 \n",
      "Training Accuracy:\t0.9997871434653044\n",
      "Training Loss:\t\t0.1770287802992243\n",
      "Validation Accuracy:\t0.948005698005698\n",
      "Validation Loss:\t3.693767622113228 \n",
      "Accuracy: 94.8005698005698\n",
      "\n",
      "Epoch: 120 \n",
      "Training Accuracy:\t0.998882503192848\n",
      "Training Loss:\t\t0.5035658550900735\n",
      "Validation Accuracy:\t0.9501424501424501\n",
      "Validation Loss:\t2.898502752184868 \n",
      "Accuracy: 95.01424501424502\n",
      "\n",
      "Epoch: 121 \n",
      "Training Accuracy:\t0.9996807151979565\n",
      "Training Loss:\t\t0.09550839590292526\n",
      "Validation Accuracy:\t0.9540598290598291\n",
      "Validation Loss:\t3.145510494709015 \n",
      "Accuracy: 95.40598290598291\n",
      "\n",
      "Epoch: 122 \n",
      "Training Accuracy:\t0.9996807151979565\n",
      "Training Loss:\t\t0.1497540585612569\n",
      "Validation Accuracy:\t0.9472934472934473\n",
      "Validation Loss:\t3.644078016281128 \n",
      "Accuracy: 94.72934472934473\n",
      "\n",
      "Epoch: 123 \n",
      "Training Accuracy:\t0.9978714346530438\n",
      "Training Loss:\t\t1.0460674471059974\n",
      "Validation Accuracy:\t0.9205840455840456\n",
      "Validation Loss:\t5.34340363740921 \n",
      "Accuracy: 92.05840455840456\n",
      "\n",
      "Epoch: 124 \n",
      "Training Accuracy:\t0.9943060876968923\n",
      "Training Loss:\t\t2.7199027425813256\n",
      "Validation Accuracy:\t0.8956552706552706\n",
      "Validation Loss:\t5.812975764274597 \n",
      "Accuracy: 89.56552706552706\n",
      "\n",
      "Epoch: 125 \n",
      "Training Accuracy:\t0.9963282247765006\n",
      "Training Loss:\t\t1.7027453614318802\n",
      "Validation Accuracy:\t0.9358974358974359\n",
      "Validation Loss:\t3.8580897599458694 \n",
      "Accuracy: 93.58974358974359\n",
      "\n",
      "Epoch: 126 \n",
      "Training Accuracy:\t0.9991485738612176\n",
      "Training Loss:\t\t0.43642331579212623\n",
      "Validation Accuracy:\t0.9472934472934473\n",
      "Validation Loss:\t3.0361886620521545 \n",
      "Accuracy: 94.72934472934473\n",
      "\n",
      "Epoch: 127 \n",
      "Training Accuracy:\t0.9997871434653044\n",
      "Training Loss:\t\t0.12153909936569107\n",
      "Validation Accuracy:\t0.9544159544159544\n",
      "Validation Loss:\t2.7968920469284058 \n",
      "Accuracy: 95.44159544159544\n",
      "\n",
      "Epoch: 128 \n",
      "Training Accuracy:\t0.9998403575989783\n",
      "Training Loss:\t\t0.10998182787579935\n",
      "Validation Accuracy:\t0.9512108262108262\n",
      "Validation Loss:\t2.986485183238983 \n",
      "Accuracy: 95.12108262108262\n",
      "\n",
      "Epoch: 129 \n",
      "Training Accuracy:\t0.9999467858663261\n",
      "Training Loss:\t\t0.026601482272326393\n",
      "Validation Accuracy:\t0.9537037037037037\n",
      "Validation Loss:\t2.9684635624289513 \n",
      "Accuracy: 95.37037037037037\n",
      "\n",
      "Epoch: 130 \n",
      "Training Accuracy:\t1.0\n",
      "Training Loss:\t\t0.008321157584873617\n",
      "Validation Accuracy:\t0.9540598290598291\n",
      "Validation Loss:\t2.954901337623596 \n",
      "Accuracy: 95.40598290598291\n",
      "\n",
      "Epoch: 131 \n",
      "Training Accuracy:\t0.9996807151979565\n",
      "Training Loss:\t\t0.26108872956945106\n",
      "Validation Accuracy:\t0.9494301994301995\n",
      "Validation Loss:\t3.144317924976349 \n",
      "Accuracy: 94.94301994301995\n",
      "\n",
      "Epoch: 132 \n",
      "Training Accuracy:\t0.9997871434653044\n",
      "Training Loss:\t\t0.14412755901867058\n",
      "Validation Accuracy:\t0.9469373219373219\n",
      "Validation Loss:\t3.4912727177143097 \n",
      "Accuracy: 94.69373219373219\n",
      "\n",
      "Epoch: 133 \n",
      "Training Accuracy:\t0.9999467858663261\n",
      "Training Loss:\t\t0.041998722235348396\n",
      "Validation Accuracy:\t0.9554843304843305\n",
      "Validation Loss:\t2.9921893924474716 \n",
      "Accuracy: 95.54843304843304\n",
      "\n",
      "Epoch: 134 \n",
      "Training Accuracy:\t1.0\n",
      "Training Loss:\t\t0.006106070158239163\n",
      "Validation Accuracy:\t0.9569088319088319\n",
      "Validation Loss:\t3.0142638087272644 \n",
      "Accuracy: 95.6908831908832\n",
      "\n",
      "Epoch: 135 \n",
      "Training Accuracy:\t0.9972860791826309\n",
      "Training Loss:\t\t1.5571564071960893\n",
      "Validation Accuracy:\t0.8952991452991453\n",
      "Validation Loss:\t6.356022298336029 \n",
      "Accuracy: 89.52991452991454\n",
      "\n",
      "Epoch: 136 \n",
      "Training Accuracy:\t0.9946785866326097\n",
      "Training Loss:\t\t2.6940758498531068\n",
      "Validation Accuracy:\t0.8817663817663818\n",
      "Validation Loss:\t6.189036816358566 \n",
      "Accuracy: 88.17663817663818\n",
      "\n",
      "Epoch: 137 \n",
      "Training Accuracy:\t0.99781822051937\n",
      "Training Loss:\t\t1.1114953998767305\n",
      "Validation Accuracy:\t0.9444444444444444\n",
      "Validation Loss:\t3.2193418592214584 \n",
      "Accuracy: 94.44444444444444\n",
      "\n",
      "Epoch: 138 \n",
      "Training Accuracy:\t0.9990421455938697\n",
      "Training Loss:\t\t0.4118578962115862\n",
      "Validation Accuracy:\t0.9383903133903134\n",
      "Validation Loss:\t3.5723482072353363 \n",
      "Accuracy: 93.83903133903134\n",
      "\n",
      "Epoch: 139 \n",
      "Training Accuracy:\t0.9984035759897829\n",
      "Training Loss:\t\t0.895405105879945\n",
      "Validation Accuracy:\t0.9348290598290598\n",
      "Validation Loss:\t3.5355124920606613 \n",
      "Accuracy: 93.48290598290599\n",
      "\n",
      "Epoch: 140 \n",
      "Training Accuracy:\t0.9984035759897829\n",
      "Training Loss:\t\t0.7096234189484676\n",
      "Validation Accuracy:\t0.9526353276353277\n",
      "Validation Loss:\t2.8043797686696053 \n",
      "Accuracy: 95.26353276353277\n",
      "\n",
      "Epoch: 141 \n",
      "Training Accuracy:\t0.9996275010642827\n",
      "Training Loss:\t\t0.12874526018822507\n",
      "Validation Accuracy:\t0.9430199430199431\n",
      "Validation Loss:\t3.5040541142225266 \n",
      "Accuracy: 94.30199430199431\n",
      "\n",
      "Epoch: 142 \n",
      "Training Accuracy:\t0.9993082162622392\n",
      "Training Loss:\t\t0.4416709231782079\n",
      "Validation Accuracy:\t0.9415954415954416\n",
      "Validation Loss:\t3.2802557945251465 \n",
      "Accuracy: 94.15954415954417\n",
      "\n",
      "Epoch: 143 \n",
      "Training Accuracy:\t0.9985100042571307\n",
      "Training Loss:\t\t0.7682417626165261\n",
      "Validation Accuracy:\t0.9440883190883191\n",
      "Validation Loss:\t3.457085520029068 \n",
      "Accuracy: 94.40883190883191\n",
      "\n",
      "Epoch: 144 \n",
      "Training Accuracy:\t0.9986696466581524\n",
      "Training Loss:\t\t0.7593893581761222\n",
      "Validation Accuracy:\t0.9469373219373219\n",
      "Validation Loss:\t3.315809592604637 \n",
      "Accuracy: 94.69373219373219\n",
      "\n",
      "Epoch: 145 \n",
      "Training Accuracy:\t0.9995742869306088\n",
      "Training Loss:\t\t0.16535261599528894\n",
      "Validation Accuracy:\t0.9551282051282052\n",
      "Validation Loss:\t2.902500793337822 \n",
      "Accuracy: 95.51282051282051\n",
      "\n",
      "Epoch: 146 \n",
      "Training Accuracy:\t1.0\n",
      "Training Loss:\t\t0.023561568852301207\n",
      "Validation Accuracy:\t0.9529914529914529\n",
      "Validation Loss:\t3.03428190946579 \n",
      "Accuracy: 95.2991452991453\n",
      "\n",
      "Epoch: 147 \n",
      "Training Accuracy:\t1.0\n",
      "Training Loss:\t\t0.011961750340788058\n",
      "Validation Accuracy:\t0.9540598290598291\n",
      "Validation Loss:\t3.0452693700790405 \n",
      "Accuracy: 95.40598290598291\n",
      "\n",
      "Epoch: 148 \n",
      "Training Accuracy:\t1.0\n",
      "Training Loss:\t\t0.004100389159248152\n",
      "Validation Accuracy:\t0.9540598290598291\n",
      "Validation Loss:\t3.08301942050457 \n",
      "Accuracy: 95.40598290598291\n",
      "\n",
      "Epoch: 149 \n",
      "Training Accuracy:\t1.0\n",
      "Training Loss:\t\t0.006126379816237204\n",
      "Validation Accuracy:\t0.9551282051282052\n",
      "Validation Loss:\t3.0380868315696716 \n",
      "Accuracy: 95.51282051282051\n",
      "\n",
      "Epoch: 150 \n",
      "Training Accuracy:\t1.0\n",
      "Training Loss:\t\t0.003315480872004173\n",
      "Validation Accuracy:\t0.9569088319088319\n",
      "Validation Loss:\t2.9505554139614105 \n",
      "Accuracy: 95.6908831908832\n",
      "\n",
      "Epoch: 151 \n",
      "Training Accuracy:\t1.0\n",
      "Training Loss:\t\t0.0037749634830106515\n",
      "Validation Accuracy:\t0.957977207977208\n",
      "Validation Loss:\t2.943992257118225 \n",
      "Accuracy: 95.7977207977208\n",
      "\n",
      "Epoch: 152 \n",
      "Training Accuracy:\t0.9966475095785441\n",
      "Training Loss:\t\t1.7062001211461393\n",
      "Validation Accuracy:\t0.823005698005698\n",
      "Validation Loss:\t11.236226797103882 \n",
      "Accuracy: 82.3005698005698\n",
      "\n",
      "Epoch: 153 \n",
      "Training Accuracy:\t0.9931353767560664\n",
      "Training Loss:\t\t3.457965533831157\n",
      "Validation Accuracy:\t0.9273504273504274\n",
      "Validation Loss:\t3.376692995429039 \n",
      "Accuracy: 92.73504273504274\n",
      "\n",
      "Epoch: 154 \n",
      "Training Accuracy:\t0.9969667943805874\n",
      "Training Loss:\t\t1.565405883557105\n",
      "Validation Accuracy:\t0.9490740740740741\n",
      "Validation Loss:\t3.0328668132424355 \n",
      "Accuracy: 94.9074074074074\n",
      "\n",
      "Epoch: 155 \n",
      "Training Accuracy:\t0.9986164325244785\n",
      "Training Loss:\t\t0.5430122658435721\n",
      "Validation Accuracy:\t0.9455128205128205\n",
      "Validation Loss:\t3.3197030276060104 \n",
      "Accuracy: 94.55128205128204\n",
      "\n",
      "Epoch: 156 \n",
      "Training Accuracy:\t0.998882503192848\n",
      "Training Loss:\t\t0.5312934558005509\n",
      "Validation Accuracy:\t0.9419515669515669\n",
      "Validation Loss:\t3.092761605978012 \n",
      "Accuracy: 94.19515669515668\n",
      "\n",
      "Epoch: 157 \n",
      "Training Accuracy:\t0.9990421455938697\n",
      "Training Loss:\t\t0.5418393554659815\n",
      "Validation Accuracy:\t0.9334045584045584\n",
      "Validation Loss:\t4.158736318349838 \n",
      "Accuracy: 93.34045584045583\n",
      "\n",
      "Epoch: 158 \n",
      "Training Accuracy:\t0.9993082162622392\n",
      "Training Loss:\t\t0.2935036132539608\n",
      "Validation Accuracy:\t0.9526353276353277\n",
      "Validation Loss:\t2.9772148430347443 \n",
      "Accuracy: 95.26353276353277\n",
      "\n",
      "Epoch: 159 \n",
      "Training Accuracy:\t0.9993614303959132\n",
      "Training Loss:\t\t0.27407046914049715\n",
      "Validation Accuracy:\t0.9362535612535613\n",
      "Validation Loss:\t4.041510134935379 \n",
      "Accuracy: 93.62535612535613\n",
      "\n",
      "Epoch: 160 \n",
      "Training Accuracy:\t0.9977117922520221\n",
      "Training Loss:\t\t0.807009532369193\n",
      "Validation Accuracy:\t0.9287749287749287\n",
      "Validation Loss:\t3.9189091324806213 \n",
      "Accuracy: 92.87749287749287\n",
      "\n",
      "Epoch: 161 \n",
      "Training Accuracy:\t0.9972860791826309\n",
      "Training Loss:\t\t1.2703628514118463\n",
      "Validation Accuracy:\t0.9401709401709402\n",
      "Validation Loss:\t3.2168597131967545 \n",
      "Accuracy: 94.01709401709401\n",
      "\n",
      "Epoch: 162 \n",
      "Training Accuracy:\t0.9990421455938697\n",
      "Training Loss:\t\t0.3460449493877604\n",
      "Validation Accuracy:\t0.9472934472934473\n",
      "Validation Loss:\t3.3325520753860474 \n",
      "Accuracy: 94.72934472934473\n",
      "\n",
      "Epoch: 163 \n",
      "Training Accuracy:\t0.9993614303959132\n",
      "Training Loss:\t\t0.30601002091452756\n",
      "Validation Accuracy:\t0.948005698005698\n",
      "Validation Loss:\t3.008440986275673 \n",
      "Accuracy: 94.8005698005698\n",
      "\n",
      "Epoch: 164 \n",
      "Training Accuracy:\t0.9996807151979565\n",
      "Training Loss:\t\t0.15287291728918717\n",
      "Validation Accuracy:\t0.9529914529914529\n",
      "Validation Loss:\t2.7376525849103928 \n",
      "Accuracy: 95.2991452991453\n",
      "\n",
      "Epoch: 165 \n",
      "Training Accuracy:\t0.9987228607918263\n",
      "Training Loss:\t\t0.6319810341333323\n",
      "Validation Accuracy:\t0.9038461538461539\n",
      "Validation Loss:\t5.795564949512482 \n",
      "Accuracy: 90.38461538461539\n",
      "\n",
      "Epoch: 166 \n",
      "Training Accuracy:\t0.9990421455938697\n",
      "Training Loss:\t\t0.49562163897462597\n",
      "Validation Accuracy:\t0.9490740740740741\n",
      "Validation Loss:\t2.7486292719841003 \n",
      "Accuracy: 94.9074074074074\n",
      "\n",
      "Epoch: 167 \n",
      "Training Accuracy:\t0.9994146445295871\n",
      "Training Loss:\t\t0.2418977101924611\n",
      "Validation Accuracy:\t0.9512108262108262\n",
      "Validation Loss:\t3.1145137324929237 \n",
      "Accuracy: 95.12108262108262\n",
      "\n",
      "Epoch: 168 \n",
      "Training Accuracy:\t0.9995210727969349\n",
      "Training Loss:\t\t0.3245858630643852\n",
      "Validation Accuracy:\t0.9448005698005698\n",
      "Validation Loss:\t3.413664937019348 \n",
      "Accuracy: 94.48005698005699\n",
      "\n",
      "Epoch: 169 \n",
      "Training Accuracy:\t0.9995742869306088\n",
      "Training Loss:\t\t0.20384516549916043\n",
      "Validation Accuracy:\t0.9494301994301995\n",
      "Validation Loss:\t3.442009463906288 \n",
      "Accuracy: 94.94301994301995\n",
      "\n",
      "Epoch: 170 \n",
      "Training Accuracy:\t0.9985100042571307\n",
      "Training Loss:\t\t0.769550593792701\n",
      "Validation Accuracy:\t0.9515669515669516\n",
      "Validation Loss:\t3.2096590399742126 \n",
      "Accuracy: 95.15669515669516\n",
      "\n",
      "Epoch: 171 \n",
      "Training Accuracy:\t0.9982439335887612\n",
      "Training Loss:\t\t0.9287265209568432\n",
      "Validation Accuracy:\t0.8810541310541311\n",
      "Validation Loss:\t9.558314502239227 \n",
      "Accuracy: 88.1054131054131\n",
      "\n",
      "Epoch: 172 \n",
      "Training Accuracy:\t0.9965410813111962\n",
      "Training Loss:\t\t1.663691383510013\n",
      "Validation Accuracy:\t0.9462250712250713\n",
      "Validation Loss:\t2.96806950122118 \n",
      "Accuracy: 94.62250712250713\n",
      "\n",
      "Epoch: 173 \n",
      "Training Accuracy:\t0.9995210727969349\n",
      "Training Loss:\t\t0.31207370152787917\n",
      "Validation Accuracy:\t0.9398148148148148\n",
      "Validation Loss:\t3.2773381918668747 \n",
      "Accuracy: 93.98148148148148\n",
      "\n",
      "Epoch: 174 \n",
      "Training Accuracy:\t0.9993614303959132\n",
      "Training Loss:\t\t0.30196361873368005\n",
      "Validation Accuracy:\t0.9515669515669516\n",
      "Validation Loss:\t3.191691443324089 \n",
      "Accuracy: 95.15669515669516\n",
      "\n",
      "Epoch: 175 \n",
      "Training Accuracy:\t0.9997871434653044\n",
      "Training Loss:\t\t0.09884130046953032\n",
      "Validation Accuracy:\t0.9544159544159544\n",
      "Validation Loss:\t2.829736553132534 \n",
      "Accuracy: 95.44159544159544\n",
      "\n",
      "Epoch: 176 \n",
      "Training Accuracy:\t0.9997871434653044\n",
      "Training Loss:\t\t0.05961710775090978\n",
      "Validation Accuracy:\t0.9540598290598291\n",
      "Validation Loss:\t2.777018189430237 \n",
      "Accuracy: 95.40598290598291\n",
      "\n",
      "Epoch: 177 \n",
      "Training Accuracy:\t1.0\n",
      "Training Loss:\t\t0.024832716415801315\n",
      "Validation Accuracy:\t0.9565527065527065\n",
      "Validation Loss:\t2.828815668821335 \n",
      "Accuracy: 95.65527065527066\n",
      "\n",
      "Epoch: 178 \n",
      "Training Accuracy:\t0.9997871434653044\n",
      "Training Loss:\t\t0.11603459726052279\n",
      "Validation Accuracy:\t0.9440883190883191\n",
      "Validation Loss:\t3.807761788368225 \n",
      "Accuracy: 94.40883190883191\n",
      "\n",
      "Epoch: 179 \n",
      "Training Accuracy:\t0.9972860791826309\n",
      "Training Loss:\t\t1.6285629768704268\n",
      "Validation Accuracy:\t0.9131054131054132\n",
      "Validation Loss:\t4.8591572642326355 \n",
      "Accuracy: 91.31054131054131\n",
      "\n",
      "Epoch: 180 \n",
      "Training Accuracy:\t0.9968603661132397\n",
      "Training Loss:\t\t1.5998316293917014\n",
      "Validation Accuracy:\t0.9412393162393162\n",
      "Validation Loss:\t2.936345085501671 \n",
      "Accuracy: 94.12393162393163\n",
      "\n",
      "Epoch: 181 \n",
      "Training Accuracy:\t0.9985100042571307\n",
      "Training Loss:\t\t0.7921470754481561\n",
      "Validation Accuracy:\t0.9444444444444444\n",
      "Validation Loss:\t3.1626753211021423 \n",
      "Accuracy: 94.44444444444444\n",
      "\n",
      "Epoch: 182 \n",
      "Training Accuracy:\t0.998882503192848\n",
      "Training Loss:\t\t0.6616135760395991\n",
      "Validation Accuracy:\t0.9455128205128205\n",
      "Validation Loss:\t3.2098316848278046 \n",
      "Accuracy: 94.55128205128204\n",
      "\n",
      "Epoch: 183 \n",
      "Training Accuracy:\t0.9994146445295871\n",
      "Training Loss:\t\t0.2391501096662978\n",
      "Validation Accuracy:\t0.9319800569800569\n",
      "Validation Loss:\t4.450909540057182 \n",
      "Accuracy: 93.19800569800569\n",
      "\n",
      "Epoch: 184 \n",
      "Training Accuracy:\t0.9987760749255002\n",
      "Training Loss:\t\t0.5387910515892145\n",
      "Validation Accuracy:\t0.9423076923076923\n",
      "Validation Loss:\t4.044575646519661 \n",
      "Accuracy: 94.23076923076923\n",
      "\n",
      "Epoch: 185 \n",
      "Training Accuracy:\t0.9992017879948915\n",
      "Training Loss:\t\t0.3933400783189427\n",
      "Validation Accuracy:\t0.9501424501424501\n",
      "Validation Loss:\t3.072595864534378 \n",
      "Accuracy: 95.01424501424502\n",
      "\n",
      "Epoch: 186 \n",
      "Training Accuracy:\t0.9994146445295871\n",
      "Training Loss:\t\t0.3775540644337525\n",
      "Validation Accuracy:\t0.9494301994301995\n",
      "Validation Loss:\t3.22978974878788 \n",
      "Accuracy: 94.94301994301995\n",
      "\n",
      "Epoch: 187 \n",
      "Training Accuracy:\t0.9971264367816092\n",
      "Training Loss:\t\t1.5111949412312242\n",
      "Validation Accuracy:\t0.9391025641025641\n",
      "Validation Loss:\t3.596273571252823 \n",
      "Accuracy: 93.91025641025641\n",
      "\n",
      "Epoch: 188 \n",
      "Training Accuracy:\t0.9988292890591741\n",
      "Training Loss:\t\t0.4844414842682454\n",
      "Validation Accuracy:\t0.9483618233618234\n",
      "Validation Loss:\t2.9813896864652634 \n",
      "Accuracy: 94.83618233618233\n",
      "\n",
      "Epoch: 189 \n",
      "Training Accuracy:\t0.9996275010642827\n",
      "Training Loss:\t\t0.23903726828029903\n",
      "Validation Accuracy:\t0.9341168091168092\n",
      "Validation Loss:\t3.9155615270137787 \n",
      "Accuracy: 93.41168091168092\n",
      "\n",
      "Epoch: 190 \n",
      "Training Accuracy:\t0.9994146445295871\n",
      "Training Loss:\t\t0.34504666591328714\n",
      "Validation Accuracy:\t0.9483618233618234\n",
      "Validation Loss:\t3.272123947739601 \n",
      "Accuracy: 94.83618233618233\n",
      "\n",
      "Epoch: 191 \n",
      "Training Accuracy:\t0.9991485738612176\n",
      "Training Loss:\t\t0.45616191345106927\n",
      "Validation Accuracy:\t0.9401709401709402\n",
      "Validation Loss:\t4.458032935857773 \n",
      "Accuracy: 94.01709401709401\n",
      "\n",
      "Epoch: 192 \n",
      "Training Accuracy:\t0.9997339293316305\n",
      "Training Loss:\t\t0.09358021674347583\n",
      "Validation Accuracy:\t0.948005698005698\n",
      "Validation Loss:\t3.4234723895788193 \n",
      "Accuracy: 94.8005698005698\n",
      "\n",
      "Epoch: 193 \n",
      "Training Accuracy:\t0.9993614303959132\n",
      "Training Loss:\t\t0.32366217839808087\n",
      "Validation Accuracy:\t0.9551282051282052\n",
      "Validation Loss:\t2.8344974890351295 \n",
      "Accuracy: 95.51282051282051\n",
      "\n",
      "Epoch: 194 \n",
      "Training Accuracy:\t0.9998403575989783\n",
      "Training Loss:\t\t0.09575759803578876\n",
      "Validation Accuracy:\t0.9558404558404558\n",
      "Validation Loss:\t3.126078650355339 \n",
      "Accuracy: 95.58404558404558\n",
      "\n",
      "Epoch: 195 \n",
      "Training Accuracy:\t1.0\n",
      "Training Loss:\t\t0.01163609587524661\n",
      "Validation Accuracy:\t0.9551282051282052\n",
      "Validation Loss:\t2.969391956925392 \n",
      "Accuracy: 95.51282051282051\n",
      "\n",
      "Epoch: 196 \n",
      "Training Accuracy:\t0.9997871434653044\n",
      "Training Loss:\t\t0.2082259542112297\n",
      "Validation Accuracy:\t0.9448005698005698\n",
      "Validation Loss:\t3.683427110314369 \n",
      "Accuracy: 94.48005698005699\n",
      "\n",
      "Epoch: 197 \n",
      "Training Accuracy:\t0.9985632183908046\n",
      "Training Loss:\t\t0.8408673670990083\n",
      "Validation Accuracy:\t0.9487179487179487\n",
      "Validation Loss:\t3.3927481174468994 \n",
      "Accuracy: 94.87179487179486\n",
      "\n",
      "Epoch: 198 \n",
      "Training Accuracy:\t0.9991485738612176\n",
      "Training Loss:\t\t0.3859675922867609\n",
      "Validation Accuracy:\t0.9284188034188035\n",
      "Validation Loss:\t4.648307025432587 \n",
      "Accuracy: 92.84188034188034\n",
      "\n",
      "Epoch: 199 \n",
      "Training Accuracy:\t0.9978714346530438\n",
      "Training Loss:\t\t1.074000131144203\n",
      "Validation Accuracy:\t0.9508547008547008\n",
      "Validation Loss:\t2.8649195060133934 \n",
      "Accuracy: 95.08547008547008\n"
     ]
    }
   ],
   "source": [
    "torch.multiprocessing.freeze_support()\n",
    "run_model()\n"
   ]
  },
  {
   "cell_type": "code",
   "execution_count": 8,
   "id": "05883a2f",
   "metadata": {},
   "outputs": [
    {
     "name": "stdout",
     "output_type": "stream",
     "text": [
      "/opt/homebrew/Caskroom/miniforge/base/envs/pytorch_p396/lib/python3.9/site-packages/gdown/cli.py:127: FutureWarning: Option `--id` was deprecated in version 4.3.1 and will be removed in 5.0. You don't need to pass it anymore to use a file ID.\n",
      "  warnings.warn(\n",
      "Downloading...\n",
      "From: https://drive.google.com/uc?id=18MlrI-pxo8r4sC-q0Qp6g-U9mmrSjtYZ\n",
      "To: /Users/ankitverma/Documents/KGP/MTech/Semester_2/CL2/W8_CNN/resnet_21CS60A04_AnkitKumarVerma/logs_resnet/best_eurosat_pretrained_false.pth\n",
      "100%|██████████████████████████████████████| 44.8M/44.8M [00:01<00:00, 27.8MB/s]\n",
      "/opt/homebrew/Caskroom/miniforge/base/envs/pytorch_p396/lib/python3.9/site-packages/gdown/cli.py:127: FutureWarning: Option `--id` was deprecated in version 4.3.1 and will be removed in 5.0. You don't need to pass it anymore to use a file ID.\n",
      "  warnings.warn(\n",
      "Downloading...\n",
      "From: https://drive.google.com/uc?id=1vbOjbDc4r2CtjMsekdKfetCKl-7e_-RA\n",
      "To: /Users/ankitverma/Documents/KGP/MTech/Semester_2/CL2/W8_CNN/resnet_21CS60A04_AnkitKumarVerma/logs_resnet/best_eurosat_pretrained_true.pth\n",
      "100%|██████████████████████████████████████| 44.8M/44.8M [00:01<00:00, 25.7MB/s]\n"
     ]
    }
   ],
   "source": [
    "if not Path(\"logs_resnet/best_eurosat_pretrained_false.pth\").exists():\n",
    "    !gdown --fuzzy --id 18MlrI-pxo8r4sC-q0Qp6g-U9mmrSjtYZ -O 'logs_resnet/'\n",
    "if not Path(\"logs_resnet/best_eurosat_pretrained_true.pth\").exists():\n",
    "    !gdown --fuzzy --id 1vbOjbDc4r2CtjMsekdKfetCKl-7e_-RA -O 'logs_resnet/'"
   ]
  },
  {
   "cell_type": "markdown",
   "id": "5c0a311b",
   "metadata": {
    "id": "1ZtdllOc0hA0",
    "papermill": {
     "duration": 0.390337,
     "end_time": "2022-03-30T13:36:58.570019",
     "exception": false,
     "start_time": "2022-03-30T13:36:58.179682",
     "status": "completed"
    },
    "tags": []
   },
   "source": [
    "#### Creating instance of best model"
   ]
  },
  {
   "cell_type": "code",
   "execution_count": 19,
   "id": "7ffaacd0",
   "metadata": {
    "execution": {
     "iopub.execute_input": "2022-03-30T13:36:59.417922Z",
     "iopub.status.busy": "2022-03-30T13:36:59.416754Z",
     "iopub.status.idle": "2022-03-30T13:36:59.860969Z",
     "shell.execute_reply": "2022-03-30T13:36:59.862353Z",
     "shell.execute_reply.started": "2022-03-30T13:05:36.528029Z"
    },
    "id": "m6-q2oWY0kuU",
    "papermill": {
     "duration": 0.888161,
     "end_time": "2022-03-30T13:36:59.862685",
     "exception": false,
     "start_time": "2022-03-30T13:36:58.974524",
     "status": "completed"
    },
    "tags": []
   },
   "outputs": [],
   "source": [
    "# Loading the best model based on evaluation\n",
    "model = models.resnet18(pretrained=True)\n",
    "n_features = model.fc.in_features\n",
    "model.fc = nn.Linear(n_features, len_dataset_classes)\n",
    "#model.load_state_dict(torch.load('../input/best-eurosat-modal1/best_eurosat_model_1.pth')['net'])\n",
    "if device.type == 'cpu':\n",
    "    model.load_state_dict(torch.load('logs_resnet/best_eurosat_pretrained_true.pth',map_location=torch.device('cpu'))['net'])\n",
    "else:\n",
    "    model.load_state_dict(torch.load('logs_resnet/best_eurosat_pretrained_true.pth')['net'])\n",
    "model = model.to(device)"
   ]
  },
  {
   "cell_type": "markdown",
   "id": "0573e254",
   "metadata": {
    "id": "I_H1zy340DSS",
    "papermill": {
     "duration": 0.229402,
     "end_time": "2022-03-30T13:37:00.439390",
     "exception": false,
     "start_time": "2022-03-30T13:37:00.209988",
     "status": "completed"
    },
    "tags": []
   },
   "source": [
    "#### Accuracy on Validation Dataset"
   ]
  },
  {
   "cell_type": "code",
   "execution_count": 37,
   "id": "e7e8d657",
   "metadata": {
    "execution": {
     "iopub.execute_input": "2022-03-30T13:37:00.910256Z",
     "iopub.status.busy": "2022-03-30T13:37:00.909138Z",
     "iopub.status.idle": "2022-03-30T13:37:01.475388Z",
     "shell.execute_reply": "2022-03-30T13:37:01.476192Z",
     "shell.execute_reply.started": "2022-03-30T13:01:48.795510Z"
    },
    "id": "THZbA2sA0IlF",
    "outputId": "3dd426d7-cfcc-4d22-beb9-654d19701d56",
    "papermill": {
     "duration": 0.806193,
     "end_time": "2022-03-30T13:37:01.476474",
     "exception": false,
     "start_time": "2022-03-30T13:37:00.670281",
     "status": "completed"
    },
    "tags": []
   },
   "outputs": [
    {
     "name": "stdout",
     "output_type": "stream",
     "text": [
      "Accuracy on Validation DataSet: 0.9608262108262108\n"
     ]
    }
   ],
   "source": [
    "#print('Validation Accuracy')\n",
    "val_preds = get_all_preds(model, val_dl)\n",
    "print(f'Accuracy on Validation DataSet: {calculate_accuracy(val_preds, len_valset, False)}')"
   ]
  },
  {
   "cell_type": "markdown",
   "id": "40ad5982",
   "metadata": {
    "id": "ziM6elfK0Mza",
    "papermill": {
     "duration": 0.229069,
     "end_time": "2022-03-30T13:37:01.932661",
     "exception": false,
     "start_time": "2022-03-30T13:37:01.703592",
     "status": "completed"
    },
    "tags": []
   },
   "source": [
    "#### Accuracy on Test Dataset"
   ]
  },
  {
   "cell_type": "code",
   "execution_count": 32,
   "id": "976d6584",
   "metadata": {
    "execution": {
     "iopub.execute_input": "2022-03-30T13:37:02.413337Z",
     "iopub.status.busy": "2022-03-30T13:37:02.412314Z",
     "iopub.status.idle": "2022-03-30T13:37:03.616202Z",
     "shell.execute_reply": "2022-03-30T13:37:03.616926Z",
     "shell.execute_reply.started": "2022-03-30T13:05:54.876522Z"
    },
    "id": "89wEAqEK0P7r",
    "outputId": "80649c6d-4414-44e4-dacb-8f10e53e2eda",
    "papermill": {
     "duration": 1.452553,
     "end_time": "2022-03-30T13:37:03.617145",
     "exception": false,
     "start_time": "2022-03-30T13:37:02.164592",
     "status": "completed"
    },
    "tags": []
   },
   "outputs": [
    {
     "name": "stdout",
     "output_type": "stream",
     "text": [
      "Testdata set accuracy\n",
      "Accuracy on Test DataSet: 0.9553703703703704\n"
     ]
    }
   ],
   "source": [
    "print('Testdata set accuracy')\n",
    "\n",
    "test_preds = get_all_preds(model, test_dl)\n",
    "preds_lbl = []\n",
    "for itr in range(len_testset):\n",
    "  p = torch.argmax(test_preds[itr])\n",
    "  preds_lbl.append(p.item())\n",
    "\n",
    "p_file = open('./submission.csv', 'w')\n",
    "p_file.write(f\"id,label\\n\")\n",
    "for itr in range(len_testset):\n",
    "  p_file.write(f\"{itr},{preds_lbl[itr]}\\n\")\n",
    "p_file.close()\n",
    "\n",
    "print(f'Accuracy on Test DataSet: {calculate_accuracy(test_preds, len_testset)}')"
   ]
  },
  {
   "cell_type": "markdown",
   "id": "7cf401a9",
   "metadata": {
    "id": "OnYtK3Dv95WA",
    "papermill": {
     "duration": 0.226389,
     "end_time": "2022-03-30T13:37:04.071717",
     "exception": false,
     "start_time": "2022-03-30T13:37:03.845328",
     "status": "completed"
    },
    "tags": []
   },
   "source": [
    "#### Plotting loss of training dataset"
   ]
  },
  {
   "cell_type": "code",
   "execution_count": 33,
   "id": "3a6467cd",
   "metadata": {
    "execution": {
     "iopub.execute_input": "2022-03-30T13:37:04.531088Z",
     "iopub.status.busy": "2022-03-30T13:37:04.530014Z",
     "iopub.status.idle": "2022-03-30T13:37:04.533321Z",
     "shell.execute_reply": "2022-03-30T13:37:04.532816Z",
     "shell.execute_reply.started": "2022-03-30T13:01:50.959413Z"
    },
    "id": "XGMSDe359_nf",
    "papermill": {
     "duration": 0.238496,
     "end_time": "2022-03-30T13:37:04.533474",
     "exception": false,
     "start_time": "2022-03-30T13:37:04.294978",
     "status": "completed"
    },
    "tags": []
   },
   "outputs": [],
   "source": [
    "def plot_stats(stat_data, y_label, title):\n",
    "    statistics = stat_data\n",
    "    plt.plot(statistics, '-x')\n",
    "    plt.xlabel('Epoch')\n",
    "    plt.ylabel(y_label)\n",
    "    plt.title(title);"
   ]
  },
  {
   "cell_type": "markdown",
   "id": "fbadf832",
   "metadata": {
    "id": "lm63QINeB3_V",
    "papermill": {
     "duration": 0.229817,
     "end_time": "2022-03-30T13:37:04.986816",
     "exception": false,
     "start_time": "2022-03-30T13:37:04.756999",
     "status": "completed"
    },
    "tags": []
   },
   "source": [
    "##### Plotting Training Loss"
   ]
  },
  {
   "cell_type": "code",
   "execution_count": 34,
   "id": "f963fb54",
   "metadata": {
    "execution": {
     "iopub.execute_input": "2022-03-30T13:37:05.451196Z",
     "iopub.status.busy": "2022-03-30T13:37:05.450174Z",
     "iopub.status.idle": "2022-03-30T13:37:05.723227Z",
     "shell.execute_reply": "2022-03-30T13:37:05.722746Z",
     "shell.execute_reply.started": "2022-03-30T13:01:50.968916Z"
    },
    "id": "XH4a1GPpBAi1",
    "outputId": "c2357896-7361-4fe9-9465-52ba1281acb7",
    "papermill": {
     "duration": 0.514087,
     "end_time": "2022-03-30T13:37:05.723367",
     "exception": false,
     "start_time": "2022-03-30T13:37:05.209280",
     "status": "completed"
    },
    "tags": []
   },
   "outputs": [
    {
     "data": {
      "image/png": "[encoded data removed]",
      "text/plain": [
       "<Figure size 432x288 with 1 Axes>"
      ]
     },
     "metadata": {
      "needs_background": "light"
     },
     "output_type": "display_data"
    }
   ],
   "source": [
    "plot_stats(training_loss, 'Training Loss', 'Training Loss vs. No. of Epochs')"
   ]
  },
  {
   "cell_type": "markdown",
   "id": "658729f0",
   "metadata": {
    "id": "Fl9giE4NB-M8",
    "papermill": {
     "duration": 0.227751,
     "end_time": "2022-03-30T13:37:06.186927",
     "exception": false,
     "start_time": "2022-03-30T13:37:05.959176",
     "status": "completed"
    },
    "tags": []
   },
   "source": [
    "##### Plotting Training Accuracy"
   ]
  },
  {
   "cell_type": "code",
   "execution_count": 35,
   "id": "82a8510f",
   "metadata": {
    "execution": {
     "iopub.execute_input": "2022-03-30T13:37:06.657238Z",
     "iopub.status.busy": "2022-03-30T13:37:06.654659Z",
     "iopub.status.idle": "2022-03-30T13:37:06.873467Z",
     "shell.execute_reply": "2022-03-30T13:37:06.872955Z",
     "shell.execute_reply.started": "2022-03-30T13:01:51.255226Z"
    },
    "id": "ZJQjFlxrBhFb",
    "outputId": "86d5164f-ec7a-4351-a037-714e2c0464d1",
    "papermill": {
     "duration": 0.46179,
     "end_time": "2022-03-30T13:37:06.873642",
     "exception": false,
     "start_time": "2022-03-30T13:37:06.411852",
     "status": "completed"
    },
    "tags": []
   },
   "outputs": [
    {
     "data": {
      "image/png": "[encoded data removed]",
      "text/plain": [
       "<Figure size 432x288 with 1 Axes>"
      ]
     },
     "metadata": {
      "needs_background": "light"
     },
     "output_type": "display_data"
    }
   ],
   "source": [
    "plot_stats(training_acc, 'Training Accuracy', 'Training Accuracy vs. No. of Epochs')"
   ]
  },
  {
   "cell_type": "markdown",
   "id": "b9953103",
   "metadata": {
    "id": "AV6p5MjLCB69",
    "papermill": {
     "duration": 0.225642,
     "end_time": "2022-03-30T13:37:07.341611",
     "exception": false,
     "start_time": "2022-03-30T13:37:07.115969",
     "status": "completed"
    },
    "tags": []
   },
   "source": [
    "##### Plotting Validation Loss"
   ]
  },
  {
   "cell_type": "code",
   "execution_count": 36,
   "id": "7fba3ae1",
   "metadata": {
    "execution": {
     "iopub.execute_input": "2022-03-30T13:37:07.826780Z",
     "iopub.status.busy": "2022-03-30T13:37:07.819505Z",
     "iopub.status.idle": "2022-03-30T13:37:08.051440Z",
     "shell.execute_reply": "2022-03-30T13:37:08.052000Z",
     "shell.execute_reply.started": "2022-03-30T13:01:51.533724Z"
    },
    "id": "9H2uT775BNe5",
    "outputId": "fbc5c26b-08b9-496e-e439-09f3000b82b8",
    "papermill": {
     "duration": 0.479997,
     "end_time": "2022-03-30T13:37:08.052150",
     "exception": false,
     "start_time": "2022-03-30T13:37:07.572153",
     "status": "completed"
    },
    "tags": []
   },
   "outputs": [
    {
     "data": {
      "image/png": "[encoded data removed]",
      "text/plain": [
       "<Figure size 432x288 with 1 Axes>"
      ]
     },
     "metadata": {
      "needs_background": "light"
     },
     "output_type": "display_data"
    }
   ],
   "source": [
    "plot_stats(validation_loss, 'Validation Loss', 'Validation Loss vs. No. of Epochs')"
   ]
  },
  {
   "cell_type": "markdown",
   "id": "5af37bdf",
   "metadata": {
    "id": "ZuVYxqv3CENd",
    "papermill": {
     "duration": 0.227385,
     "end_time": "2022-03-30T13:37:08.503522",
     "exception": false,
     "start_time": "2022-03-30T13:37:08.276137",
     "status": "completed"
    },
    "tags": []
   },
   "source": [
    "##### Plotting Validation Accuracy"
   ]
  },
  {
   "cell_type": "code",
   "execution_count": 37,
   "id": "33835eba",
   "metadata": {
    "execution": {
     "iopub.execute_input": "2022-03-30T13:37:08.999066Z",
     "iopub.status.busy": "2022-03-30T13:37:08.989753Z",
     "iopub.status.idle": "2022-03-30T13:37:09.227766Z",
     "shell.execute_reply": "2022-03-30T13:37:09.228232Z",
     "shell.execute_reply.started": "2022-03-30T13:01:51.811272Z"
    },
    "id": "lIXnMDqDBdje",
    "outputId": "5aaad7f7-b3f5-49fe-8c75-cec5e499dfce",
    "papermill": {
     "duration": 0.493681,
     "end_time": "2022-03-30T13:37:09.228386",
     "exception": false,
     "start_time": "2022-03-30T13:37:08.734705",
     "status": "completed"
    },
    "tags": []
   },
   "outputs": [
    {
     "data": {
      "image/png": "[encoded data removed]",
      "text/plain": [
       "<Figure size 432x288 with 1 Axes>"
      ]
     },
     "metadata": {
      "needs_background": "light"
     },
     "output_type": "display_data"
    }
   ],
   "source": [
    "plot_stats(validation_acc, 'Validation Accuracy', 'Validation Accuracy vs. No. of Epochs')"
   ]
  },
  {
   "cell_type": "markdown",
   "id": "f5221985",
   "metadata": {
    "id": "uPU9oQdaDhKh",
    "papermill": {
     "duration": 0.242955,
     "end_time": "2022-03-30T13:37:09.708072",
     "exception": false,
     "start_time": "2022-03-30T13:37:09.465117",
     "status": "completed"
    },
    "tags": []
   },
   "source": [
    "#### Recall Values"
   ]
  },
  {
   "cell_type": "code",
   "execution_count": 38,
   "id": "b3c79beb",
   "metadata": {
    "execution": {
     "iopub.execute_input": "2022-03-30T13:37:10.181251Z",
     "iopub.status.busy": "2022-03-30T13:37:10.180128Z",
     "iopub.status.idle": "2022-03-30T13:37:11.404652Z",
     "shell.execute_reply": "2022-03-30T13:37:11.405299Z",
     "shell.execute_reply.started": "2022-03-30T13:01:52.107802Z"
    },
    "id": "wwX6BWbuDmPu",
    "outputId": "53c2bcbb-2aec-4ec4-9283-e9cc549095fc",
    "papermill": {
     "duration": 1.461658,
     "end_time": "2022-03-30T13:37:11.405529",
     "exception": false,
     "start_time": "2022-03-30T13:37:09.943871",
     "status": "completed"
    },
    "tags": []
   },
   "outputs": [
    {
     "name": "stdout",
     "output_type": "stream",
     "text": [
      "Class\t\tRecall Value\n",
      "AnnualCrop      0.965          \n",
      "Forest          0.9933333333333333\n",
      "HerbaceousVeg   0.9183333333333333\n",
      "Highway         0.958          \n",
      "Industrial      0.964          \n",
      "Pasture         0.9075         \n",
      "PermanentCrop   0.914          \n",
      "Residential     0.9766666666666667\n",
      "River           0.94           \n",
      "SeaLake         0.9933333333333333\n"
     ]
    }
   ],
   "source": [
    "test_preds = get_all_preds(model, test_dl)\n",
    "test_preds_lbl = []\n",
    "for itr in range(len_testset):\n",
    "  p = torch.argmax(test_preds[itr])\n",
    "  test_preds_lbl.append(p.item())\n",
    "\n",
    "test_actual_lbl = test_actual_labels\n",
    "recall_scores = recall_score(test_actual_lbl, test_preds_lbl, average=None)\n",
    "print(f'Class\\t\\tRecall Value')\n",
    "for itr in range(10):\n",
    "  print (\"{:<15} {:<15}\".format( dataset_classes[itr], recall_scores[itr]))\n",
    "  #print(f'{dataset_classes[itr]}\\t:\\t{recall_scores[itr]}')"
   ]
  },
  {
   "cell_type": "markdown",
   "id": "b78b1361",
   "metadata": {
    "papermill": {
     "duration": 0.314594,
     "end_time": "2022-03-30T13:37:11.996075",
     "exception": false,
     "start_time": "2022-03-30T13:37:11.681481",
     "status": "completed"
    },
    "tags": []
   },
   "source": [
    "#### Four examples the model got wrong and was most confident about"
   ]
  },
  {
   "cell_type": "code",
   "execution_count": 39,
   "id": "c9c68bc0",
   "metadata": {
    "execution": {
     "iopub.execute_input": "2022-03-30T13:37:12.545253Z",
     "iopub.status.busy": "2022-03-30T13:37:12.544170Z",
     "iopub.status.idle": "2022-03-30T13:37:12.548267Z",
     "shell.execute_reply": "2022-03-30T13:37:12.549016Z",
     "shell.execute_reply.started": "2022-03-30T13:01:53.186396Z"
    },
    "papermill": {
     "duration": 0.288816,
     "end_time": "2022-03-30T13:37:12.549177",
     "exception": false,
     "start_time": "2022-03-30T13:37:12.260361",
     "status": "completed"
    },
    "tags": []
   },
   "outputs": [
    {
     "data": {
      "text/plain": [
       "array([0.965     , 0.99333333, 0.91833333, 0.958     , 0.964     ,\n",
       "       0.9075    , 0.914     , 0.97666667, 0.94      , 0.99333333])"
      ]
     },
     "execution_count": 39,
     "metadata": {},
     "output_type": "execute_result"
    }
   ],
   "source": [
    "recall_scores_np = np.asarray(recall_scores)\n",
    "recall_scores_np"
   ]
  },
  {
   "cell_type": "code",
   "execution_count": 40,
   "id": "be259e2b",
   "metadata": {
    "execution": {
     "iopub.execute_input": "2022-03-30T13:37:13.126717Z",
     "iopub.status.busy": "2022-03-30T13:37:13.121518Z",
     "iopub.status.idle": "2022-03-30T13:37:13.130489Z",
     "shell.execute_reply": "2022-03-30T13:37:13.131374Z",
     "shell.execute_reply.started": "2022-03-30T13:01:53.201758Z"
    },
    "papermill": {
     "duration": 0.292965,
     "end_time": "2022-03-30T13:37:13.131611",
     "exception": false,
     "start_time": "2022-03-30T13:37:12.838646",
     "status": "completed"
    },
    "tags": []
   },
   "outputs": [
    {
     "data": {
      "text/plain": [
       "1"
      ]
     },
     "execution_count": 40,
     "metadata": {},
     "output_type": "execute_result"
    }
   ],
   "source": [
    "most_confident = np.argmax(recall_scores_np, axis=0)\n",
    "most_confident"
   ]
  },
  {
   "cell_type": "code",
   "execution_count": 41,
   "id": "1929dd59",
   "metadata": {
    "execution": {
     "iopub.execute_input": "2022-03-30T13:37:13.654914Z",
     "iopub.status.busy": "2022-03-30T13:37:13.654108Z",
     "iopub.status.idle": "2022-03-30T13:37:13.658482Z",
     "shell.execute_reply": "2022-03-30T13:37:13.659496Z",
     "shell.execute_reply.started": "2022-03-30T13:01:53.216748Z"
    },
    "papermill": {
     "duration": 0.263357,
     "end_time": "2022-03-30T13:37:13.659774",
     "exception": false,
     "start_time": "2022-03-30T13:37:13.396417",
     "status": "completed"
    },
    "tags": []
   },
   "outputs": [],
   "source": [
    "def show_image(img, title):\n",
    "  plt.title(title)\n",
    "  plt.imshow(img_1.permute(1,2,0))"
   ]
  },
  {
   "cell_type": "code",
   "execution_count": 42,
   "id": "b53acb79",
   "metadata": {
    "execution": {
     "iopub.execute_input": "2022-03-30T13:37:14.146669Z",
     "iopub.status.busy": "2022-03-30T13:37:14.145946Z",
     "iopub.status.idle": "2022-03-30T13:37:14.160976Z",
     "shell.execute_reply": "2022-03-30T13:37:14.161723Z",
     "shell.execute_reply.started": "2022-03-30T13:01:53.225383Z"
    },
    "papermill": {
     "duration": 0.25994,
     "end_time": "2022-03-30T13:37:14.161975",
     "exception": false,
     "start_time": "2022-03-30T13:37:13.902035",
     "status": "completed"
    },
    "tags": []
   },
   "outputs": [
    {
     "name": "stdout",
     "output_type": "stream",
     "text": [
      "486 5\n",
      "1530 2\n",
      "3394 5\n",
      "4676 7\n"
     ]
    }
   ],
   "source": [
    "example_list = []\n",
    "for itr in range(len_testset):\n",
    "  if test_actual_lbl[itr] == most_confident and test_preds_lbl[itr] != most_confident:\n",
    "    #print(f'{itr} {test_actual_lbl[itr]} {test_preds_lbl[itr]}')\n",
    "    example = [itr, test_preds_lbl[itr]]\n",
    "    example_list.append(example)\n",
    "len_example_list = len(example_list)\n",
    "\n",
    "total_eg = 0\n",
    "if len_example_list < 4:\n",
    "    total_eg = len_example_list\n",
    "else:\n",
    "    total_eg = 4\n",
    "\n",
    "images = []\n",
    "titles =[]\n",
    "for itr in range(total_eg):\n",
    "  index, predicted_lbl = example_list[itr]\n",
    "  print(f'{index} {predicted_lbl}')\n",
    "  img, true_label = test_dataset[index]\n",
    "  img_1 = (img*255).int()\n",
    "  title = 'Index: ' + str(index) + '\\nActual: ' + str(dataset_classes[most_confident]) + '\\nPredicted: ' + str(dataset_classes[predicted_lbl])\n",
    "  images.append(img_1)\n",
    "  titles.append(title)"
   ]
  },
  {
   "cell_type": "markdown",
   "id": "0bb961e4",
   "metadata": {
    "papermill": {
     "duration": 0.227787,
     "end_time": "2022-03-30T13:37:14.620708",
     "exception": false,
     "start_time": "2022-03-30T13:37:14.392921",
     "status": "completed"
    },
    "tags": []
   },
   "source": [
    "##### Example 1"
   ]
  },
  {
   "cell_type": "code",
   "execution_count": 43,
   "id": "183b849e",
   "metadata": {
    "execution": {
     "iopub.execute_input": "2022-03-30T13:37:15.106521Z",
     "iopub.status.busy": "2022-03-30T13:37:15.099183Z",
     "iopub.status.idle": "2022-03-30T13:37:15.316081Z",
     "shell.execute_reply": "2022-03-30T13:37:15.315603Z",
     "shell.execute_reply.started": "2022-03-30T13:01:53.246189Z"
    },
    "papermill": {
     "duration": 0.463439,
     "end_time": "2022-03-30T13:37:15.316216",
     "exception": false,
     "start_time": "2022-03-30T13:37:14.852777",
     "status": "completed"
    },
    "tags": []
   },
   "outputs": [
    {
     "data": {
      "image/png": "[encoded data removed]",
      "text/plain": [
       "<Figure size 432x288 with 1 Axes>"
      ]
     },
     "metadata": {
      "needs_background": "light"
     },
     "output_type": "display_data"
    }
   ],
   "source": [
    "if total_eg > 0:\n",
    "    show_image(images[0], titles[0])"
   ]
  },
  {
   "cell_type": "markdown",
   "id": "8415763b",
   "metadata": {
    "papermill": {
     "duration": 0.237081,
     "end_time": "2022-03-30T13:37:15.798584",
     "exception": false,
     "start_time": "2022-03-30T13:37:15.561503",
     "status": "completed"
    },
    "tags": []
   },
   "source": [
    "##### Example 2"
   ]
  },
  {
   "cell_type": "code",
   "execution_count": 44,
   "id": "7f459f79",
   "metadata": {
    "execution": {
     "iopub.execute_input": "2022-03-30T13:37:16.307857Z",
     "iopub.status.busy": "2022-03-30T13:37:16.306709Z",
     "iopub.status.idle": "2022-03-30T13:37:16.515814Z",
     "shell.execute_reply": "2022-03-30T13:37:16.516314Z",
     "shell.execute_reply.started": "2022-03-30T13:01:53.516847Z"
    },
    "papermill": {
     "duration": 0.478957,
     "end_time": "2022-03-30T13:37:16.516476",
     "exception": false,
     "start_time": "2022-03-30T13:37:16.037519",
     "status": "completed"
    },
    "tags": []
   },
   "outputs": [
    {
     "data": {
      "image/png": "[encoded data removed]",
      "text/plain": [
       "<Figure size 432x288 with 1 Axes>"
      ]
     },
     "metadata": {
      "needs_background": "light"
     },
     "output_type": "display_data"
    }
   ],
   "source": [
    "if total_eg > 1:\n",
    "    show_image(images[1], titles[1])"
   ]
  },
  {
   "cell_type": "markdown",
   "id": "f858e87f",
   "metadata": {
    "papermill": {
     "duration": 0.254817,
     "end_time": "2022-03-30T13:37:17.022529",
     "exception": false,
     "start_time": "2022-03-30T13:37:16.767712",
     "status": "completed"
    },
    "tags": []
   },
   "source": [
    "##### Example 3"
   ]
  },
  {
   "cell_type": "code",
   "execution_count": 45,
   "id": "38f7be33",
   "metadata": {
    "execution": {
     "iopub.execute_input": "2022-03-30T13:37:17.554918Z",
     "iopub.status.busy": "2022-03-30T13:37:17.552863Z",
     "iopub.status.idle": "2022-03-30T13:37:17.771781Z",
     "shell.execute_reply": "2022-03-30T13:37:17.772299Z",
     "shell.execute_reply.started": "2022-03-30T13:01:53.788743Z"
    },
    "papermill": {
     "duration": 0.497135,
     "end_time": "2022-03-30T13:37:17.772493",
     "exception": false,
     "start_time": "2022-03-30T13:37:17.275358",
     "status": "completed"
    },
    "tags": []
   },
   "outputs": [
    {
     "data": {
      "image/png": "[encoded data removed]",
      "text/plain": [
       "<Figure size 432x288 with 1 Axes>"
      ]
     },
     "metadata": {
      "needs_background": "light"
     },
     "output_type": "display_data"
    }
   ],
   "source": [
    "if total_eg > 2:\n",
    "    show_image(images[2], titles[2])"
   ]
  },
  {
   "cell_type": "markdown",
   "id": "5db53bae",
   "metadata": {
    "papermill": {
     "duration": 0.239522,
     "end_time": "2022-03-30T13:37:18.261045",
     "exception": false,
     "start_time": "2022-03-30T13:37:18.021523",
     "status": "completed"
    },
    "tags": []
   },
   "source": [
    "##### Example 4"
   ]
  },
  {
   "cell_type": "code",
   "execution_count": 46,
   "id": "45310357",
   "metadata": {
    "execution": {
     "iopub.execute_input": "2022-03-30T13:37:18.770011Z",
     "iopub.status.busy": "2022-03-30T13:37:18.763672Z",
     "iopub.status.idle": "2022-03-30T13:37:18.979047Z",
     "shell.execute_reply": "2022-03-30T13:37:18.978113Z",
     "shell.execute_reply.started": "2022-03-30T13:01:53.797150Z"
    },
    "papermill": {
     "duration": 0.477503,
     "end_time": "2022-03-30T13:37:18.979170",
     "exception": false,
     "start_time": "2022-03-30T13:37:18.501667",
     "status": "completed"
    },
    "tags": []
   },
   "outputs": [
    {
     "data": {
      "image/png": "[encoded data removed]",
      "text/plain": [
       "<Figure size 432x288 with 1 Axes>"
      ]
     },
     "metadata": {
      "needs_background": "light"
     },
     "output_type": "display_data"
    }
   ],
   "source": [
    "if total_eg > 3:\n",
    "    show_image(images[3], titles[3])"
   ]
  },
  {
   "cell_type": "markdown",
   "id": "8b5167b4",
   "metadata": {
    "id": "i13F7LQQkzSW",
    "papermill": {
     "duration": 0.269089,
     "end_time": "2022-03-30T13:37:19.512255",
     "exception": false,
     "start_time": "2022-03-30T13:37:19.243166",
     "status": "completed"
    },
    "tags": []
   },
   "source": [
    "#### Preparing Reports"
   ]
  },
  {
   "cell_type": "code",
   "execution_count": 47,
   "id": "5a5da7f1",
   "metadata": {
    "execution": {
     "iopub.execute_input": "2022-03-30T13:37:20.006212Z",
     "iopub.status.busy": "2022-03-30T13:37:20.005174Z",
     "iopub.status.idle": "2022-03-30T13:37:22.204479Z",
     "shell.execute_reply": "2022-03-30T13:37:22.205057Z",
     "shell.execute_reply.started": "2022-03-30T13:01:53.810653Z"
    },
    "id": "zfH_8yy4dIhl",
    "outputId": "c881609b-96eb-4b22-e050-993422036183",
    "papermill": {
     "duration": 2.436514,
     "end_time": "2022-03-30T13:37:22.205253",
     "exception": false,
     "start_time": "2022-03-30T13:37:19.768739",
     "status": "completed"
    },
    "tags": []
   },
   "outputs": [
    {
     "name": "stdout",
     "output_type": "stream",
     "text": [
      "\n",
      "Model Accuracy: 0.9553703703703704\n"
     ]
    },
    {
     "data": {
      "image/png": "[encoded data removed]",
      "text/plain": [
       "<Figure size 720x720 with 2 Axes>"
      ]
     },
     "metadata": {
      "needs_background": "light"
     },
     "output_type": "display_data"
    }
   ],
   "source": [
    "predict_and_prepare_report_on_testdata()"
   ]
  }
 ],
 "metadata": {
  "kernelspec": {
   "display_name": "Python 3 (ipykernel)",
   "language": "python",
   "name": "python3"
  },
  "language_info": {
   "codemirror_mode": {
    "name": "ipython",
    "version": 3
   },
   "file_extension": ".py",
   "mimetype": "text/x-python",
   "name": "python",
   "nbconvert_exporter": "python",
   "pygments_lexer": "ipython3",
   "version": "3.9.6"
  },
  "papermill": {
   "default_parameters": {},
   "duration": 1487.798768,
   "end_time": "2022-03-30T13:37:25.077041",
   "environment_variables": {},
   "exception": null,
   "input_path": "__notebook__.ipynb",
   "output_path": "__notebook__.ipynb",
   "parameters": {},
   "start_time": "2022-03-30T13:12:37.278273",
   "version": "2.3.3"
  },
  "widgets": {
   "application/vnd.jupyter.widget-state+json": {
    "state": {
     "31e4433717254f93bdb6a76811d3e85d": {
      "model_module": "@jupyter-widgets/controls",
      "model_module_version": "1.5.0",
      "model_name": "HBoxModel",
      "state": {
       "_dom_classes": [],
       "_model_module": "@jupyter-widgets/controls",
       "_model_module_version": "1.5.0",
       "_model_name": "HBoxModel",
       "_view_count": null,
       "_view_module": "@jupyter-widgets/controls",
       "_view_module_version": "1.5.0",
       "_view_name": "HBoxView",
       "box_style": "",
       "children": [
        "IPY_MODEL_c17cd953bfbb422e978e41022c65496b",
        "IPY_MODEL_cd345607809041b3b75bf6238f89ad82",
        "IPY_MODEL_a7fafe070c3549afac3eb4f9f8898d10"
       ],
       "layout": "IPY_MODEL_8d2239d9a04e461bba13e90e2e018df6"
      }
     },
     "483c7ae3555c4546bdf7f198adc2884f": {
      "model_module": "@jupyter-widgets/controls",
      "model_module_version": "1.5.0",
      "model_name": "ProgressStyleModel",
      "state": {
       "_model_module": "@jupyter-widgets/controls",
       "_model_module_version": "1.5.0",
       "_model_name": "ProgressStyleModel",
       "_view_count": null,
       "_view_module": "@jupyter-widgets/base",
       "_view_module_version": "1.2.0",
       "_view_name": "StyleView",
       "bar_color": null,
       "description_width": ""
      }
     },
     "6f30a23edc5c40d58815445324f7a0a3": {
      "model_module": "@jupyter-widgets/base",
      "model_module_version": "1.2.0",
      "model_name": "LayoutModel",
      "state": {
       "_model_module": "@jupyter-widgets/base",
       "_model_module_version": "1.2.0",
       "_model_name": "LayoutModel",
       "_view_count": null,
       "_view_module": "@jupyter-widgets/base",
       "_view_module_version": "1.2.0",
       "_view_name": "LayoutView",
       "align_content": null,
       "align_items": null,
       "align_self": null,
       "border": null,
       "bottom": null,
       "display": null,
       "flex": null,
       "flex_flow": null,
       "grid_area": null,
       "grid_auto_columns": null,
       "grid_auto_flow": null,
       "grid_auto_rows": null,
       "grid_column": null,
       "grid_gap": null,
       "grid_row": null,
       "grid_template_areas": null,
       "grid_template_columns": null,
       "grid_template_rows": null,
       "height": null,
       "justify_content": null,
       "justify_items": null,
       "left": null,
       "margin": null,
       "max_height": null,
       "max_width": null,
       "min_height": null,
       "min_width": null,
       "object_fit": null,
       "object_position": null,
       "order": null,
       "overflow": null,
       "overflow_x": null,
       "overflow_y": null,
       "padding": null,
       "right": null,
       "top": null,
       "visibility": null,
       "width": null
      }
     },
     "8d2239d9a04e461bba13e90e2e018df6": {
      "model_module": "@jupyter-widgets/base",
      "model_module_version": "1.2.0",
      "model_name": "LayoutModel",
      "state": {
       "_model_module": "@jupyter-widgets/base",
       "_model_module_version": "1.2.0",
       "_model_name": "LayoutModel",
       "_view_count": null,
       "_view_module": "@jupyter-widgets/base",
       "_view_module_version": "1.2.0",
       "_view_name": "LayoutView",
       "align_content": null,
       "align_items": null,
       "align_self": null,
       "border": null,
       "bottom": null,
       "display": null,
       "flex": null,
       "flex_flow": null,
       "grid_area": null,
       "grid_auto_columns": null,
       "grid_auto_flow": null,
       "grid_auto_rows": null,
       "grid_column": null,
       "grid_gap": null,
       "grid_row": null,
       "grid_template_areas": null,
       "grid_template_columns": null,
       "grid_template_rows": null,
       "height": null,
       "justify_content": null,
       "justify_items": null,
       "left": null,
       "margin": null,
       "max_height": null,
       "max_width": null,
       "min_height": null,
       "min_width": null,
       "object_fit": null,
       "object_position": null,
       "order": null,
       "overflow": null,
       "overflow_x": null,
       "overflow_y": null,
       "padding": null,
       "right": null,
       "top": null,
       "visibility": null,
       "width": null
      }
     },
     "a7fafe070c3549afac3eb4f9f8898d10": {
      "model_module": "@jupyter-widgets/controls",
      "model_module_version": "1.5.0",
      "model_name": "HTMLModel",
      "state": {
       "_dom_classes": [],
       "_model_module": "@jupyter-widgets/controls",
       "_model_module_version": "1.5.0",
       "_model_name": "HTMLModel",
       "_view_count": null,
       "_view_module": "@jupyter-widgets/controls",
       "_view_module_version": "1.5.0",
       "_view_name": "HTMLView",
       "description": "",
       "description_tooltip": null,
       "layout": "IPY_MODEL_deaac27dd0694ebb8fcdbff311592db9",
       "placeholder": "​",
       "style": "IPY_MODEL_bf46f548eaeb4d0c89e3b6bce637ce9c",
       "value": " 44.7M/44.7M [00:02&lt;00:00, 32.6MB/s]"
      }
     },
     "bf46f548eaeb4d0c89e3b6bce637ce9c": {
      "model_module": "@jupyter-widgets/controls",
      "model_module_version": "1.5.0",
      "model_name": "DescriptionStyleModel",
      "state": {
       "_model_module": "@jupyter-widgets/controls",
       "_model_module_version": "1.5.0",
       "_model_name": "DescriptionStyleModel",
       "_view_count": null,
       "_view_module": "@jupyter-widgets/base",
       "_view_module_version": "1.2.0",
       "_view_name": "StyleView",
       "description_width": ""
      }
     },
     "c17cd953bfbb422e978e41022c65496b": {
      "model_module": "@jupyter-widgets/controls",
      "model_module_version": "1.5.0",
      "model_name": "HTMLModel",
      "state": {
       "_dom_classes": [],
       "_model_module": "@jupyter-widgets/controls",
       "_model_module_version": "1.5.0",
       "_model_name": "HTMLModel",
       "_view_count": null,
       "_view_module": "@jupyter-widgets/controls",
       "_view_module_version": "1.5.0",
       "_view_name": "HTMLView",
       "description": "",
       "description_tooltip": null,
       "layout": "IPY_MODEL_e89b43f092804ba8b8466678d83f122b",
       "placeholder": "​",
       "style": "IPY_MODEL_dd65b776d4344229ac362686232bf34a",
       "value": "100%"
      }
     },
     "cd345607809041b3b75bf6238f89ad82": {
      "model_module": "@jupyter-widgets/controls",
      "model_module_version": "1.5.0",
      "model_name": "FloatProgressModel",
      "state": {
       "_dom_classes": [],
       "_model_module": "@jupyter-widgets/controls",
       "_model_module_version": "1.5.0",
       "_model_name": "FloatProgressModel",
       "_view_count": null,
       "_view_module": "@jupyter-widgets/controls",
       "_view_module_version": "1.5.0",
       "_view_name": "ProgressView",
       "bar_style": "success",
       "description": "",
       "description_tooltip": null,
       "layout": "IPY_MODEL_6f30a23edc5c40d58815445324f7a0a3",
       "max": 46830571,
       "min": 0,
       "orientation": "horizontal",
       "style": "IPY_MODEL_483c7ae3555c4546bdf7f198adc2884f",
       "value": 46830571
      }
     },
     "dd65b776d4344229ac362686232bf34a": {
      "model_module": "@jupyter-widgets/controls",
      "model_module_version": "1.5.0",
      "model_name": "DescriptionStyleModel",
      "state": {
       "_model_module": "@jupyter-widgets/controls",
       "_model_module_version": "1.5.0",
       "_model_name": "DescriptionStyleModel",
       "_view_count": null,
       "_view_module": "@jupyter-widgets/base",
       "_view_module_version": "1.2.0",
       "_view_name": "StyleView",
       "description_width": ""
      }
     },
     "deaac27dd0694ebb8fcdbff311592db9": {
      "model_module": "@jupyter-widgets/base",
      "model_module_version": "1.2.0",
      "model_name": "LayoutModel",
      "state": {
       "_model_module": "@jupyter-widgets/base",
       "_model_module_version": "1.2.0",
       "_model_name": "LayoutModel",
       "_view_count": null,
       "_view_module": "@jupyter-widgets/base",
       "_view_module_version": "1.2.0",
       "_view_name": "LayoutView",
       "align_content": null,
       "align_items": null,
       "align_self": null,
       "border": null,
       "bottom": null,
       "display": null,
       "flex": null,
       "flex_flow": null,
       "grid_area": null,
       "grid_auto_columns": null,
       "grid_auto_flow": null,
       "grid_auto_rows": null,
       "grid_column": null,
       "grid_gap": null,
       "grid_row": null,
       "grid_template_areas": null,
       "grid_template_columns": null,
       "grid_template_rows": null,
       "height": null,
       "justify_content": null,
       "justify_items": null,
       "left": null,
       "margin": null,
       "max_height": null,
       "max_width": null,
       "min_height": null,
       "min_width": null,
       "object_fit": null,
       "object_position": null,
       "order": null,
       "overflow": null,
       "overflow_x": null,
       "overflow_y": null,
       "padding": null,
       "right": null,
       "top": null,
       "visibility": null,
       "width": null
      }
     },
     "e89b43f092804ba8b8466678d83f122b": {
      "model_module": "@jupyter-widgets/base",
      "model_module_version": "1.2.0",
      "model_name": "LayoutModel",
      "state": {
       "_model_module": "@jupyter-widgets/base",
       "_model_module_version": "1.2.0",
       "_model_name": "LayoutModel",
       "_view_count": null,
       "_view_module": "@jupyter-widgets/base",
       "_view_module_version": "1.2.0",
       "_view_name": "LayoutView",
       "align_content": null,
       "align_items": null,
       "align_self": null,
       "border": null,
       "bottom": null,
       "display": null,
       "flex": null,
       "flex_flow": null,
       "grid_area": null,
       "grid_auto_columns": null,
       "grid_auto_flow": null,
       "grid_auto_rows": null,
       "grid_column": null,
       "grid_gap": null,
       "grid_row": null,
       "grid_template_areas": null,
       "grid_template_columns": null,
       "grid_template_rows": null,
       "height": null,
       "justify_content": null,
       "justify_items": null,
       "left": null,
       "margin": null,
       "max_height": null,
       "max_width": null,
       "min_height": null,
       "min_width": null,
       "object_fit": null,
       "object_position": null,
       "order": null,
       "overflow": null,
       "overflow_x": null,
       "overflow_y": null,
       "padding": null,
       "right": null,
       "top": null,
       "visibility": null,
       "width": null
      }
     }
    },
    "version_major": 2,
    "version_minor": 0
   }
  }
 },
 "nbformat": 4,
 "nbformat_minor": 5
}
