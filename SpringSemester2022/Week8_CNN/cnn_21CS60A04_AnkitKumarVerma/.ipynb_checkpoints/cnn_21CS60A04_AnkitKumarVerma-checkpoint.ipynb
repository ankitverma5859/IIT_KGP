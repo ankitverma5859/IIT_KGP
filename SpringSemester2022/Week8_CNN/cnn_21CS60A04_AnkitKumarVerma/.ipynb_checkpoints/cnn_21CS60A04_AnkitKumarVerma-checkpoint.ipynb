{
 "cells": [
  {
   "cell_type": "markdown",
   "id": "0303293f",
   "metadata": {},
   "source": [
    "# Task 1: CNN on EuroSAT dataset for Image Classification"
   ]
  },
  {
   "cell_type": "markdown",
   "id": "c14cab4d",
   "metadata": {},
   "source": [
    "#### Name: Ankit Kumar Verma\n",
    "#### R.No: 21CS60A04"
   ]
  },
  {
   "cell_type": "markdown",
   "id": "fa4dac46",
   "metadata": {},
   "source": [
    "### Setting Filepaths and Variables"
   ]
  },
  {
   "cell_type": "code",
   "execution_count": 65,
   "id": "8a9bd69e",
   "metadata": {},
   "outputs": [],
   "source": [
    "dataset_filepath = '../Dataset/euroSAT_train_val_test.pkl'\n",
    "batch_size = 64\n",
    "num_epochs = 1\n",
    "lr = 0.001\n",
    "# Early stopping epoch value if validation doesnt improve\n",
    "k = 2"
   ]
  },
  {
   "cell_type": "markdown",
   "id": "87f96085",
   "metadata": {},
   "source": [
    "### Importing required libraries"
   ]
  },
  {
   "cell_type": "code",
   "execution_count": 5,
   "id": "9d78ef5e",
   "metadata": {},
   "outputs": [],
   "source": [
    "import pickle\n",
    "import os\n",
    "import torch\n",
    "import torch.nn as nn\n",
    "import torch.nn.functional as F\n",
    "import torchvision\n",
    "import numpy as np\n",
    "from torch.utils.data.dataloader import DataLoader\n",
    "from torchvision.transforms import ToTensor\n",
    "from torchvision.utils import make_grid\n",
    "import matplotlib.pyplot as plt\n",
    "from sklearn.metrics import confusion_matrix, ConfusionMatrixDisplay"
   ]
  },
  {
   "cell_type": "markdown",
   "id": "b0a15df6",
   "metadata": {},
   "source": [
    "#### Setting the random_seed to 04 (Roll Number: 21CS60A04)"
   ]
  },
  {
   "cell_type": "code",
   "execution_count": 6,
   "id": "2ea8d8c5",
   "metadata": {},
   "outputs": [
    {
     "data": {
      "text/plain": [
       "<torch._C.Generator at 0x105264f70>"
      ]
     },
     "execution_count": 6,
     "metadata": {},
     "output_type": "execute_result"
    }
   ],
   "source": [
    "# random seed initialized the random number generator of pytorch. \n",
    "# It ensures that same random number is generated for all the runs/executions\n",
    "random_seed = int(4)\n",
    "torch.manual_seed(random_seed)"
   ]
  },
  {
   "cell_type": "markdown",
   "id": "805f317d",
   "metadata": {},
   "source": [
    "#### Loading the Dataset"
   ]
  },
  {
   "cell_type": "code",
   "execution_count": 7,
   "id": "be728632",
   "metadata": {},
   "outputs": [],
   "source": [
    "dataset_classes = ['AnnualCrop', 'Forest', 'HerbaceousVeg', 'Highway', 'Industrial', 'Pasture', 'PermanentCrop', 'Residential', 'River', 'SeaLake']"
   ]
  },
  {
   "cell_type": "code",
   "execution_count": 8,
   "id": "25606784",
   "metadata": {},
   "outputs": [],
   "source": [
    "with open(dataset_filepath, 'rb') as f:\n",
    "    train_set, val_set, test_set = pickle.load(f)"
   ]
  },
  {
   "cell_type": "code",
   "execution_count": 9,
   "id": "38ec327c",
   "metadata": {
    "scrolled": true
   },
   "outputs": [
    {
     "name": "stdout",
     "output_type": "stream",
     "text": [
      "Length of Training Set: 18792\n",
      "Length of Validation Set: 2808\n",
      "Length of Test Set: 5400\n"
     ]
    }
   ],
   "source": [
    "len_trainset = len(train_set)\n",
    "len_valset = len(val_set)\n",
    "len_testset = len(test_set)\n",
    "print(f'Length of Training Set: {len_trainset}\\nLength of Validation Set: {len_valset}\\nLength of Test Set: {len_testset}')"
   ]
  },
  {
   "cell_type": "markdown",
   "id": "8b23f46c",
   "metadata": {},
   "source": [
    "#### Extracting an instance from the dataset"
   ]
  },
  {
   "cell_type": "code",
   "execution_count": 10,
   "id": "2381077f",
   "metadata": {
    "scrolled": true
   },
   "outputs": [
    {
     "name": "stdout",
     "output_type": "stream",
     "text": [
      "Image: <class 'numpy.ndarray'>\n",
      "[[[0.41960785 0.4745098  0.42745098 ... 0.54509807 0.5372549  0.49411765]\n",
      "  [0.43529412 0.4627451  0.40784314 ... 0.5568628  0.5372549  0.46666667]\n",
      "  [0.44313726 0.44313726 0.38039216 ... 0.4627451  0.41568628 0.38039216]\n",
      "  ...\n",
      "  [0.5176471  0.5176471  0.49803922 ... 0.44705883 0.4509804  0.48235294]\n",
      "  [0.5058824  0.5137255  0.53333336 ... 0.4862745  0.42352942 0.46666667]\n",
      "  [0.48235294 0.4745098  0.4745098  ... 0.41568628 0.3764706  0.45882353]]\n",
      "\n",
      " [[0.47843137 0.45490196 0.38039216 ... 0.5294118  0.5176471  0.47058824]\n",
      "  [0.47058824 0.45882353 0.38039216 ... 0.52156866 0.5137255  0.4745098 ]\n",
      "  [0.4627451  0.45882353 0.3882353  ... 0.41568628 0.4        0.40784314]\n",
      "  ...\n",
      "  [0.50980395 0.5137255  0.5058824  ... 0.41568628 0.4117647  0.43137255]\n",
      "  [0.49803922 0.5019608  0.5294118  ... 0.46666667 0.4        0.44313726]\n",
      "  [0.45882353 0.4627451  0.47058824 ... 0.4117647  0.37254903 0.47058824]]\n",
      "\n",
      " [[0.49019608 0.47058824 0.39607844 ... 0.5254902  0.53333336 0.50980395]\n",
      "  [0.49019608 0.48235294 0.4117647  ... 0.5411765  0.5529412  0.53333336]\n",
      "  [0.4862745  0.49411765 0.43529412 ... 0.4627451  0.45882353 0.48235294]\n",
      "  ...\n",
      "  [0.5647059  0.5686275  0.5568628  ... 0.45882353 0.45490196 0.47058824]\n",
      "  [0.54901963 0.54509807 0.56078434 ... 0.49411765 0.4392157  0.48235294]\n",
      "  [0.5058824  0.49803922 0.49411765 ... 0.43137255 0.39607844 0.5058824 ]]]\n",
      "Label: <class 'int'>\n",
      "7 : Residential\n"
     ]
    }
   ],
   "source": [
    "img, label = train_set[0]\n",
    "print(f'Image: {type(img)}')\n",
    "print(img)\n",
    "print(f'Label: {type(label)}')\n",
    "print(f'{label} : {dataset_classes[label]}')"
   ]
  },
  {
   "cell_type": "markdown",
   "id": "bb9905d4",
   "metadata": {},
   "source": [
    "#### Converting train_dataset to Tensors"
   ]
  },
  {
   "cell_type": "code",
   "execution_count": 11,
   "id": "7acdbb25",
   "metadata": {},
   "outputs": [],
   "source": [
    "train_dataset = []\n",
    "for itr in range(len_trainset):\n",
    "    data = []\n",
    "    img = torch.tensor(train_set[itr][0])\n",
    "    lbl = train_set[itr][1]\n",
    "    data.append(img)\n",
    "    data.append(lbl)\n",
    "    train_dataset.append(data)"
   ]
  },
  {
   "cell_type": "markdown",
   "id": "f1bf9a53",
   "metadata": {},
   "source": [
    "#### Extracting an instance from train_dataset(Tensors)"
   ]
  },
  {
   "cell_type": "code",
   "execution_count": 12,
   "id": "b20d6273",
   "metadata": {
    "scrolled": true
   },
   "outputs": [
    {
     "name": "stdout",
     "output_type": "stream",
     "text": [
      "Image1 Shape:\ttorch.Size([3, 64, 64])\n",
      "Image1 label:\tResidential\n",
      "Image2 Shape:\ttorch.Size([3, 64, 64])\n",
      "Image2 label:\tIndustrial\n"
     ]
    }
   ],
   "source": [
    "img1, label1 = train_dataset[0]\n",
    "img2, label2 = train_dataset[1]\n",
    "print(f'Image1 Shape:\\t{img1.shape}\\nImage1 label:\\t{dataset_classes[label1]}')\n",
    "print(f'Image2 Shape:\\t{img2.shape}\\nImage2 label:\\t{dataset_classes[label2]}')"
   ]
  },
  {
   "cell_type": "markdown",
   "id": "9c15ecd2",
   "metadata": {},
   "source": [
    "#### Converting val_set to Tensors"
   ]
  },
  {
   "cell_type": "code",
   "execution_count": 13,
   "id": "b4571732",
   "metadata": {},
   "outputs": [],
   "source": [
    "val_dataset = []\n",
    "for itr in range(len_valset):\n",
    "    data = []\n",
    "    img = torch.tensor(val_set[itr][0])\n",
    "    lbl = val_set[itr][1]\n",
    "    data.append(img)\n",
    "    data.append(lbl)\n",
    "    val_dataset.append(data)"
   ]
  },
  {
   "cell_type": "markdown",
   "id": "a58d7f24",
   "metadata": {},
   "source": [
    "#### Converting test_set to Tensors"
   ]
  },
  {
   "cell_type": "code",
   "execution_count": 14,
   "id": "f4c242d9",
   "metadata": {},
   "outputs": [],
   "source": [
    "test_dataset = []\n",
    "for itr in range(len_testset):\n",
    "    data = []\n",
    "    img = torch.tensor(test_set[itr][0])\n",
    "    lbl = test_set[itr][1]\n",
    "    data.append(img)\n",
    "    data.append(lbl)\n",
    "    test_dataset.append(data)"
   ]
  },
  {
   "cell_type": "markdown",
   "id": "db19c384",
   "metadata": {},
   "source": [
    "#### Creating the training and validation dataloaders"
   ]
  },
  {
   "cell_type": "code",
   "execution_count": 15,
   "id": "6a509031",
   "metadata": {},
   "outputs": [],
   "source": [
    "#### How to select batch_size\n",
    "#### Start with 64\n",
    "#### Keep doubling the batch size as you train. If the training time decreases, keep the higher batch size.\n",
    "#### At some point the training time will start increasing, it happens because the amount of data that is put on RAM/GPU\n",
    "#### for each batch of gradient descent may be using all the cpu/gpu cores that is available which would be taking longer\n",
    "#### to compute rather than a smaller batch.\n",
    "#### You might get out of memory error because the batch size if not fitting on the cpu/gpu\n",
    "\n",
    "#### Rule of Thumb:\n",
    "#### Double the batch size until the training time decreases\n",
    "#### Half the batch size if you are getting out of memory error\n",
    "#### Keep the batch_size of validation set double then that of training_set. This is because gradient descent is \n",
    "#### not calculated during validatio stage. Since, gradient descent is not calculated, only half of the memory\n",
    "#### compared to the training is required."
   ]
  },
  {
   "cell_type": "code",
   "execution_count": 17,
   "id": "ddae2835",
   "metadata": {},
   "outputs": [],
   "source": [
    "train_dl = DataLoader(train_dataset, \n",
    "                      batch_size,\n",
    "                      shuffle=True,\n",
    "                      num_workers=4,\n",
    "                      pin_memory=True)\n",
    "val_dl = DataLoader(val_dataset, \n",
    "                  batch_size*2,\n",
    "                  num_workers=4,\n",
    "                  pin_memory=True) "
   ]
  },
  {
   "cell_type": "markdown",
   "id": "e0bca602",
   "metadata": {},
   "source": [
    "### Building Model for classification"
   ]
  },
  {
   "cell_type": "code",
   "execution_count": 18,
   "id": "328c9b75",
   "metadata": {},
   "outputs": [],
   "source": [
    "# Generic Class to classify images\n",
    "# Loss Function: cross_entropy\n",
    "class ImageClassificationBase(nn.Module):\n",
    "    # Training Step\n",
    "    def training_step(self, batch):\n",
    "        images, labels = batch\n",
    "        res = self(images)\n",
    "        loss = F.cross_entropy(res, labels)\n",
    "        return loss\n",
    "    \n",
    "    # Validation step\n",
    "    def validation_step(self, batch, file_pointer=None):\n",
    "        images, labels = batch\n",
    "        res = self(images)\n",
    "        loss = F.cross_entropy(res, labels)\n",
    "        acc = accuracy(res, labels, file_pointer)\n",
    "        return {'val_loss': loss.detach(), 'val_acc': acc}\n",
    "    \n",
    "    # This function will take losseses and accuracies of all the different batches and\n",
    "    # provide the mean of it\n",
    "    # It will return a single accuracy for the validation set and a single accuracy for the validation set\n",
    "    def validation_epoch_end(self, outputs):\n",
    "        batch_losses = [x['val_loss'] for x in outputs]\n",
    "        epoch_loss = torch.stack(batch_losses).mean()   \n",
    "        batch_accs = [x['val_acc'] for x in outputs]\n",
    "        epoch_acc = torch.stack(batch_accs).mean()      \n",
    "        return {'val_loss': epoch_loss.item(), 'val_acc': epoch_acc.item()}\n",
    "    \n",
    "    def epoch_end(self, epoch, result):\n",
    "        print(\"Epoch [{}], train_loss: {:.4f}, val_loss: {:.4f}, val_acc: {:.4f}\".format(\n",
    "            epoch, result['train_loss'], result['val_loss'], result['val_acc']))\n",
    "    \n",
    "# Function to calculate the accuracy given outputs and labels\n",
    "# Return the accuracy in percentage\n",
    "def accuracy(outputs, labels, file_pointer=None):\n",
    "    _, preds = torch.max(outputs, dim=1)\n",
    "    count = 0\n",
    "    # The following code writes the prediction of each data instance for future reference\n",
    "    if file_pointer != None:\n",
    "        for pred in preds:\n",
    "            line_entry = \"'\" + str(count) + \"'\" +  \",\" + \"'\" + str(pred) + \"'\"\n",
    "            file_pointer.write(line_entry)\n",
    "            count += 1\n",
    "            #print(line_entry)\n",
    "            file_pointer.write('\\n')\n",
    "    return torch.tensor(torch.sum(preds == labels).item() / len(preds))"
   ]
  },
  {
   "cell_type": "markdown",
   "id": "6f48c68c",
   "metadata": {},
   "source": [
    "#### Creating the convolution layers of the model"
   ]
  },
  {
   "cell_type": "code",
   "execution_count": 19,
   "id": "4549b118",
   "metadata": {},
   "outputs": [],
   "source": [
    "# Kernel:   a n*n matrix that is applied to the image\n",
    "# Stride:   stride value is the length by which the kerner moves over the image\n",
    "# Max Pool: max pool of 2*2 takes the max of the 2*2 in the images. It decreases the size of the image for further \n",
    "#           layers.\n",
    "\n",
    "# Refer:    Understanding Convolutions for Deep Learning: https://towardsdatascience.com/intuitively-understanding-convolutions-for-deep-learning-1f6f42faee1\n",
    "#.          Max Pooling: https://computersciencewiki.org/index.php/Max-pooling_/_Pooling"
   ]
  },
  {
   "cell_type": "code",
   "execution_count": 20,
   "id": "0dc30022",
   "metadata": {},
   "outputs": [],
   "source": [
    "class EuroSATCnnModel(ImageClassificationBase):\n",
    "    def __init__(self):\n",
    "        super().__init__()\n",
    "        self.network = nn.Sequential(                                                               # 3*32*32\n",
    "                    nn.Conv2d(3, 64, kernel_size=3, stride=2, padding=1),                           # 64*32*32\n",
    "                    # What ReLU does is, in the feature map obtained in the last layer\n",
    "                    # it replaces all the negative values to 0 and retains the positive values\n",
    "                    nn.ReLU(),\n",
    "                    nn.MaxPool2d(2, 2),                                                             # 64*16*16\n",
    "    \n",
    "                    nn.Conv2d(64, 96, kernel_size=3, padding=1),                                    # 96*16*16\n",
    "                    nn.ReLU(),\n",
    "                    nn.MaxPool2d(2, 2),                                                             # 96*8*8\n",
    "    \n",
    "                    nn.Conv2d(96, 192, kernel_size=3, padding=1),                                   # 192*8*8\n",
    "                    nn.ReLU(),\n",
    "                    nn.MaxPool2d(2, 2),                                                             # 192*4*4\n",
    "            \n",
    "                    # Convert the 192*4*4 feature map to a vector\n",
    "                    # Why do we do this? At the end we need a vector of size of 10(10 classes)\n",
    "                    nn.Flatten(),\n",
    "                    nn.Linear(192*4*4, 1024),\n",
    "                    nn.ReLU(),\n",
    "                    nn.Dropout(0.5),\n",
    "                    nn.Linear(1024, 512),\n",
    "                    nn.ReLU(),\n",
    "                    nn.Linear(512, 10))\n",
    "            \n",
    "    def forward(self, xb):\n",
    "        return self.network(xb)       "
   ]
  },
  {
   "cell_type": "markdown",
   "id": "e831995d",
   "metadata": {},
   "source": [
    "#### Creating an instance of EuroSATCnnModel"
   ]
  },
  {
   "cell_type": "code",
   "execution_count": 21,
   "id": "8e809c72",
   "metadata": {
    "scrolled": true
   },
   "outputs": [
    {
     "data": {
      "text/plain": [
       "EuroSATCnnModel(\n",
       "  (network): Sequential(\n",
       "    (0): Conv2d(3, 64, kernel_size=(3, 3), stride=(2, 2), padding=(1, 1))\n",
       "    (1): ReLU()\n",
       "    (2): MaxPool2d(kernel_size=2, stride=2, padding=0, dilation=1, ceil_mode=False)\n",
       "    (3): Conv2d(64, 96, kernel_size=(3, 3), stride=(1, 1), padding=(1, 1))\n",
       "    (4): ReLU()\n",
       "    (5): MaxPool2d(kernel_size=2, stride=2, padding=0, dilation=1, ceil_mode=False)\n",
       "    (6): Conv2d(96, 192, kernel_size=(3, 3), stride=(1, 1), padding=(1, 1))\n",
       "    (7): ReLU()\n",
       "    (8): MaxPool2d(kernel_size=2, stride=2, padding=0, dilation=1, ceil_mode=False)\n",
       "    (9): Flatten(start_dim=1, end_dim=-1)\n",
       "    (10): Linear(in_features=3072, out_features=1024, bias=True)\n",
       "    (11): ReLU()\n",
       "    (12): Dropout(p=0.5, inplace=False)\n",
       "    (13): Linear(in_features=1024, out_features=512, bias=True)\n",
       "    (14): ReLU()\n",
       "    (15): Linear(in_features=512, out_features=10, bias=True)\n",
       "  )\n",
       ")"
      ]
     },
     "execution_count": 21,
     "metadata": {},
     "output_type": "execute_result"
    }
   ],
   "source": [
    "model = EuroSATCnnModel()\n",
    "model"
   ]
  },
  {
   "cell_type": "markdown",
   "id": "1952f0f9",
   "metadata": {},
   "source": [
    "#### Defining the evaluate and fit functions for the model"
   ]
  },
  {
   "cell_type": "code",
   "execution_count": 66,
   "id": "bfbd2da9",
   "metadata": {},
   "outputs": [],
   "source": [
    "# Evaluation function for the validation and test dataset\n",
    "@torch.no_grad()\n",
    "def evaluate(model, val_loader, file_pointer=None):\n",
    "    model.eval()\n",
    "    outputs = [model.validation_step(batch, file_pointer) for batch in val_loader]\n",
    "    return model.validation_epoch_end(outputs)\n",
    "\n",
    "# Fit function for the training dataset\n",
    "# Optimizer: Adam Optimizer\n",
    "# Return the history object which stores the statistics of each epochs\n",
    "def fit(epochs, lr, model, train_loader, val_loader, opt_func=torch.optim.Adam):\n",
    "    history = []\n",
    "    optimizer = opt_func(model.parameters(), lr)\n",
    "    \n",
    "    prev_acc = 0\n",
    "    count = k\n",
    "    for epoch in range(epochs):\n",
    "        # Training Phase of the model\n",
    "        model.train()\n",
    "        train_losses = []\n",
    "        for batch in train_loader:\n",
    "            loss = model.training_step(batch)\n",
    "            train_losses.append(loss)\n",
    "            loss.backward()\n",
    "            optimizer.step()\n",
    "            optimizer.zero_grad()\n",
    "        # Validation phase of the model\n",
    "        result = evaluate(model, val_loader)\n",
    "        if result[val_acc] > prev_acc:\n",
    "            prev_acc = result[val_acc]\n",
    "            count = k\n",
    "        else:\n",
    "            count -= 1\n",
    "        \n",
    "        result['train_loss'] = torch.stack(train_losses).mean().item()\n",
    "        model.epoch_end(epoch, result)\n",
    "        history.append(result)\n",
    "        if count == 0:\n",
    "            break\n",
    "    return history"
   ]
  },
  {
   "cell_type": "markdown",
   "id": "b18cc613",
   "metadata": {},
   "source": [
    "#### Setting the training parameters"
   ]
  },
  {
   "cell_type": "code",
   "execution_count": 67,
   "id": "a9347052",
   "metadata": {},
   "outputs": [],
   "source": [
    "opt_func = torch.optim.Adam"
   ]
  },
  {
   "cell_type": "markdown",
   "id": "ed01f69a",
   "metadata": {},
   "source": [
    "#### Training the model"
   ]
  },
  {
   "cell_type": "code",
   "execution_count": 68,
   "id": "383d82d5",
   "metadata": {
    "scrolled": false
   },
   "outputs": [
    {
     "name": "stdout",
     "output_type": "stream",
     "text": [
      "{'val_loss': 0.6809484958648682, 'val_acc': 0.744981050491333}\n",
      "Epoch [0], train_loss: 0.7925, val_loss: 0.6809, val_acc: 0.7450\n"
     ]
    }
   ],
   "source": [
    "history = fit(num_epochs, lr, model, train_dl, val_dl, opt_func)"
   ]
  },
  {
   "cell_type": "code",
   "execution_count": 28,
   "id": "2ec8bce6",
   "metadata": {},
   "outputs": [],
   "source": [
    "torch.save(model.state_dict(), 'logs_cnn/model-weights-cnn.pth')"
   ]
  },
  {
   "cell_type": "code",
   "execution_count": 29,
   "id": "1255bfce",
   "metadata": {},
   "outputs": [],
   "source": [
    "hfile = open('logs_cnn/history.json', 'w')\n",
    "hfile.write(f'{str(history)}')\n",
    "hfile.close()"
   ]
  },
  {
   "cell_type": "code",
   "execution_count": 50,
   "id": "7468f33b",
   "metadata": {},
   "outputs": [
    {
     "name": "stdout",
     "output_type": "stream",
     "text": [
      "--2022-03-30 23:13:51--  https://github.com/ankitverma5859/IIT_KGP/raw/main/SprintSemester2022/Week8/CNN/cnn_best.pth\n",
      "Resolving github.com (github.com)... 13.234.176.102\n",
      "Connecting to github.com (github.com)|13.234.176.102|:443... connected.\n",
      "HTTP request sent, awaiting response... 302 Found\n",
      "Location: https://raw.githubusercontent.com/ankitverma5859/IIT_KGP/main/SprintSemester2022/Week8/CNN/cnn_best.pth [following]\n",
      "--2022-03-30 23:13:51--  https://raw.githubusercontent.com/ankitverma5859/IIT_KGP/main/SprintSemester2022/Week8/CNN/cnn_best.pth\n",
      "Resolving raw.githubusercontent.com (raw.githubusercontent.com)... 185.199.108.133, 185.199.109.133, 185.199.110.133, ...\n",
      "Connecting to raw.githubusercontent.com (raw.githubusercontent.com)|185.199.108.133|:443... connected.\n",
      "HTTP request sent, awaiting response... 200 OK\n",
      "Length: 15603393 (15M) [application/octet-stream]\n",
      "Saving to: ‘logs_cnn/cnn_best.pth’\n",
      "\n",
      "cnn_best.pth        100%[===================>]  14.88M  25.6MB/s    in 0.6s    \n",
      "\n",
      "2022-03-30 23:13:54 (25.6 MB/s) - ‘logs_cnn/cnn_best.pth’ saved [15603393/15603393]\n",
      "\n"
     ]
    }
   ],
   "source": [
    "!wget -L 'https://github.com/ankitverma5859/IIT_KGP/raw/main/SprintSemester2022/Week8/CNN/cnn_best.pth' -P 'logs_cnn/'"
   ]
  },
  {
   "cell_type": "code",
   "execution_count": 52,
   "id": "57d5c110",
   "metadata": {},
   "outputs": [
    {
     "data": {
      "text/plain": [
       "<All keys matched successfully>"
      ]
     },
     "execution_count": 52,
     "metadata": {},
     "output_type": "execute_result"
    }
   ],
   "source": [
    "model_2 = EuroSATCnnModel()\n",
    "model_2.load_state_dict(torch.load('logs_cnn/cnn_best.pth'))"
   ]
  },
  {
   "cell_type": "code",
   "execution_count": 53,
   "id": "5357c946",
   "metadata": {},
   "outputs": [],
   "source": [
    "test_dl = DataLoader(test_dataset, \n",
    "                  batch_size*2) "
   ]
  },
  {
   "cell_type": "markdown",
   "id": "c0a5e206",
   "metadata": {},
   "source": [
    "### Result Analsis"
   ]
  },
  {
   "cell_type": "markdown",
   "id": "94d4c9e7",
   "metadata": {},
   "source": [
    "### Accuracy on Validation Set"
   ]
  },
  {
   "cell_type": "code",
   "execution_count": 54,
   "id": "1ae4dea4",
   "metadata": {},
   "outputs": [
    {
     "data": {
      "text/plain": [
       "{'val_loss': 0.36181023716926575, 'val_acc': 0.8775331377983093}"
      ]
     },
     "execution_count": 54,
     "metadata": {},
     "output_type": "execute_result"
    }
   ],
   "source": [
    "evaluate(model_2, val_dl)"
   ]
  },
  {
   "cell_type": "markdown",
   "id": "7d9b5bb4",
   "metadata": {},
   "source": [
    "### Accuracy on Test Set"
   ]
  },
  {
   "cell_type": "code",
   "execution_count": 55,
   "id": "2f6a867e",
   "metadata": {
    "scrolled": true
   },
   "outputs": [
    {
     "data": {
      "text/plain": [
       "{'val_loss': 0.37275230884552, 'val_acc': 0.8687015771865845}"
      ]
     },
     "execution_count": 55,
     "metadata": {},
     "output_type": "execute_result"
    }
   ],
   "source": [
    "evaluate(model_2, test_dl)"
   ]
  },
  {
   "cell_type": "markdown",
   "id": "a01fb3bd",
   "metadata": {},
   "source": [
    "#### Training Loss Graph"
   ]
  },
  {
   "cell_type": "code",
   "execution_count": 56,
   "id": "2944ad6c",
   "metadata": {},
   "outputs": [
    {
     "data": {
      "image/png": "[encoded data removed]",
      "text/plain": [
       "<Figure size 432x288 with 1 Axes>"
      ]
     },
     "metadata": {
      "needs_background": "light"
     },
     "output_type": "display_data"
    }
   ],
   "source": [
    "def plot_train_loss(history):\n",
    "    accuracies = [x['train_loss'] for x in history]\n",
    "    plt.plot(accuracies, '-x')\n",
    "    plt.xlabel('Epoch')\n",
    "    plt.ylabel('Trainig Loss')\n",
    "    plt.title('Training Loss vs. No. of Epochs');\n",
    "\n",
    "plot_train_loss(history)"
   ]
  },
  {
   "cell_type": "markdown",
   "id": "cbcec194",
   "metadata": {},
   "source": [
    "#### Validation Loss Graph"
   ]
  },
  {
   "cell_type": "code",
   "execution_count": 57,
   "id": "617b3b22",
   "metadata": {},
   "outputs": [
    {
     "data": {
      "image/png": "[encoded data removed]",
      "text/plain": [
       "<Figure size 432x288 with 1 Axes>"
      ]
     },
     "metadata": {
      "needs_background": "light"
     },
     "output_type": "display_data"
    }
   ],
   "source": [
    "def plot_val_loss(history):\n",
    "    accuracies = [x['val_loss'] for x in history]\n",
    "    plt.plot(accuracies, '-x')\n",
    "    plt.xlabel('Epoch')\n",
    "    plt.ylabel('Validation Loss')\n",
    "    plt.title('Validation Loss vs. No. of Epochs');\n",
    "\n",
    "plot_val_loss(history)"
   ]
  },
  {
   "cell_type": "markdown",
   "id": "a9a4d69f",
   "metadata": {},
   "source": [
    "#### Validation Accuracy Graph"
   ]
  },
  {
   "cell_type": "code",
   "execution_count": 58,
   "id": "88cdd83c",
   "metadata": {
    "scrolled": true
   },
   "outputs": [
    {
     "data": {
      "image/png": "[encoded data removed]",
      "text/plain": [
       "<Figure size 432x288 with 1 Axes>"
      ]
     },
     "metadata": {
      "needs_background": "light"
     },
     "output_type": "display_data"
    }
   ],
   "source": [
    "def plot_val_accuracy(history):\n",
    "    accuracies = [x['val_acc'] for x in history]\n",
    "    plt.plot(accuracies, '-x')\n",
    "    plt.xlabel('Epoch')\n",
    "    plt.ylabel('Accuracy')\n",
    "    plt.title('Validation Accuracy vs. No. of Epochs');\n",
    "\n",
    "plot_val_accuracy(history)"
   ]
  },
  {
   "cell_type": "markdown",
   "id": "f0ed3a5d",
   "metadata": {},
   "source": [
    "#### Confusion Matrix for the Prediction with Best Model"
   ]
  },
  {
   "cell_type": "code",
   "execution_count": 59,
   "id": "00ef1288",
   "metadata": {
    "scrolled": false
   },
   "outputs": [],
   "source": [
    "true_test_labels = []\n",
    "for itr in range(len_testset):\n",
    "    true_test_labels.append(test_set[itr][1])"
   ]
  },
  {
   "cell_type": "code",
   "execution_count": 60,
   "id": "ea11321a",
   "metadata": {
    "scrolled": false
   },
   "outputs": [],
   "source": [
    "file = open('logs_cnn/pred.csv', 'w')\n",
    "evaluate(model_2, test_dl, file)\n",
    "file.close()"
   ]
  },
  {
   "cell_type": "code",
   "execution_count": 61,
   "id": "70b06629",
   "metadata": {},
   "outputs": [],
   "source": [
    "import re\n",
    "predicted_test_labels = []\n",
    "p_file = open('logs_cnn/pred.csv', 'r')\n",
    "p_formatted = open('logs_cnn/submission', 'w')\n",
    "p_formatted.write(f\"id,label\\n\")\n",
    "lines = p_file.readlines()\n",
    "count = 0\n",
    "for line in lines:\n",
    "    s1, s2 = line.split(',')\n",
    "    s2 = re.sub('tensor', '', s2)\n",
    "    s2 = re.sub('\\(', '', s2)\n",
    "    s2 = re.sub('\\)', '', s2)\n",
    "    s2 = re.sub('\\'', '', s2)\n",
    "    s2 = re.sub('\\\\n', '', s2)\n",
    "    predicted_test_labels.append(int(s2))\n",
    "    entry = str(count) + \",\" + str(s2)\n",
    "    p_formatted.write(f\"{count},{s2}\\n\")\n",
    "    count += 1\n",
    "p_file.close()\n",
    "p_formatted.close()\n",
    "#print(predicted_test_labels)"
   ]
  },
  {
   "cell_type": "code",
   "execution_count": 62,
   "id": "1ef776d5",
   "metadata": {},
   "outputs": [
    {
     "data": {
      "text/plain": [
       "<sklearn.metrics._plot.confusion_matrix.ConfusionMatrixDisplay at 0x35ee20fd0>"
      ]
     },
     "execution_count": 62,
     "metadata": {},
     "output_type": "execute_result"
    },
    {
     "data": {
      "image/png": "[encoded data removed]",
      "text/plain": [
       "<Figure size 1224x1224 with 2 Axes>"
      ]
     },
     "metadata": {
      "needs_background": "light"
     },
     "output_type": "display_data"
    }
   ],
   "source": [
    "y_true = np.array(true_test_labels)\n",
    "y_pred = np.array(predicted_test_labels)\n",
    "cm = confusion_matrix(y_true, y_pred)\n",
    "cmp = ConfusionMatrixDisplay(cm, display_labels=dataset_classes)\n",
    "fig, ax = plt.subplots(figsize=(17,17))\n",
    "cmp.plot(ax=ax)"
   ]
  },
  {
   "cell_type": "markdown",
   "id": "1a9a88a9",
   "metadata": {},
   "source": [
    "### End"
   ]
  }
 ],
 "metadata": {
  "kernelspec": {
   "display_name": "Python 3 (ipykernel)",
   "language": "python",
   "name": "python3"
  },
  "language_info": {
   "codemirror_mode": {
    "name": "ipython",
    "version": 3
   },
   "file_extension": ".py",
   "mimetype": "text/x-python",
   "name": "python",
   "nbconvert_exporter": "python",
   "pygments_lexer": "ipython3",
   "version": "3.9.6"
  }
 },
 "nbformat": 4,
 "nbformat_minor": 5
}
